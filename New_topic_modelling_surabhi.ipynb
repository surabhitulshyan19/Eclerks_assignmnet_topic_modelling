{
 "cells": [
  {
   "cell_type": "markdown",
   "metadata": {},
   "source": [
    "# Topic Modelling using LDA"
   ]
  },
  {
   "cell_type": "markdown",
   "metadata": {},
   "source": [
    "#### Impoting Libraries"
   ]
  },
  {
   "cell_type": "code",
   "execution_count": 4,
   "metadata": {},
   "outputs": [],
   "source": [
    "import pandas as pd\n",
    "import numpy as np\n",
    "import re\n",
    "import os\n",
    "#import langid # language identification (i.e. what language is this?)\n",
    "import nltk.stem\n",
    "import gensim\n",
    "import string\n",
    "import pyodbc\n",
    "\n",
    "from nltk.corpus import stopwords \n",
    "from nltk.tag import PerceptronTagger\n",
    "from nltk.stem.wordnet import WordNetLemmatizer\n",
    "from nltk.corpus import wordnet\n",
    "from sklearn.feature_extraction import text \n",
    "\n",
    "import gensim.corpora as corpora\n",
    "from gensim.models import phrases\n",
    "from gensim.models.phrases import Phraser\n",
    "from gensim.models import Word2Vec\n",
    "from gensim.utils import simple_preprocess\n",
    "from gensim import corpora, models, similarities\n",
    "import pyLDAvis.gensim\n",
    "\n",
    "from itertools import chain\n",
    "#import dill\n",
    "from IPython.core.interactiveshell import InteractiveShell\n",
    "InteractiveShell.ast_node_interactivity = \"all\""
   ]
  },
  {
   "cell_type": "code",
   "execution_count": 5,
   "metadata": {},
   "outputs": [],
   "source": [
    "os.chdir(\"C:\\\\Users\\\\300067285\\\\Desktop\\\\Surabhi\\\\E-Clerks\")"
   ]
  },
  {
   "cell_type": "code",
   "execution_count": 6,
   "metadata": {},
   "outputs": [],
   "source": [
    "twcs = pd.read_csv(\"twcs.csv\")"
   ]
  },
  {
   "cell_type": "code",
   "execution_count": 7,
   "metadata": {},
   "outputs": [
    {
     "data": {
      "text/plain": [
       "2811774"
      ]
     },
     "execution_count": 7,
     "metadata": {},
     "output_type": "execute_result"
    }
   ],
   "source": [
    "len(twcs)"
   ]
  },
  {
   "cell_type": "code",
   "execution_count": 9,
   "metadata": {},
   "outputs": [
    {
     "data": {
      "text/html": [
       "<div>\n",
       "<style scoped>\n",
       "    .dataframe tbody tr th:only-of-type {\n",
       "        vertical-align: middle;\n",
       "    }\n",
       "\n",
       "    .dataframe tbody tr th {\n",
       "        vertical-align: top;\n",
       "    }\n",
       "\n",
       "    .dataframe thead th {\n",
       "        text-align: right;\n",
       "    }\n",
       "</style>\n",
       "<table border=\"1\" class=\"dataframe\">\n",
       "  <thead>\n",
       "    <tr style=\"text-align: right;\">\n",
       "      <th></th>\n",
       "      <th>tweet_id</th>\n",
       "      <th>author_id</th>\n",
       "      <th>inbound</th>\n",
       "      <th>created_at</th>\n",
       "      <th>text</th>\n",
       "      <th>response_tweet_id</th>\n",
       "      <th>in_response_to_tweet_id</th>\n",
       "    </tr>\n",
       "  </thead>\n",
       "  <tbody>\n",
       "    <tr>\n",
       "      <th>0</th>\n",
       "      <td>1</td>\n",
       "      <td>sprintcare</td>\n",
       "      <td>False</td>\n",
       "      <td>Tue Oct 31 22:10:47 +0000 2017</td>\n",
       "      <td>@115712 I understand. I would like to assist y...</td>\n",
       "      <td>2</td>\n",
       "      <td>3.0</td>\n",
       "    </tr>\n",
       "    <tr>\n",
       "      <th>1</th>\n",
       "      <td>2</td>\n",
       "      <td>115712</td>\n",
       "      <td>True</td>\n",
       "      <td>Tue Oct 31 22:11:45 +0000 2017</td>\n",
       "      <td>@sprintcare and how do you propose we do that</td>\n",
       "      <td>NaN</td>\n",
       "      <td>1.0</td>\n",
       "    </tr>\n",
       "    <tr>\n",
       "      <th>2</th>\n",
       "      <td>3</td>\n",
       "      <td>115712</td>\n",
       "      <td>True</td>\n",
       "      <td>Tue Oct 31 22:08:27 +0000 2017</td>\n",
       "      <td>@sprintcare I have sent several private messag...</td>\n",
       "      <td>1</td>\n",
       "      <td>4.0</td>\n",
       "    </tr>\n",
       "    <tr>\n",
       "      <th>3</th>\n",
       "      <td>4</td>\n",
       "      <td>sprintcare</td>\n",
       "      <td>False</td>\n",
       "      <td>Tue Oct 31 21:54:49 +0000 2017</td>\n",
       "      <td>@115712 Please send us a Private Message so th...</td>\n",
       "      <td>3</td>\n",
       "      <td>5.0</td>\n",
       "    </tr>\n",
       "    <tr>\n",
       "      <th>4</th>\n",
       "      <td>5</td>\n",
       "      <td>115712</td>\n",
       "      <td>True</td>\n",
       "      <td>Tue Oct 31 21:49:35 +0000 2017</td>\n",
       "      <td>@sprintcare I did.</td>\n",
       "      <td>4</td>\n",
       "      <td>6.0</td>\n",
       "    </tr>\n",
       "  </tbody>\n",
       "</table>\n",
       "</div>"
      ],
      "text/plain": [
       "   tweet_id   author_id  inbound                      created_at  \\\n",
       "0         1  sprintcare    False  Tue Oct 31 22:10:47 +0000 2017   \n",
       "1         2      115712     True  Tue Oct 31 22:11:45 +0000 2017   \n",
       "2         3      115712     True  Tue Oct 31 22:08:27 +0000 2017   \n",
       "3         4  sprintcare    False  Tue Oct 31 21:54:49 +0000 2017   \n",
       "4         5      115712     True  Tue Oct 31 21:49:35 +0000 2017   \n",
       "\n",
       "                                                text response_tweet_id  \\\n",
       "0  @115712 I understand. I would like to assist y...                 2   \n",
       "1      @sprintcare and how do you propose we do that               NaN   \n",
       "2  @sprintcare I have sent several private messag...                 1   \n",
       "3  @115712 Please send us a Private Message so th...                 3   \n",
       "4                                 @sprintcare I did.                 4   \n",
       "\n",
       "   in_response_to_tweet_id  \n",
       "0                      3.0  \n",
       "1                      1.0  \n",
       "2                      4.0  \n",
       "3                      5.0  \n",
       "4                      6.0  "
      ]
     },
     "execution_count": 9,
     "metadata": {},
     "output_type": "execute_result"
    }
   ],
   "source": [
    "twcs.head()"
   ]
  },
  {
   "cell_type": "code",
   "execution_count": 170,
   "metadata": {},
   "outputs": [],
   "source": [
    "train_ds = twcs"
   ]
  },
  {
   "cell_type": "code",
   "execution_count": 171,
   "metadata": {},
   "outputs": [],
   "source": [
    "train_ds['NOTE_TXT']=  twcs['text']"
   ]
  },
  {
   "cell_type": "code",
   "execution_count": 133,
   "metadata": {},
   "outputs": [
    {
     "data": {
      "text/plain": [
       "2811774"
      ]
     },
     "execution_count": 133,
     "metadata": {},
     "output_type": "execute_result"
    }
   ],
   "source": [
    "len(train_ds)"
   ]
  },
  {
   "cell_type": "code",
   "execution_count": 222,
   "metadata": {},
   "outputs": [
    {
     "data": {
      "text/plain": [
       "339"
      ]
     },
     "execution_count": 222,
     "metadata": {},
     "output_type": "execute_result"
    }
   ],
   "source": [
    "my_stop_words = text.ENGLISH_STOP_WORDS\n",
    "new_words= set(('http','https','ll','hey','hello','hi','team','ve',\n",
    "            're','ba','gt','day','time','week','month','date','amp','am','say','dm','sure','wkjhdxwgrq','gdrquypt'))\n",
    "my_stop_words = my_stop_words.union(new_words)\n",
    "len(my_stop_words)"
   ]
  },
  {
   "cell_type": "code",
   "execution_count": 172,
   "metadata": {},
   "outputs": [],
   "source": [
    "train_ds['Campaign_tags'] = train_ds['NOTE_TXT'].apply(lambda x: re.findall(r'#\\w+',x))"
   ]
  },
  {
   "cell_type": "code",
   "execution_count": 173,
   "metadata": {},
   "outputs": [],
   "source": [
    "train_ds = train_ds[train_ds['Campaign_tags'].astype(str)  != '[]']"
   ]
  },
  {
   "cell_type": "code",
   "execution_count": 174,
   "metadata": {
    "collapsed": true
   },
   "outputs": [
    {
     "data": {
      "text/plain": [
       "159126"
      ]
     },
     "execution_count": 174,
     "metadata": {},
     "output_type": "execute_result"
    },
    {
     "data": {
      "text/plain": [
       "tweet_id                     int64\n",
       "author_id                   object\n",
       "inbound                       bool\n",
       "created_at                  object\n",
       "text                        object\n",
       "response_tweet_id           object\n",
       "in_response_to_tweet_id    float64\n",
       "NOTE_TXT                    object\n",
       "Campaign_tags               object\n",
       "dtype: object"
      ]
     },
     "execution_count": 174,
     "metadata": {},
     "output_type": "execute_result"
    }
   ],
   "source": [
    "len(train_ds)\n",
    "train_ds.dtypes"
   ]
  },
  {
   "cell_type": "code",
   "execution_count": 176,
   "metadata": {},
   "outputs": [],
   "source": [
    "train_ds = train_ds[train_ds.inbound == True]"
   ]
  },
  {
   "cell_type": "code",
   "execution_count": 177,
   "metadata": {},
   "outputs": [
    {
     "data": {
      "text/plain": [
       "143671"
      ]
     },
     "execution_count": 177,
     "metadata": {},
     "output_type": "execute_result"
    }
   ],
   "source": [
    "\n",
    "len(train_ds)"
   ]
  },
  {
   "cell_type": "code",
   "execution_count": 178,
   "metadata": {},
   "outputs": [],
   "source": [
    "# data cleaning : removing @ and digits\n",
    "train_ds['NOTE_TXT'] = train_ds['NOTE_TXT'].apply(lambda x: re.sub(r'(@\\w*)|(\\d*)','',x))\n"
   ]
  },
  {
   "cell_type": "code",
   "execution_count": 181,
   "metadata": {},
   "outputs": [],
   "source": [
    "lemma = WordNetLemmatizer()\n",
    "english_stemmer = nltk.stem.SnowballStemmer('english')\n",
    "tagger = PerceptronTagger()\n",
    "pos_tag = tagger.tag\n",
    "exclude_puncts = set(string.punctuation) "
   ]
  },
  {
   "cell_type": "code",
   "execution_count": 182,
   "metadata": {},
   "outputs": [],
   "source": [
    "# POS Tagger\n",
    "def get_wordnet_pos(treebank_token):\n",
    "        w = treebank_token[0]\n",
    "        treebank_tag = treebank_token[1]\n",
    "        if treebank_tag.startswith('J'):\n",
    "            return w,wordnet.ADJ\n",
    "        elif treebank_tag.startswith('V'):\n",
    "            return w,wordnet.VERB\n",
    "        elif treebank_tag.startswith('N'):\n",
    "            return w,wordnet.NOUN\n",
    "        elif treebank_tag.startswith('R'):\n",
    "            return w,wordnet.ADV\n",
    "        else:\n",
    "            # As default pos in lemmatization is Noun\n",
    "            return w,wordnet.NOUN"
   ]
  },
  {
   "cell_type": "code",
   "execution_count": 183,
   "metadata": {},
   "outputs": [],
   "source": [
    "def pre_tokenize(doc):\n",
    "    tokenized_doc = \" \".join([re.sub(' +',' ',re.sub('[^A-Za-z0-9 ]+', ' ',i)) for i in doc.lower().split()])\n",
    "    puncexcluded_doc= ''.join(ch for ch in tokenized_doc if ch not in exclude_puncts)\n",
    "    return puncexcluded_doc.split()"
   ]
  },
  {
   "cell_type": "code",
   "execution_count": 184,
   "metadata": {},
   "outputs": [],
   "source": [
    "def lemmatized(doc):\n",
    "    return lemma.lemmatize(*doc)"
   ]
  },
  {
   "cell_type": "code",
   "execution_count": 185,
   "metadata": {},
   "outputs": [],
   "source": [
    "pre_tokenized = train_ds.NOTE_TXT.apply(pre_tokenize)"
   ]
  },
  {
   "cell_type": "code",
   "execution_count": 186,
   "metadata": {},
   "outputs": [],
   "source": [
    "pre_tagged_tokens = list(map(pos_tag, pre_tokenized))"
   ]
  },
  {
   "cell_type": "code",
   "execution_count": 187,
   "metadata": {},
   "outputs": [],
   "source": [
    "wordnet_tagged_tokens = [list(map(get_wordnet_pos, tagged_token)) for tagged_token in pre_tagged_tokens]"
   ]
  },
  {
   "cell_type": "code",
   "execution_count": 188,
   "metadata": {},
   "outputs": [],
   "source": [
    "lemmatized_tokens = [list(map(lemmatized, doc)) for doc in wordnet_tagged_tokens]"
   ]
  },
  {
   "cell_type": "code",
   "execution_count": 189,
   "metadata": {},
   "outputs": [],
   "source": [
    "import pickle\n",
    "\n",
    "with open('Lemmatized tokens', 'wb') as fp:\n",
    "    pickle.dump(lemmatized_tokens, fp)"
   ]
  },
  {
   "cell_type": "code",
   "execution_count": 190,
   "metadata": {},
   "outputs": [
    {
     "name": "stderr",
     "output_type": "stream",
     "text": [
      "C:\\Users\\300067285\\Anaconda3\\lib\\site-packages\\ipykernel_launcher.py:1: SettingWithCopyWarning: \n",
      "A value is trying to be set on a copy of a slice from a DataFrame.\n",
      "Try using .loc[row_indexer,col_indexer] = value instead\n",
      "\n",
      "See the caveats in the documentation: https://pandas.pydata.org/pandas-docs/stable/user_guide/indexing.html#returning-a-view-versus-a-copy\n",
      "  \"\"\"Entry point for launching an IPython kernel.\n"
     ]
    }
   ],
   "source": [
    "train_ds['lemmatized'] = lemmatized_tokens"
   ]
  },
  {
   "cell_type": "code",
   "execution_count": 191,
   "metadata": {},
   "outputs": [
    {
     "data": {
      "text/plain": [
       "array([list(['thank', 'you', 'for', 'resolve', 'my', 'issue', 'so', 'quickly', 'y', 'all', 'be', 'the', 'best', 'fanforlife']),\n",
       "       list(['name', 'a', 'good', 'halloween', 'duo', 'speedwaybrick', 'uttranscript', 'http', 't', 'co', 'shdrmlct']),\n",
       "       list(['excellent', 'halloweening', 'countcolin', 'halloween', 'food', 'http', 't', 'co', 'lqcsoohdj']),\n",
       "       list(['quand', 'ton', 'ne', 'ressemble', 'pa', 'celui', 'que', 'tu', 'a', 'r', 'serv', 'amp', 'qu', 'en', 'd', 'tre', 'sale', 'et', 'en', 'sous', 'sol', 'tu', 'te', 'retrouves', 'dans', 'logement', 'http', 't', 'co', 'bceihetq']),\n",
       "       list(['kinda', 'need', 'to', 'make', 'sure', 'i', 'have', 'cdn', 'in', 'my', 'bank', 'so', 'would', 'be', 'nice', 'to', 'know', 'i', 'dun', 'just', 'have', 'cash', 'lay', 'around', 'ya', 'know', 'reallifestruggles']),\n",
       "       list(['you', 'll', 'be', 'even', 'happy', 'to', 'know', 'that', 'the', 'restriction', 'around', 'the', 'volcano', 'area', 'have', 'be', 'lift', 'enjoy', 'stay', 'at', 'home', 'pal', 'unlucky'])],\n",
       "      dtype=object)"
      ]
     },
     "execution_count": 191,
     "metadata": {},
     "output_type": "execute_result"
    }
   ],
   "source": [
    "train_ds['lemmatized'][1:7].values"
   ]
  },
  {
   "cell_type": "code",
   "execution_count": 224,
   "metadata": {},
   "outputs": [],
   "source": [
    "mystop = my_stop_words\n",
    "exclude = set(string.punctuation)"
   ]
  },
  {
   "cell_type": "code",
   "execution_count": 225,
   "metadata": {},
   "outputs": [],
   "source": [
    "def rem_1letter_words(doc):\n",
    "     return [word for word in doc if len(word)>1]"
   ]
  },
  {
   "cell_type": "code",
   "execution_count": 226,
   "metadata": {},
   "outputs": [],
   "source": [
    "filtered = list(map(rem_1letter_words,lemmatized_tokens))\n",
    "#filtered[0:5]"
   ]
  },
  {
   "cell_type": "code",
   "execution_count": 227,
   "metadata": {},
   "outputs": [],
   "source": [
    "def rem_stop_words(doc):\n",
    "    return [i for i in doc if i not in my_stop_words]\n",
    "stop_free = list(map(rem_stop_words,filtered))"
   ]
  },
  {
   "cell_type": "code",
   "execution_count": 228,
   "metadata": {},
   "outputs": [
    {
     "name": "stderr",
     "output_type": "stream",
     "text": [
      "C:\\Users\\300067285\\Anaconda3\\lib\\site-packages\\ipykernel_launcher.py:1: SettingWithCopyWarning: \n",
      "A value is trying to be set on a copy of a slice from a DataFrame.\n",
      "Try using .loc[row_indexer,col_indexer] = value instead\n",
      "\n",
      "See the caveats in the documentation: https://pandas.pydata.org/pandas-docs/stable/user_guide/indexing.html#returning-a-view-versus-a-copy\n",
      "  \"\"\"Entry point for launching an IPython kernel.\n"
     ]
    },
    {
     "data": {
      "text/plain": [
       "array([list(['costume', 'boorito']),\n",
       "       list(['thank', 'resolve', 'issue', 'quickly', 'best', 'fanforlife']),\n",
       "       list(['good', 'halloween', 'duo', 'speedwaybrick', 'uttranscript', 'shdrmlct']),\n",
       "       list(['excellent', 'halloweening', 'countcolin', 'halloween', 'food', 'lqcsoohdj']),\n",
       "       list(['quand', 'ton', 'ne', 'ressemble', 'pa', 'celui', 'que', 'tu', 'serv', 'qu', 'en', 'tre', 'sale', 'et', 'en', 'sous', 'sol', 'tu', 'te', 'retrouves', 'dans', 'logement', 'bceihetq']),\n",
       "       list(['kinda', 'need', 'make', 'cdn', 'bank', 'nice', 'know', 'dun', 'just', 'cash', 'lay', 'ya', 'know', 'reallifestruggles']),\n",
       "       list(['happy', 'know', 'restriction', 'volcano', 'area', 'lift', 'enjoy', 'stay', 'home', 'pal', 'unlucky'])],\n",
       "      dtype=object)"
      ]
     },
     "execution_count": 228,
     "metadata": {},
     "output_type": "execute_result"
    }
   ],
   "source": [
    "train_ds['lemmatized'] = stop_free\n",
    "train_ds.lemmatized[0:7].values"
   ]
  },
  {
   "cell_type": "code",
   "execution_count": 229,
   "metadata": {},
   "outputs": [
    {
     "data": {
      "text/plain": [
       "array([list(['costume', 'boorito']),\n",
       "       list(['thank', 'resolve', 'issue', 'quickly', 'best', 'fanforlife']),\n",
       "       list(['good', 'halloween', 'duo', 'speedwaybrick', 'uttranscript', 'shdrmlct']),\n",
       "       list(['excellent', 'halloweening', 'countcolin', 'halloween', 'food', 'lqcsoohdj']),\n",
       "       list(['quand', 'ton', 'ne', 'ressemble', 'pa', 'celui', 'que', 'tu', 'serv', 'qu', 'en', 'tre', 'sale', 'et', 'en', 'sous', 'sol', 'tu', 'te', 'retrouves', 'dans', 'logement', 'bceihetq'])],\n",
       "      dtype=object)"
      ]
     },
     "execution_count": 229,
     "metadata": {},
     "output_type": "execute_result"
    }
   ],
   "source": [
    "train_ds_grp_clean = train_ds[train_ds['lemmatized'].astype(str)  != '[]']\n",
    "train_ds_grp_clean.lemmatized[0:5].values"
   ]
  },
  {
   "cell_type": "code",
   "execution_count": 230,
   "metadata": {},
   "outputs": [],
   "source": [
    "mydictionary = corpora.Dictionary(train_ds_grp_clean.lemmatized)"
   ]
  },
  {
   "cell_type": "code",
   "execution_count": 231,
   "metadata": {},
   "outputs": [
    {
     "data": {
      "text/plain": [
       "pandas.core.series.Series"
      ]
     },
     "execution_count": 231,
     "metadata": {},
     "output_type": "execute_result"
    }
   ],
   "source": [
    "type(train_ds_grp_clean.lemmatized)"
   ]
  },
  {
   "cell_type": "markdown",
   "metadata": {},
   "source": [
    "#### Bigram detection"
   ]
  },
  {
   "cell_type": "code",
   "execution_count": 232,
   "metadata": {},
   "outputs": [],
   "source": [
    "# Create a bigram detector\n",
    "bigram_detector = gensim.models.phrases.Phrases(train_ds_grp_clean['lemmatized'], min_count=10, threshold=1.0)\n",
    "#bigram_implementer\n",
    "bigram_implementer = gensim.models.phrases.Phraser(bigram_detector)"
   ]
  },
  {
   "cell_type": "code",
   "execution_count": 233,
   "metadata": {},
   "outputs": [],
   "source": [
    "def id_bigrams_usingImplementer(eachdoc):\n",
    "    return \" \".join(bigram_implementer[eachdoc])"
   ]
  },
  {
   "cell_type": "code",
   "execution_count": 234,
   "metadata": {},
   "outputs": [],
   "source": [
    "doc_withbigrams = [bigram_implementer[eachdoc] for eachdoc in train_ds_grp_clean.lemmatized]"
   ]
  },
  {
   "cell_type": "code",
   "execution_count": 235,
   "metadata": {},
   "outputs": [
    {
     "name": "stdout",
     "output_type": "stream",
     "text": [
      "Dictionary(147915 unique tokens: ['boorito', 'costume', 'best', 'fanforlife', 'quickly']...)\n"
     ]
    }
   ],
   "source": [
    "mybigramdictionary = corpora.Dictionary(doc_withbigrams)\n",
    "print(mybigramdictionary)"
   ]
  },
  {
   "cell_type": "code",
   "execution_count": 237,
   "metadata": {},
   "outputs": [],
   "source": [
    "mybigramdictionary.filter_extremes(no_below=5, no_above=0.9999)"
   ]
  },
  {
   "cell_type": "code",
   "execution_count": 238,
   "metadata": {},
   "outputs": [
    {
     "name": "stdout",
     "output_type": "stream",
     "text": [
      "Dictionary(19413 unique tokens: ['boorito', 'costume', 'best', 'quickly', 'resolve_issue']...)\n"
     ]
    }
   ],
   "source": [
    "print(mybigramdictionary)"
   ]
  },
  {
   "cell_type": "markdown",
   "metadata": {},
   "source": [
    "#### Printing the bigram output"
   ]
  },
  {
   "cell_type": "code",
   "execution_count": 265,
   "metadata": {},
   "outputs": [],
   "source": [
    "#j=0\n",
    "#for i in range(0,19413):\n",
    "#    word = mybigramdictionary.get(i)\n",
    "#    if \"_\" in word:\n",
    "#        j=j+1\n",
    "#        print(mybigramdictionary.get(i))\n",
    "\n",
    "#print(j)"
   ]
  },
  {
   "cell_type": "code",
   "execution_count": 240,
   "metadata": {},
   "outputs": [],
   "source": [
    "doc_term_matrix_bg = [mybigramdictionary.doc2bow(doc) for doc in doc_withbigrams]"
   ]
  },
  {
   "cell_type": "markdown",
   "metadata": {},
   "source": [
    "#### LDA model creation"
   ]
  },
  {
   "cell_type": "code",
   "execution_count": 241,
   "metadata": {},
   "outputs": [],
   "source": [
    "# Running and Trainign LDA model on the document term matrix.\n",
    "ldamodel_ssym_alpha_multi_10_online = models.LdaMulticore(doc_term_matrix_bg, num_topics=10, id2word = mybigramdictionary, \n",
    "                           passes=20,iterations = 500, alpha='asymmetric',eta='auto',chunksize=10000,workers = 7, eval_every=1,batch=False,random_state = 918273645)\n",
    "                                                        #, gamma_threshold = 0.003,per_word_topics=True,minimum_phi_value= 0.10,minimum_probability=0.10)"
   ]
  },
  {
   "cell_type": "code",
   "execution_count": 242,
   "metadata": {},
   "outputs": [
    {
     "data": {
      "text/plain": [
       "-5.16084021031671"
      ]
     },
     "execution_count": 242,
     "metadata": {},
     "output_type": "execute_result"
    }
   ],
   "source": [
    "from gensim.models.coherencemodel import CoherenceModel\n",
    "\n",
    "NewCoherence2 = CoherenceModel(model=ldamodel_ssym_alpha_multi_10_online, corpus=doc_term_matrix_bg, dictionary=mybigramdictionary, coherence='u_mass')\n",
    "\n",
    "NewCoherence2.get_coherence()"
   ]
  },
  {
   "cell_type": "code",
   "execution_count": 243,
   "metadata": {},
   "outputs": [],
   "source": [
    "topic_words = []\n",
    "for i in range(10):\n",
    "    topic_words.append(ldamodel_ssym_alpha_multi_10_online.print_topic(i,topn=5))"
   ]
  },
  {
   "cell_type": "code",
   "execution_count": 266,
   "metadata": {},
   "outputs": [],
   "source": [
    "#for i in range(10):\n",
    " #   print(\"Topic \" + str(i))\n",
    "  #  print(\"Topic Keywords:\")\n",
    "   # ldamodel_ssym_alpha_multi_10_online.show_topic(i,20)"
   ]
  },
  {
   "cell_type": "code",
   "execution_count": 245,
   "metadata": {},
   "outputs": [],
   "source": [
    "import pyLDAvis.gensim\n",
    "pyLDAvis.enable_notebook()"
   ]
  },
  {
   "cell_type": "markdown",
   "metadata": {},
   "source": [
    "#### LDA model Visualization"
   ]
  },
  {
   "cell_type": "code",
   "execution_count": 246,
   "metadata": {},
   "outputs": [],
   "source": [
    "preparedData = pyLDAvis.gensim.prepare(ldamodel_ssym_alpha_multi_10_online, doc_term_matrix_bg, mybigramdictionary, sort_topics=False)"
   ]
  },
  {
   "cell_type": "code",
   "execution_count": 247,
   "metadata": {},
   "outputs": [
    {
     "data": {
      "text/html": [
       "\n",
       "<link rel=\"stylesheet\" type=\"text/css\" href=\"https://cdn.rawgit.com/bmabey/pyLDAvis/files/ldavis.v1.0.0.css\">\n",
       "\n",
       "\n",
       "<div id=\"ldavis_el14552825013614688729573755296\"></div>\n",
       "<script type=\"text/javascript\">\n",
       "\n",
       "var ldavis_el14552825013614688729573755296_data = {\"mdsDat\": {\"x\": [0.14876985684661337, -0.04981627045709764, -0.013877323164168865, -0.11489478579146736, 0.07558847285131838, -0.10274553379391128, 0.09721763295765433, -0.15250573440228343, 0.2029066664502041, -0.0906429814968622], \"y\": [-0.030417292522569, -0.023857591029515197, 0.023488239615679956, -0.05170489796314463, 0.01827285491155566, -0.16525370327178018, 0.21666039689526778, 0.16337926246324413, -0.1036727154064135, -0.04689455369232458], \"topics\": [1, 2, 3, 4, 5, 6, 7, 8, 9, 10], \"cluster\": [1, 1, 1, 1, 1, 1, 1, 1, 1, 1], \"Freq\": [21.034168243408203, 13.673946380615234, 10.613029479980469, 9.671453475952148, 9.630393981933594, 9.759452819824219, 6.134960651397705, 5.651449680328369, 5.657900333404541, 8.173242568969727]}, \"tinfo\": {\"Term\": [\"thanks\", \"iphone\", \"flight\", \"service\", \"customer_service\", \"amazon\", \"mobile_care\", \"charge\", \"love\", \"fly\", \"io\", \"update\", \"phone\", \"uber\", \"apple\", \"driver\", \"order\", \"internet\", \"fix\", \"like\", \"hppsdr_ijkhelp\", \"idea\", \"la\", \"mobile_carexi\", \"account\", \"offer\", \"seat\", \"iphonex\", \"spotify\", \"wifi\", \"welcome\", \"jfk\", \"milk\", \"mum\", \"dca\", \"flt\", \"jetblue\", \"falseadvertising\", \"rapidrewards_celebrate\", \"pero\", \"sunset\", \"peak\", \"birthday_fun\", \"party_experience\", \"el\", \"field\", \"onboard\", \"early_flight\", \"por\", \"terminal\", \"tarmac\", \"win_help\", \"yep\", \"make_bignightin\", \"entrega\", \"bigmac_binge\", \"train_delay\", \"advent_calendar\", \"watch_mcdelivery\", \"fll\", \"flight_delay\", \"mia\", \"orlando\", \"skyclub\", \"sfo\", \"cuando\", \"flight\", \"beautiful\", \"pilot\", \"miami\", \"clt\", \"waterloo\", \"iflyalaska\", \"gate\", \"para\", \"lhr\", \"check_bag\", \"plane\", \"flight_crew\", \"que\", \"avgeek\", \"los\", \"airport\", \"train\", \"britishairways\", \"seat\", \"travel\", \"crew\", \"fly\", \"christmas\", \"thank\", \"trip\", \"london\", \"board\", \"head\", \"delay\", \"class\", \"la\", \"thanks\", \"home\", \"check\", \"today\", \"morning\", \"bag\", \"make\", \"great\", \"passenger\", \"way\", \"staff\", \"new\", \"good\", \"just\", \"help\", \"come\", \"work\", \"hour\", \"mobile_carexi\", \"aztechhelp\", \"coverage\", \"internet_work\", \"sierra\", \"girlfriend\", \"ordered\", \"outage\", \"database\", \"curry\", \"macos_high\", \"norton\", \"lgqappquiz\", \"throttle\", \"forth\", \"tiempo\", \"internet_connection\", \"vm\", \"world_series\", \"buttermilkcrispytenders\", \"anewview_rybjwize\", \"new_oneplus\", \"amazon_exclusive\", \"fax\", \"indicate\", \"message_send\", \"delivery_late\", \"train_late\", \"unlimited_data\", \"calendar\", \"mobile_care\", \"local_store\", \"root\", \"internet\", \"azure\", \"buffer\", \"server\", \"sport\", \"subscription\", \"mbps\", \"loss\", \"mince_pie\", \"xfinity\", \"password\", \"area\", \"mb\", \"comcast\", \"internet_service\", \"data\", \"tv\", \"cable\", \"state\", \"error\", \"connection\", \"mobile\", \"modem\", \"case\", \"gb\", \"respond\", \"account\", \"good\", \"speed\", \"watch\", \"game\", \"work\", \"use\", \"just\", \"wait\", \"need\", \"today\", \"tell\", \"pay\", \"help\", \"fail\", \"service\", \"app\", \"try\", \"issue\", \"order\", \"come\", \"comcastoutage\", \"trick\", \"language\", \"refund_money\", \"trickortweet\", \"send_message\", \"career\", \"critical\", \"booster\", \"abuse\", \"yall\", \"afraid\", \"make_pay\", \"yahoomail\", \"pant\", \"zip\", \"trickortreat\", \"want_watch\", \"leaderboards\", \"railway\", \"omaha\", \"fakenews\", \"callofdutywwii\", \"introduce\", \"ab\", \"marvelsrunaways\", \"blind\", \"servizio\", \"selfie\", \"wwii\", \"edition\", \"season\", \"region\", \"episode\", \"codwwii\", \"demand\", \"debit_card\", \"country\", \"aws\", \"internet_speed\", \"india\", \"link\", \"effect\", \"increase\", \"cod\", \"ad\", \"law\", \"play\", \"track\", \"movie\", \"promo\", \"bring\", \"look_like\", \"business\", \"hear\", \"haven\", \"treat\", \"screw\", \"money\", \"lol\", \"don\", \"new\", \"watch\", \"sign\", \"amazon\", \"just\", \"happen\", \"want\", \"service\", \"think\", \"buy\", \"wrong\", \"need\", \"like\", \"customer\", \"support\", \"deal\", \"try\", \"people\", \"make\", \"tell\", \"work\", \"help\", \"type_question\", \"hppsdr_ijkhelp\", \"hour_wait\", \"hpsa_hpprnt\", \"hppsdr_ijchelp\", \"oneplustappquiz\", \"just_ask\", \"thank_help\", \"amazon_order\", \"appt\", \"spicy\", \"fedex\", \"anytime\", \"print_black\", \"monster\", \"postmates\", \"ijkhelp\", \"accountability\", \"cotton\", \"product_deliver\", \"comcastcares\", \"whatajoke\", \"pra\", \"printing\", \"hour_half\", \"print_job\", \"verizonfios\", \"service_horrible\", \"known_issue\", \"doesn_make\", \"timewarner\", \"printer\", \"just_don\", \"th_nov\", \"speed_test\", \"occur\", \"amzl\", \"print\", \"hpcswus_hpprnt\", \"tech_support\", \"thanks_help\", \"incident\", \"dell\", \"scan\", \"mistake\", \"promise\", \"dis\", \"kinda\", \"department\", \"customer_service\", \"answer\", \"ink\", \"address\", \"comcastsucks\", \"delivery\", \"pre_order\", \"reply\", \"girl\", \"sprint\", \"disappointed\", \"tech\", \"bad_service\", \"badcustomerservice\", \"deliver\", \"fail\", \"issue\", \"wait\", \"twice\", \"problem\", \"hour\", \"customerservice\", \"cancel\", \"purchase\", \"order\", \"service\", \"like\", \"today\", \"help\", \"amazon\", \"tell\", \"guy\", \"late\", \"really\", \"new\", \"chicken\", \"boorito\", \"driver_cancel\", \"chorizo\", \"uber_driver\", \"burrito_bowl\", \"uber\", \"burrito\", \"veteran\", \"reorder\", \"wash\", \"km\", \"silver\", \"uberpool\", \"ubersucks\", \"salad\", \"charge_ride\", \"slice\", \"guac\", \"cancel_ride\", \"bowl\", \"pet\", \"beef\", \"surge\", \"justify\", \"dear_amazon\", \"bringbackchorizo\", \"roast\", \"welldone\", \"chair\", \"cheese\", \"meat\", \"chip\", \"crisp\", \"chipotle\", \"ingredient\", \"charge\", \"vegan\", \"queso\", \"driver\", \"bean\", \"ride\", \"lyft\", \"bullshit\", \"taco\", \"fruit\", \"happyhalloween\", \"sandwich\", \"pay_extra\", \"cancellation\", \"forget\", \"destination\", \"eat\", \"order\", \"car\", \"pizza\", \"food\", \"bag\", \"today\", \"come\", \"cold\", \"just\", \"look\", \"like\", \"thanks\", \"pick\", \"best\", \"pay\", \"ask\", \"didn\", \"wait\", \"disappoint\", \"buy\", \"box\", \"know\", \"ios\", \"battery\", \"io\", \"crash\", \"new_update\", \"keyboard\", \"apple_iphone\", \"iphone\", \"battery_life\", \"ios_update\", \"io_update\", \"apps\", \"new_iphone\", \"iosupdate\", \"sync\", \"iphone_plus\", \"battery_drain\", \"high_sierra\", \"late_update\", \"iphoneplus\", \"update_ios\", \"hppsdr_ljhelp\", \"update_io\", \"brightness\", \"apple_io\", \"iphones\", \"bug\", \"iphone_update\", \"mobile_carexv\", \"question_mark\", \"apple\", \"android\", \"bluetooth\", \"macos\", \"mcrib\", \"randomly\", \"lag\", \"window\", \"freeze\", \"screen\", \"update\", \"wifi\", \"mac\", \"software\", \"iphonex\", \"glitch\", \"fix\", \"type\", \"slow\", \"laptop\", \"phone\", \"app\", \"turn\", \"work\", \"help\", \"just\", \"try\", \"issue\", \"use\", \"problem\", \"happen\", \"come\", \"make\", \"like\", \"et\", \"pa\", \"le\", \"une\", \"pour\", \"sur\", \"je\", \"du\", \"vous\", \"les\", \"avec\", \"qui\", \"colis\", \"ce\", \"ai\", \"guide\", \"merci\", \"depuis\", \"article\", \"niet\", \"est\", \"fait\", \"raw\", \"livr\", \"livraison\", \"faire\", \"chez\", \"fois\", \"understanding\", \"jour\", \"par\", \"recycle\", \"pause\", \"il\", \"glutenfree\", \"playlist\", \"che\", \"di\", \"promotion\", \"spotify\", \"xboxonex\", \"ho\", \"non\", \"music\", \"ne\", \"offer\", \"en\", \"ma\", \"option\", \"la\", \"packaging\", \"song\", \"hulu\", \"box\", \"deal\", \"store\", \"pack\", \"buy\", \"amazon\", \"plus\", \"bad\", \"blackfriday\", \"love\", \"want\", \"use\", \"ship\", \"make\", \"nicht\", \"ist\", \"und\", \"ich\", \"ebay\", \"transaction\", \"auf\", \"bei\", \"der\", \"paypal\", \"das\", \"von\", \"trolley\", \"ein\", \"zu\", \"auch\", \"fraudulent\", \"fake_bose\", \"mit\", \"amazon_sell\", \"nur\", \"fake_product\", \"wieder\", \"didn_want\", \"australia\", \"ihr\", \"aber\", \"ref\", \"mir\", \"kann\", \"tugo\", \"host\", \"indian\", \"oder\", \"tmobiletuesdays\", \"just_like\", \"die\", \"da\", \"seller\", \"deposit\", \"payment\", \"amazon\", \"code\", \"airbnb\", \"carrier\", \"package\", \"tmobile\", \"hate\", \"account\", \"useless\", \"mail\", \"receive\", \"support\", \"refund\", \"website\", \"poorcustomerservice\", \"credit_card\", \"send\", \"tell\", \"make\", \"order\", \"app\", \"buy\", \"use\", \"help\", \"pay\", \"service\", \"try\", \"year\", \"emergency\", \"answer_phone\", \"carrot\", \"crappy\", \"inflight\", \"ep\", \"gin\", \"hpaioi\", \"buggy\", \"black_ink\", \"taylorswiftnow\", \"hmm\", \"southwest\", \"kevin_katie\", \"stephanie\", \"fuming\", \"add_vegan\", \"thanks_lot\", \"hug\", \"international_flight\", \"club_flight\", \"creamer_admiral\", \"air_experience\", \"creamer_american\", \"love_soy\", \"sc\", \"buffalo\", \"fork\", \"autocorrecting\", \"pretty_good\", \"christmas_advert\", \"shirt\", \"anyways\", \"buffering\", \"kevinandkatie\", \"dallas\", \"strike\", \"relate\", \"love\", \"thanks\", \"sunday\", \"blow\", \"aa\", \"story\", \"big\", \"neighbor\", \"air\", \"fly\", \"luv\", \"fight\", \"like\", \"tweet\", \"game\", \"dc\", \"airline\", \"lot\", \"point\", \"land\", \"real\", \"just\", \"year\", \"seat\", \"look\", \"little\", \"change\", \"great\", \"tonight\", \"help\", \"thank\", \"right\", \"food\", \"make\", \"want\", \"today\", \"flight\", \"service\", \"phone_number\", \"unreliable\", \"great_customer\", \"custserv\", \"dropbox\", \"phone_support\", \"physical\", \"applepay\", \"rd_party\", \"irma\", \"resist\", \"worstservice\", \"thanks_upgrade\", \"gold_member\", \"faceid\", \"thing_happen\", \"ideacellular\", \"debate\", \"navigate\", \"tell_customer\", \"awful_customer\", \"fix_apple\", \"fargo_bank\", \"comedy\", \"work_help\", \"petrol\", \"flier\", \"deliver_pm\", \"amaze_customer\", \"stop_play\", \"advisor\", \"airtel\", \"delivery_service\", \"customer_care\", \"citi\", \"everybody\", \"admiral_club\", \"clue\", \"idea\", \"voicemail\", \"bad_customer\", \"citibank\", \"theft\", \"response\", \"deny\", \"resolution\", \"number\", \"service\", \"xbox\", \"contact\", \"xboxhelp\", \"sm\", \"poorservice\", \"rude\", \"phone\", \"dept\", \"customer_service\", \"agent\", \"bank\", \"assistance\", \"staff\", \"person\", \"lie\", \"customerservice\", \"fraud\", \"help\", \"card\", \"customer\", \"dear\", \"chat\", \"tell\", \"suck\", \"use\", \"provide\", \"terrible\", \"money\", \"need\", \"people\", \"store\", \"just\", \"try\", \"think\", \"leave\", \"guy\", \"company\", \"thank\"], \"Freq\": [4973.0, 2299.0, 3948.0, 5652.0, 2462.0, 3016.0, 1997.0, 1875.0, 2668.0, 2102.0, 1424.0, 2472.0, 3343.0, 1324.0, 1369.0, 1733.0, 3685.0, 1532.0, 2051.0, 3408.0, 816.0, 1078.0, 1023.0, 848.0, 1760.0, 1216.0, 1336.0, 1156.0, 668.0, 910.0, 226.23858642578125, 291.2066955566406, 155.4180908203125, 134.9774169921875, 156.4954833984375, 184.9368438720703, 274.7275085449219, 90.12902069091797, 89.23551940917969, 88.61740112304688, 116.89326477050781, 88.4660873413086, 87.37828063964844, 85.90225982666016, 450.8595886230469, 85.01815795898438, 103.56024932861328, 104.15699005126953, 189.69017028808594, 280.4132995605469, 79.01766967773438, 75.45564270019531, 74.88623809814453, 74.46253967285156, 77.47801208496094, 73.84387969970703, 73.59042358398438, 112.83936309814453, 72.60586547851562, 73.82762908935547, 276.2977600097656, 160.5787811279297, 159.94972229003906, 111.54668426513672, 225.70057678222656, 85.98028564453125, 3645.22314453125, 272.8453369140625, 405.0812683105469, 122.56776428222656, 158.2225341796875, 151.6766357421875, 409.92694091796875, 618.46923828125, 321.0845947265625, 177.86489868164062, 122.29926300048828, 1061.262451171875, 146.29127502441406, 740.7838745117188, 235.9949493408203, 211.22491455078125, 684.476806640625, 1239.0172119140625, 223.33282470703125, 1003.0307006835938, 1219.5257568359375, 412.1994323730469, 1367.7489013671875, 897.3268432617188, 1661.385498046875, 764.4570922851562, 503.5751953125, 553.3599243164062, 469.1612548828125, 865.4776611328125, 377.1446838378906, 644.6589965820312, 1848.151611328125, 865.1474609375, 903.785400390625, 1592.684814453125, 737.680419921875, 618.0490112304688, 1045.1844482421875, 697.1996459960938, 467.4568786621094, 760.6288452148438, 565.5020751953125, 703.5722045898438, 656.4749755859375, 799.0245361328125, 762.3005981445312, 685.6514892578125, 624.716796875, 570.3746948242188, 847.274658203125, 706.7660522460938, 201.71038818359375, 128.67274475097656, 102.50896453857422, 80.51885223388672, 72.29755401611328, 577.3369140625, 75.55873107910156, 69.06440734863281, 65.97151947021484, 64.46870422363281, 61.89085388183594, 62.89695739746094, 61.07001876831055, 59.62673568725586, 93.2059097290039, 144.07958984375, 51.48678970336914, 50.61347198486328, 52.00251770019531, 48.7847785949707, 48.78369903564453, 48.53898620605469, 47.43367385864258, 47.029537200927734, 46.80544662475586, 46.68467330932617, 46.23485565185547, 51.50204086303711, 1928.166748046875, 109.32264709472656, 149.83103942871094, 1401.8935546875, 337.5291442871094, 128.54556274414062, 315.1080627441406, 100.77873229980469, 215.82008361816406, 189.51101684570312, 101.79570007324219, 188.49330139160156, 334.9390563964844, 248.0210418701172, 501.8481750488281, 143.79290771484375, 755.4204711914062, 163.49017333984375, 489.916748046875, 562.43212890625, 344.7478332519531, 300.9237976074219, 488.0123596191406, 299.464111328125, 473.10595703125, 181.1397705078125, 372.48046875, 210.32460021972656, 307.4995422363281, 668.8294677734375, 819.9057006835938, 284.8803405761719, 565.5419921875, 519.0369262695312, 903.7462158203125, 888.6074829101562, 1089.2945556640625, 674.7337646484375, 734.357421875, 839.1129760742188, 694.69921875, 626.18310546875, 786.3145141601562, 594.7695922851562, 765.8150024414062, 542.1956787109375, 594.37060546875, 568.4188842773438, 601.5267333984375, 563.5741577148438, 143.61941528320312, 134.79660034179688, 88.61978912353516, 80.50900268554688, 76.1395263671875, 75.47755432128906, 70.49777221679688, 67.26641845703125, 65.88532257080078, 67.24832916259766, 71.85453796386719, 57.510765075683594, 61.21184539794922, 55.552425384521484, 55.33087921142578, 60.54253387451172, 50.95455551147461, 60.487213134765625, 50.31442642211914, 49.82614517211914, 49.23495864868164, 50.12410354614258, 79.68658447265625, 80.67228698730469, 48.25931930541992, 48.55701446533203, 48.06560516357422, 45.18387985229492, 46.30510711669922, 53.39202117919922, 71.61570739746094, 514.1552734375, 82.00727844238281, 323.0422058105469, 319.4272766113281, 289.0127258300781, 71.81631469726562, 171.93296813964844, 119.22998046875, 111.99336242675781, 358.38311767578125, 360.7012939453125, 70.0514144897461, 162.5825653076172, 117.35702514648438, 260.4298400878906, 113.96144104003906, 445.75213623046875, 278.9211120605469, 203.05494689941406, 146.9351043701172, 369.1399230957031, 362.08660888671875, 392.4868469238281, 300.6073913574219, 292.69854736328125, 290.448974609375, 216.65394592285156, 435.3406982421875, 268.1564025878906, 673.90771484375, 694.7470092773438, 466.449951171875, 329.6106262207031, 633.7343139648438, 881.6240234375, 483.0203552246094, 483.6376953125, 749.1432495117188, 467.8063659667969, 433.38458251953125, 333.4466552734375, 520.6913452148438, 480.4483642578125, 437.6538391113281, 350.6864013671875, 330.1532897949219, 377.0121154785156, 345.7940673828125, 362.78558349609375, 354.0523681640625, 341.1150817871094, 338.8081970214844, 328.3636169433594, 814.128662109375, 84.73810577392578, 105.42711639404297, 82.10183715820312, 71.83643341064453, 68.0587158203125, 76.35946655273438, 65.8571548461914, 58.55257797241211, 58.06533432006836, 91.72737121582031, 55.28838348388672, 51.46030044555664, 50.37694549560547, 49.896934509277344, 120.5213623046875, 48.36621856689453, 46.49937438964844, 51.88871383666992, 44.997432708740234, 44.89796447753906, 43.15961837768555, 44.21357345581055, 42.2838020324707, 41.697906494140625, 41.50479507446289, 41.39452362060547, 44.901893615722656, 41.43549346923828, 42.18039321899414, 400.7125549316406, 60.346458435058594, 50.3828010559082, 57.2443962097168, 99.58201599121094, 225.5621337890625, 434.08197021484375, 246.08419799804688, 88.69670867919922, 124.86637878417969, 84.55352020263672, 168.9046630859375, 215.16322326660156, 211.30210876464844, 381.1298828125, 69.30322265625, 94.2932357788086, 148.43980407714844, 1352.232177734375, 465.990478515625, 137.060302734375, 320.5360107421875, 119.76788330078125, 852.2943725585938, 174.10498046875, 379.72760009765625, 245.34642028808594, 369.1029357910156, 449.8323974609375, 210.2528076171875, 196.00311279296875, 275.3374938964844, 583.7843627929688, 854.033447265625, 792.2866821289062, 797.955078125, 294.0601501464844, 546.5997924804688, 539.9308471679688, 410.39752197265625, 412.79925537109375, 351.6625671386719, 671.4663696289062, 704.0027465820312, 552.7304077148438, 578.6139526367188, 604.035400390625, 481.6597595214844, 477.07818603515625, 394.866943359375, 350.56207275390625, 368.650634765625, 372.05633544921875, 580.0618896484375, 161.68348693847656, 152.55267333984375, 101.63585662841797, 173.67518615722656, 93.0101547241211, 1311.3475341796875, 346.8191223144531, 80.02726745605469, 83.78942108154297, 75.68960571289062, 90.3282241821289, 73.84097290039062, 75.7394790649414, 76.37382507324219, 185.7344512939453, 64.17608642578125, 71.38595581054688, 98.54413604736328, 57.73161315917969, 198.89305114746094, 77.36797332763672, 71.86980438232422, 62.71291732788086, 52.532752990722656, 48.659568786621094, 47.97309494018555, 49.264678955078125, 45.478572845458984, 44.654319763183594, 342.60052490234375, 148.312255859375, 243.41407775878906, 122.90924072265625, 657.5947265625, 93.70075988769531, 1684.316162109375, 327.7431640625, 176.9191131591797, 1298.9713134765625, 127.0119400024414, 532.8849487304688, 248.95957946777344, 206.11264038085938, 251.23651123046875, 94.66956329345703, 141.17726135253906, 255.88331604003906, 137.4264373779297, 127.9306869506836, 305.77886962890625, 161.20681762695312, 405.17724609375, 1457.05517578125, 437.94854736328125, 271.75775146484375, 478.2071533203125, 482.6787414550781, 877.7684326171875, 667.216796875, 224.94183349609375, 708.8438110351562, 425.96728515625, 534.8978881835938, 568.1917114257812, 289.74639892578125, 345.37591552734375, 414.9684753417969, 356.9703674316406, 326.61810302734375, 378.6714172363281, 301.86578369140625, 325.8223876953125, 306.872314453125, 326.0694580078125, 337.9813232421875, 534.780517578125, 1419.7235107421875, 419.8266296386719, 224.95013427734375, 220.7471466064453, 197.13430786132812, 2288.403564453125, 151.97483825683594, 142.72203063964844, 140.187744140625, 462.9138488769531, 160.8279266357422, 122.1089096069336, 148.50428771972656, 125.97750854492188, 110.14779663085938, 111.4750747680664, 138.7489013671875, 214.94052124023438, 97.8010482788086, 100.57707977294922, 86.55240631103516, 105.28913879394531, 86.8882064819336, 306.4587097167969, 463.8437805175781, 83.9930191040039, 77.3777084350586, 82.77699279785156, 1337.0706787109375, 222.22213745117188, 185.76348876953125, 145.01686096191406, 135.91737365722656, 218.5784912109375, 209.84078979492188, 532.4498291015625, 369.71502685546875, 610.8067626953125, 1736.076416015625, 707.8565063476562, 247.51007080078125, 309.47991943359375, 827.5385131835938, 307.9380187988281, 1250.4659423828125, 307.3551330566406, 428.9497985839844, 359.6778564453125, 1169.769287109375, 748.4255981445312, 532.0557861328125, 811.2549438476562, 905.6708984375, 899.4141845703125, 603.03515625, 574.0902099609375, 611.689208984375, 444.4674377441406, 434.2015380859375, 470.31219482421875, 444.6056823730469, 431.1348571777344, 292.705078125, 285.0982666015625, 378.18548583984375, 178.46798706054688, 168.55630493164062, 151.31442260742188, 133.55091857910156, 127.05535888671875, 116.6170654296875, 109.30061340332031, 109.05293273925781, 106.68067169189453, 103.99637603759766, 111.49636840820312, 114.82567596435547, 131.54193115234375, 88.99882507324219, 73.66417694091797, 73.14256286621094, 69.90550994873047, 371.1169128417969, 70.06216430664062, 100.87372589111328, 63.59639358520508, 61.45673370361328, 62.76652526855469, 59.608787536621094, 62.28784942626953, 53.97335433959961, 53.048316955566406, 87.50309753417969, 140.87347412109375, 64.6520004272461, 286.6413879394531, 207.19461059570312, 234.4852294921875, 108.42017364501953, 190.63499450683594, 175.62501525878906, 527.6744384765625, 180.50733947753906, 96.7843246459961, 341.7095642089844, 309.0805358886719, 173.92123413085938, 542.3267822265625, 361.6047058105469, 152.71588134765625, 387.1487121582031, 375.97998046875, 211.10983276367188, 200.62893676757812, 230.26637268066406, 356.1666259765625, 291.3891296386719, 366.9122009277344, 199.57302856445312, 318.6611328125, 354.9361877441406, 222.64891052246094, 257.8636779785156, 195.6376495361328, 246.38140869140625, 235.7969970703125, 240.48782348632812, 203.48635864257812, 221.49964904785156, 213.23854064941406, 193.80702209472656, 189.17552185058594, 185.15977478027344, 335.16107177734375, 153.5908660888672, 129.05250549316406, 127.15662384033203, 121.91240692138672, 265.20855712890625, 113.83922576904297, 105.58636474609375, 105.33573150634766, 104.94122314453125, 90.09322357177734, 91.19083404541016, 101.25800323486328, 79.28711700439453, 75.34992980957031, 71.28721618652344, 69.52088928222656, 62.27190017700195, 61.48283386230469, 64.27643585205078, 59.304805755615234, 57.280216217041016, 57.04201889038086, 57.902225494384766, 57.796653747558594, 58.578712463378906, 78.71605682373047, 196.17173767089844, 134.9442901611328, 99.38954162597656, 265.5347900390625, 103.46145629882812, 498.294921875, 404.0492248535156, 331.1492919921875, 117.06405639648438, 333.3409423828125, 1188.1260986328125, 304.9154357910156, 186.1195831298828, 200.28945922851562, 463.16754150390625, 267.44085693359375, 214.00242614746094, 439.41192626953125, 239.17654418945312, 210.90386962890625, 290.2115783691406, 328.4362487792969, 289.7017517089844, 247.2081756591797, 170.97901916503906, 177.90890502929688, 260.8979187011719, 297.4070739746094, 308.54620361328125, 268.9238586425781, 242.0435028076172, 234.59339904785156, 249.6519012451172, 253.09571838378906, 236.49337768554688, 248.28695678710938, 224.89920043945312, 216.8521270751953, 109.68170928955078, 82.4796142578125, 84.75559997558594, 102.53923034667969, 75.48833465576172, 73.31702423095703, 66.98692321777344, 94.81791687011719, 82.6738510131836, 57.7238655090332, 53.831092834472656, 53.34018325805664, 361.4652099609375, 49.63562774658203, 45.967159271240234, 45.17620086669922, 44.27695846557617, 50.55613708496094, 43.183677673339844, 41.78058624267578, 40.90285873413086, 40.90285873413086, 40.90285873413086, 40.90286636352539, 40.90285873413086, 40.21565246582031, 45.358028411865234, 38.98543167114258, 37.82286834716797, 37.73601531982422, 118.1978530883789, 148.58206176757812, 48.214599609375, 43.549476623535156, 191.13116455078125, 156.23764038085938, 104.75244903564453, 52.98745346069336, 1209.159912109375, 1878.06005859375, 234.74758911132812, 109.55281829833984, 324.666259765625, 192.98468017578125, 372.3543395996094, 78.94876098632812, 244.7763671875, 661.8038330078125, 146.31143188476562, 101.31219482421875, 737.3509521484375, 265.2272644042969, 384.62603759765625, 114.4391098022461, 255.30087280273438, 232.0144500732422, 286.6824645996094, 153.12347412109375, 200.2166290283203, 552.903076171875, 320.50897216796875, 257.213623046875, 283.0988464355469, 193.7566375732422, 267.3337707519531, 242.8643798828125, 203.3458709716797, 305.4459228515625, 242.15504455566406, 213.0635986328125, 190.48309326171875, 218.0082244873047, 201.39093017578125, 215.11883544921875, 211.525146484375, 199.3596954345703, 129.63360595703125, 144.20130920410156, 147.8006134033203, 104.9261703491211, 152.58509826660156, 57.569854736328125, 57.842559814453125, 56.453102111816406, 53.769447326660156, 50.14707946777344, 74.45079040527344, 80.2829818725586, 53.583900451660156, 46.1645622253418, 42.73973846435547, 43.25959014892578, 44.27426528930664, 40.86739730834961, 42.26021957397461, 40.67650604248047, 39.71036148071289, 39.70502471923828, 38.547000885009766, 38.14786911010742, 37.723575592041016, 36.990394592285156, 36.448238372802734, 39.440338134765625, 34.99445724487305, 34.05141830444336, 49.63564682006836, 143.77842712402344, 111.65705871582031, 271.2277526855469, 114.81753540039062, 67.5280532836914, 57.483280181884766, 82.60942840576172, 797.4849853515625, 73.90103149414062, 265.0322570800781, 102.90419006347656, 67.40359497070312, 652.0906982421875, 150.73974609375, 250.67782592773438, 545.9691162109375, 2417.710205078125, 329.3094482421875, 537.8969116210938, 232.76406860351562, 86.70848846435547, 279.14068603515625, 289.6805419921875, 1280.8104248046875, 92.13030242919922, 966.3165283203125, 291.26983642578125, 375.6407165527344, 120.08429718017578, 505.2607727050781, 308.3160095214844, 349.537109375, 489.17486572265625, 310.65704345703125, 1104.360107421875, 367.9842224121094, 684.2306518554688, 395.5977783203125, 268.4106750488281, 617.2133178710938, 372.6880187988281, 667.1700439453125, 313.04205322265625, 294.22967529296875, 365.65789794921875, 516.2528686523438, 428.1339416503906, 441.1592712402344, 575.9688110351562, 437.9434509277344, 396.5352478027344, 370.2474670410156, 370.93896484375, 337.7633361816406, 344.0465087890625], \"Total\": [4973.0, 2299.0, 3948.0, 5652.0, 2462.0, 3016.0, 1997.0, 1875.0, 2668.0, 2102.0, 1424.0, 2472.0, 3343.0, 1324.0, 1369.0, 1733.0, 3685.0, 1532.0, 2051.0, 3408.0, 816.0, 1078.0, 1023.0, 848.0, 1760.0, 1216.0, 1336.0, 1156.0, 668.0, 910.0, 227.15623474121094, 292.50653076171875, 156.3070526123047, 135.9375457763672, 157.63111877441406, 186.43539428710938, 276.9670104980469, 90.96553802490234, 90.06941986083984, 89.45573425292969, 118.0020523071289, 89.30875396728516, 88.2121810913086, 86.73613739013672, 455.2728576660156, 85.86588287353516, 104.59963989257812, 105.20286560058594, 191.68687438964844, 283.3885803222656, 79.85635375976562, 76.29180145263672, 75.7213134765625, 75.29692840576172, 78.34629821777344, 74.67823791503906, 74.42708587646484, 114.1326675415039, 73.44022369384766, 74.7349624633789, 281.187255859375, 162.6716766357422, 162.27142333984375, 112.9837875366211, 230.648193359375, 87.03775024414062, 3948.965576171875, 280.499267578125, 421.52471923828125, 124.60173797607422, 161.85548400878906, 155.2283935546875, 434.620361328125, 668.9380493164062, 340.40557861328125, 184.1086883544922, 124.84336853027344, 1186.1339111328125, 150.53518676757812, 853.3406372070312, 251.4506072998047, 223.26316833496094, 802.4102783203125, 1575.5, 241.11158752441406, 1336.227783203125, 1716.7122802734375, 495.3326721191406, 2102.884521484375, 1316.953125, 2836.1044921875, 1092.99462890625, 667.9999389648438, 759.4203491210938, 617.8125, 1431.41064453125, 483.4209289550781, 1023.6484985351562, 4973.0185546875, 1694.033203125, 1833.4720458984375, 4580.1083984375, 1410.647216796875, 1201.0233154296875, 3630.259521484375, 1656.1673583984375, 755.0819091796875, 2383.420654296875, 1221.1304931640625, 2969.3447265625, 2505.13330078125, 6112.2880859375, 5389.5927734375, 3352.7353515625, 3706.229248046875, 2145.090087890625, 848.3840942382812, 710.103759765625, 202.68624877929688, 129.6422882080078, 103.3602523803711, 81.36219024658203, 73.13919830322266, 584.1478881835938, 76.45533752441406, 69.92717742919922, 66.81121826171875, 65.31068420410156, 62.730403900146484, 63.752376556396484, 61.91083526611328, 60.47028732299805, 94.56195831298828, 146.29107666015625, 52.33401870727539, 51.453025817871094, 52.89180374145508, 49.624149322509766, 49.623077392578125, 49.39073944091797, 48.276790618896484, 47.8709716796875, 47.645347595214844, 47.5247688293457, 47.0801887512207, 52.44889831542969, 1997.0880126953125, 111.8248291015625, 153.80755615234375, 1532.3575439453125, 361.608642578125, 133.98287963867188, 337.88861083984375, 105.1238784790039, 236.77609252929688, 208.9806671142578, 108.4034652709961, 212.87184143066406, 400.7084045410156, 291.8664245605469, 644.596923828125, 161.1185760498047, 1059.697998046875, 189.0513458251953, 712.2703857421875, 872.9285278320312, 490.15509033203125, 417.20330810546875, 808.3478393554688, 434.6627502441406, 821.6881713867188, 230.11509704589844, 642.0643310546875, 284.4210510253906, 514.5839233398438, 1760.2298583984375, 2505.13330078125, 474.80462646484375, 1525.974365234375, 1354.9124755859375, 3706.229248046875, 3869.3212890625, 6112.2880859375, 2772.289306640625, 3325.7294921875, 4580.1083984375, 3054.01708984375, 2651.10791015625, 5389.5927734375, 2645.8984375, 5652.005859375, 2066.537841796875, 2802.51513671875, 2510.971923828125, 3685.0029296875, 3352.7353515625, 144.48936462402344, 135.66763305664062, 89.53461456298828, 81.35808563232422, 76.97562408447266, 76.32128143310547, 71.3349380493164, 68.10504913330078, 66.72151947021484, 68.10192108154297, 72.82766723632812, 58.355770111083984, 62.12376403808594, 56.39393997192383, 56.17100143432617, 61.482879638671875, 51.79188537597656, 61.48208236694336, 51.15055465698242, 50.666770935058594, 50.071693420410156, 50.97599411010742, 81.04753112792969, 82.07001495361328, 49.09663009643555, 49.404693603515625, 48.907928466796875, 46.02135467529297, 47.16521453857422, 54.3870735168457, 72.99006652832031, 541.7425537109375, 84.492919921875, 349.4655456542969, 358.7740173339844, 325.0141296386719, 75.5794677734375, 198.4222869873047, 134.79515075683594, 126.50206756591797, 486.5217590332031, 493.2012939453125, 74.53755950927734, 208.540283203125, 143.30642700195312, 405.2967224121094, 141.00509643554688, 858.4679565429688, 480.174560546875, 311.8348083496094, 200.6285400390625, 735.8733520507812, 759.3405151367188, 871.1007080078125, 607.4100341796875, 590.4710083007812, 602.7355346679688, 384.28167724609375, 1173.76416015625, 550.367431640625, 2645.849853515625, 2969.3447265625, 1525.974365234375, 853.881591796875, 3016.38720703125, 6112.2880859375, 1927.2122802734375, 2123.73046875, 5652.005859375, 2261.37841796875, 1919.457763671875, 1077.3853759765625, 3325.7294921875, 3408.278076171875, 2784.911376953125, 1547.1632080078125, 1171.667236328125, 2802.51513671875, 1956.2862548828125, 3630.259521484375, 3054.01708984375, 3706.229248046875, 5389.5927734375, 329.2120056152344, 816.9420166015625, 85.58329772949219, 106.50164031982422, 82.94859313964844, 72.67554473876953, 68.89708709716797, 77.31536865234375, 66.72431182861328, 59.39710235595703, 58.90626907348633, 93.10443115234375, 56.12565231323242, 52.31216812133789, 51.21510314941406, 50.74109649658203, 122.56847381591797, 49.20481872558594, 47.336055755615234, 52.8431396484375, 45.85408020019531, 45.76398468017578, 44.00958251953125, 45.097801208496094, 43.129825592041016, 42.53839874267578, 42.34242630004883, 42.230926513671875, 45.81462478637695, 42.28695297241211, 43.05449295043945, 418.7337646484375, 61.89474105834961, 51.534881591796875, 58.73891830444336, 103.84835815429688, 247.82627868652344, 509.4014892578125, 283.49945068359375, 96.55469512939453, 141.98089599609375, 92.22358703613281, 201.12290954589844, 266.2736511230469, 264.6360778808594, 522.2508544921875, 73.9459457397461, 105.8265380859375, 180.60557556152344, 2462.21240234375, 740.4610595703125, 170.28724670410156, 494.4051818847656, 147.70314025878906, 1873.5108642578125, 245.39317321777344, 729.3377685546875, 400.2244567871094, 719.3530883789062, 958.4605712890625, 328.81744384765625, 298.6132507324219, 491.2978210449219, 1487.90576171875, 2645.8984375, 2510.971923828125, 2772.289306640625, 576.9420776367188, 1843.6168212890625, 2145.090087890625, 1280.4432373046875, 1315.636962890625, 972.4047241210938, 3685.0029296875, 5652.005859375, 3408.278076171875, 4580.1083984375, 5389.5927734375, 3016.38720703125, 3054.01708984375, 1934.4888916015625, 1292.1724853515625, 1940.3128662109375, 2969.3447265625, 581.29931640625, 162.63674926757812, 153.6579132080078, 102.4740219116211, 175.26535034179688, 93.9103012084961, 1324.237060546875, 350.41497802734375, 80.9258041381836, 84.73075866699219, 76.58219909667969, 91.42941284179688, 74.75442504882812, 76.6778335571289, 77.34644317626953, 188.1009979248047, 65.02476501464844, 72.39342498779297, 99.96155548095703, 58.58332061767578, 201.847900390625, 78.52572631835938, 72.96868896484375, 63.7109260559082, 53.37000274658203, 49.504150390625, 48.81117630004883, 50.134883880615234, 46.31435012817383, 45.524688720703125, 351.1905212402344, 151.6172332763672, 250.72608947753906, 126.15689849853516, 692.9003295898438, 96.19464874267578, 1875.19287109375, 357.53485107421875, 194.03294372558594, 1733.7880859375, 136.65792846679688, 674.0180053710938, 294.7014465332031, 242.7413330078125, 308.2719421386719, 99.21194458007812, 158.57269287109375, 328.84521484375, 155.3419952392578, 143.24412536621094, 440.9920349121094, 193.59669494628906, 662.0857543945312, 3685.0029296875, 754.573486328125, 429.56072998046875, 1149.4189453125, 1201.0233154296875, 4580.1083984375, 3352.7353515625, 383.9161071777344, 6112.2880859375, 1821.8780517578125, 3408.278076171875, 4973.0185546875, 804.7114868164062, 1386.4781494140625, 2651.10791015625, 1662.293212890625, 1320.59521484375, 2772.289306640625, 977.5181884765625, 1919.457763671875, 1377.9884033203125, 2624.86865234375, 339.1195068359375, 536.6033325195312, 1424.9285888671875, 421.4228820800781, 225.8200225830078, 221.65390014648438, 198.0978240966797, 2299.8251953125, 152.85516357421875, 143.5950469970703, 141.0579833984375, 465.8755798339844, 161.90432739257812, 122.9698486328125, 149.59986877441406, 126.95354461669922, 111.00751495361328, 112.39998626708984, 139.9483184814453, 216.85574340820312, 98.67789459228516, 101.48356628417969, 87.39038848876953, 106.31712341308594, 87.739990234375, 309.5674133300781, 468.5888977050781, 84.86518859863281, 78.22091674804688, 83.68296813964844, 1369.6988525390625, 224.74237060546875, 188.20172119140625, 146.893310546875, 137.72140502929688, 225.56333923339844, 217.00502014160156, 588.7905883789062, 402.30120849609375, 716.8460083007812, 2472.697265625, 910.6832275390625, 273.9273681640625, 357.53314208984375, 1156.6458740234375, 361.1886901855469, 2051.470458984375, 367.16021728515625, 670.9007568359375, 538.600341796875, 3343.83935546875, 2066.537841796875, 1140.854248046875, 3706.229248046875, 5389.5927734375, 6112.2880859375, 2802.51513671875, 2510.971923828125, 3869.3212890625, 1843.6168212890625, 1927.2122802734375, 3352.7353515625, 3630.259521484375, 3408.278076171875, 293.63800048828125, 286.1369323730469, 379.5876770019531, 179.34303283691406, 169.4446258544922, 152.2037353515625, 134.4207763671875, 127.9261474609375, 117.51175689697266, 110.15491485595703, 109.91862487792969, 107.53921508789062, 104.8874740600586, 112.45559692382812, 115.8228759765625, 132.72262573242188, 89.85346984863281, 74.52642822265625, 74.00630187988281, 70.74930572509766, 375.7088623046875, 70.95132446289062, 102.16452026367188, 64.46395111083984, 62.30652618408203, 63.64491271972656, 60.479637145996094, 63.20921325683594, 54.816524505615234, 53.9144401550293, 89.07268524169922, 144.10719299316406, 65.71448516845703, 305.9744567871094, 220.1099090576172, 253.68792724609375, 112.63883209228516, 204.03775024414062, 190.0412139892578, 668.6368408203125, 207.0961456298828, 101.98006439208984, 510.01788330078125, 449.8056640625, 215.2306365966797, 1216.640380859375, 711.829345703125, 200.76620483398438, 1008.5670166015625, 1023.6484985351562, 364.6813049316406, 339.9259338378906, 456.0692138671875, 1377.9884033203125, 1171.667236328125, 2232.70556640625, 440.203369140625, 1919.457763671875, 3016.38720703125, 663.1699829101562, 2218.5830078125, 455.8312683105469, 2668.822998046875, 2123.73046875, 3869.3212890625, 829.5143432617188, 3630.259521484375, 214.17001342773438, 194.70709228515625, 190.0615234375, 186.0477752685547, 336.96783447265625, 154.5833740234375, 129.95986938476562, 128.057861328125, 122.78810119628906, 267.2330017089844, 114.72161102294922, 106.4622802734375, 106.22454833984375, 105.833740234375, 90.98197174072266, 92.109619140625, 102.33309936523438, 80.13679504394531, 76.22059631347656, 72.1390151977539, 70.37540435791016, 63.12614822387695, 62.34038543701172, 65.1866226196289, 60.15028762817383, 58.12761306762695, 57.88795471191406, 58.766357421875, 58.661136627197266, 59.46219253540039, 79.93101501464844, 202.0226287841797, 138.97711181640625, 101.9105224609375, 280.345947265625, 107.15475463867188, 579.3931884765625, 466.22857666015625, 382.5256042480469, 124.84978485107422, 497.6361083984375, 3016.38720703125, 511.8205871582031, 284.6001892089844, 320.7940673828125, 1502.6424560546875, 607.792724609375, 409.1424560546875, 1760.2298583984375, 586.5189208984375, 524.4342041015625, 1147.7022705078125, 1547.1632080078125, 1257.7342529296875, 854.5452880859375, 329.63385009765625, 420.57421875, 1799.1907958984375, 3054.01708984375, 3630.259521484375, 3685.0029296875, 2066.537841796875, 1919.457763671875, 3869.3212890625, 5389.5927734375, 2651.10791015625, 5652.005859375, 2802.51513671875, 2215.625732421875, 110.55840301513672, 83.32505798339844, 85.6798324584961, 103.660888671875, 76.35694885253906, 74.21605682373047, 67.83084869384766, 96.05839538574219, 83.77107238769531, 58.56669998168945, 54.67843246459961, 54.185604095458984, 367.2555236816406, 50.495140075683594, 46.813350677490234, 46.01996994018555, 45.11606979370117, 51.524391174316406, 44.04375076293945, 42.62410354614258, 41.741905212402344, 41.741905212402344, 41.741905212402344, 41.741912841796875, 41.741905212402344, 41.058311462402344, 46.319488525390625, 39.83086395263672, 38.662025451660156, 38.576202392578125, 120.87045288085938, 152.79295349121094, 49.461814880371094, 44.60209655761719, 211.32354736328125, 198.31349182128906, 125.232421875, 56.90566635131836, 2668.822998046875, 4973.0185546875, 372.600341796875, 148.5507354736328, 635.0785522460938, 318.5588073730469, 791.5728149414062, 98.73410034179688, 486.3242492675781, 2102.884521484375, 252.4464111328125, 146.806396484375, 3408.278076171875, 735.3023071289062, 1354.9124755859375, 187.30050659179688, 782.1281127929688, 751.7791137695312, 1235.25439453125, 342.5521545410156, 635.2044677734375, 6112.2880859375, 2215.625732421875, 1336.227783203125, 1821.8780517578125, 675.2115478515625, 1847.0595703125, 1656.1673583984375, 1006.08251953125, 5389.5927734375, 2836.1044921875, 1668.4803466796875, 1149.4189453125, 3630.259521484375, 2123.73046875, 4580.1083984375, 3948.965576171875, 5652.005859375, 130.7086639404297, 145.50596618652344, 149.1739501953125, 105.92115783691406, 154.40188598632812, 58.40422821044922, 58.70254135131836, 57.29845428466797, 54.61077117919922, 51.00014114379883, 75.72529602050781, 81.70436096191406, 54.54774856567383, 47.002227783203125, 43.57346725463867, 44.1143913269043, 45.15015411376953, 41.70302200317383, 43.1279182434082, 41.51564407348633, 40.544586181640625, 40.55070114135742, 39.38064193725586, 38.981388092041016, 38.562843322753906, 37.827606201171875, 37.28955078125, 40.353729248046875, 35.8284912109375, 34.88471603393555, 50.87531661987305, 149.74188232421875, 115.72694396972656, 296.5671081542969, 121.83525848388672, 70.45442199707031, 59.92652893066406, 88.1277847290039, 1078.6475830078125, 80.30926513671875, 332.87115478515625, 116.9137954711914, 72.98062133789062, 1053.283935546875, 190.9534454345703, 352.2755432128906, 916.5870361328125, 5652.005859375, 502.7161865234375, 951.8755493164062, 343.87103271484375, 100.10397338867188, 448.18359375, 479.0921630859375, 3343.83935546875, 108.28758239746094, 2462.21240234375, 506.38226318359375, 737.3790283203125, 156.64671325683594, 1221.1304931640625, 614.2617797851562, 761.03564453125, 1280.4432373046875, 670.0023193359375, 5389.5927734375, 926.5159912109375, 2784.911376953125, 1113.812744140625, 549.9564208984375, 3054.01708984375, 1099.818603515625, 3869.3212890625, 763.911865234375, 685.7445068359375, 1173.76416015625, 3325.7294921875, 1956.2862548828125, 2232.70556640625, 6112.2880859375, 2802.51513671875, 2261.37841796875, 1740.1729736328125, 1934.4888916015625, 1144.55712890625, 2836.1044921875], \"Category\": [\"Default\", \"Default\", \"Default\", \"Default\", \"Default\", \"Default\", \"Default\", \"Default\", \"Default\", \"Default\", \"Default\", \"Default\", \"Default\", \"Default\", \"Default\", \"Default\", \"Default\", \"Default\", \"Default\", \"Default\", \"Default\", \"Default\", \"Default\", \"Default\", \"Default\", \"Default\", \"Default\", \"Default\", \"Default\", \"Default\", \"Topic1\", \"Topic1\", \"Topic1\", \"Topic1\", \"Topic1\", \"Topic1\", \"Topic1\", \"Topic1\", \"Topic1\", \"Topic1\", \"Topic1\", \"Topic1\", \"Topic1\", \"Topic1\", \"Topic1\", \"Topic1\", \"Topic1\", \"Topic1\", \"Topic1\", \"Topic1\", \"Topic1\", \"Topic1\", \"Topic1\", \"Topic1\", \"Topic1\", \"Topic1\", \"Topic1\", \"Topic1\", \"Topic1\", \"Topic1\", \"Topic1\", \"Topic1\", \"Topic1\", \"Topic1\", \"Topic1\", \"Topic1\", \"Topic1\", \"Topic1\", \"Topic1\", \"Topic1\", \"Topic1\", \"Topic1\", \"Topic1\", \"Topic1\", \"Topic1\", \"Topic1\", \"Topic1\", \"Topic1\", \"Topic1\", \"Topic1\", \"Topic1\", \"Topic1\", \"Topic1\", \"Topic1\", \"Topic1\", \"Topic1\", \"Topic1\", \"Topic1\", \"Topic1\", \"Topic1\", \"Topic1\", \"Topic1\", \"Topic1\", \"Topic1\", \"Topic1\", \"Topic1\", \"Topic1\", \"Topic1\", \"Topic1\", \"Topic1\", \"Topic1\", \"Topic1\", \"Topic1\", \"Topic1\", \"Topic1\", \"Topic1\", \"Topic1\", \"Topic1\", \"Topic1\", \"Topic1\", \"Topic1\", \"Topic1\", \"Topic1\", \"Topic1\", \"Topic1\", \"Topic1\", \"Topic2\", \"Topic2\", \"Topic2\", \"Topic2\", \"Topic2\", \"Topic2\", \"Topic2\", \"Topic2\", \"Topic2\", \"Topic2\", \"Topic2\", \"Topic2\", \"Topic2\", \"Topic2\", \"Topic2\", \"Topic2\", \"Topic2\", \"Topic2\", \"Topic2\", \"Topic2\", \"Topic2\", \"Topic2\", \"Topic2\", \"Topic2\", \"Topic2\", \"Topic2\", \"Topic2\", \"Topic2\", \"Topic2\", \"Topic2\", \"Topic2\", \"Topic2\", \"Topic2\", \"Topic2\", \"Topic2\", \"Topic2\", \"Topic2\", \"Topic2\", \"Topic2\", \"Topic2\", \"Topic2\", \"Topic2\", \"Topic2\", \"Topic2\", \"Topic2\", \"Topic2\", \"Topic2\", \"Topic2\", \"Topic2\", \"Topic2\", \"Topic2\", \"Topic2\", \"Topic2\", \"Topic2\", \"Topic2\", \"Topic2\", \"Topic2\", \"Topic2\", \"Topic2\", \"Topic2\", \"Topic2\", \"Topic2\", \"Topic2\", \"Topic2\", \"Topic2\", \"Topic2\", \"Topic2\", \"Topic2\", \"Topic2\", \"Topic2\", \"Topic2\", \"Topic2\", \"Topic2\", \"Topic2\", \"Topic2\", \"Topic2\", \"Topic2\", \"Topic2\", \"Topic2\", \"Topic2\", \"Topic3\", \"Topic3\", \"Topic3\", \"Topic3\", \"Topic3\", \"Topic3\", \"Topic3\", \"Topic3\", \"Topic3\", \"Topic3\", \"Topic3\", \"Topic3\", \"Topic3\", \"Topic3\", \"Topic3\", \"Topic3\", \"Topic3\", \"Topic3\", \"Topic3\", \"Topic3\", \"Topic3\", \"Topic3\", \"Topic3\", \"Topic3\", \"Topic3\", \"Topic3\", \"Topic3\", \"Topic3\", \"Topic3\", \"Topic3\", \"Topic3\", \"Topic3\", \"Topic3\", \"Topic3\", \"Topic3\", \"Topic3\", \"Topic3\", \"Topic3\", \"Topic3\", \"Topic3\", \"Topic3\", \"Topic3\", \"Topic3\", \"Topic3\", \"Topic3\", \"Topic3\", \"Topic3\", \"Topic3\", \"Topic3\", \"Topic3\", \"Topic3\", \"Topic3\", \"Topic3\", \"Topic3\", \"Topic3\", \"Topic3\", \"Topic3\", \"Topic3\", \"Topic3\", \"Topic3\", \"Topic3\", \"Topic3\", \"Topic3\", \"Topic3\", \"Topic3\", \"Topic3\", \"Topic3\", \"Topic3\", \"Topic3\", \"Topic3\", \"Topic3\", \"Topic3\", \"Topic3\", \"Topic3\", \"Topic3\", \"Topic3\", \"Topic3\", \"Topic3\", \"Topic3\", \"Topic3\", \"Topic3\", \"Topic3\", \"Topic3\", \"Topic4\", \"Topic4\", \"Topic4\", \"Topic4\", \"Topic4\", \"Topic4\", \"Topic4\", \"Topic4\", \"Topic4\", \"Topic4\", \"Topic4\", \"Topic4\", \"Topic4\", \"Topic4\", \"Topic4\", \"Topic4\", \"Topic4\", \"Topic4\", \"Topic4\", \"Topic4\", \"Topic4\", \"Topic4\", \"Topic4\", \"Topic4\", \"Topic4\", \"Topic4\", \"Topic4\", \"Topic4\", \"Topic4\", \"Topic4\", \"Topic4\", \"Topic4\", \"Topic4\", \"Topic4\", \"Topic4\", \"Topic4\", \"Topic4\", \"Topic4\", \"Topic4\", \"Topic4\", \"Topic4\", \"Topic4\", \"Topic4\", \"Topic4\", \"Topic4\", \"Topic4\", \"Topic4\", \"Topic4\", \"Topic4\", \"Topic4\", \"Topic4\", \"Topic4\", \"Topic4\", \"Topic4\", \"Topic4\", \"Topic4\", \"Topic4\", \"Topic4\", \"Topic4\", \"Topic4\", \"Topic4\", \"Topic4\", \"Topic4\", \"Topic4\", \"Topic4\", \"Topic4\", \"Topic4\", \"Topic4\", \"Topic4\", \"Topic4\", \"Topic4\", \"Topic4\", \"Topic4\", \"Topic4\", \"Topic4\", \"Topic4\", \"Topic4\", \"Topic4\", \"Topic4\", \"Topic4\", \"Topic4\", \"Topic4\", \"Topic4\", \"Topic4\", \"Topic5\", \"Topic5\", \"Topic5\", \"Topic5\", \"Topic5\", \"Topic5\", \"Topic5\", \"Topic5\", \"Topic5\", \"Topic5\", \"Topic5\", \"Topic5\", \"Topic5\", \"Topic5\", \"Topic5\", \"Topic5\", \"Topic5\", \"Topic5\", \"Topic5\", \"Topic5\", \"Topic5\", \"Topic5\", \"Topic5\", \"Topic5\", \"Topic5\", \"Topic5\", \"Topic5\", \"Topic5\", \"Topic5\", \"Topic5\", \"Topic5\", \"Topic5\", \"Topic5\", \"Topic5\", \"Topic5\", \"Topic5\", \"Topic5\", \"Topic5\", \"Topic5\", \"Topic5\", \"Topic5\", \"Topic5\", \"Topic5\", \"Topic5\", \"Topic5\", \"Topic5\", \"Topic5\", \"Topic5\", \"Topic5\", \"Topic5\", \"Topic5\", \"Topic5\", \"Topic5\", \"Topic5\", \"Topic5\", \"Topic5\", \"Topic5\", \"Topic5\", \"Topic5\", \"Topic5\", \"Topic5\", \"Topic5\", \"Topic5\", \"Topic5\", \"Topic5\", \"Topic5\", \"Topic5\", \"Topic5\", \"Topic5\", \"Topic5\", \"Topic5\", \"Topic5\", \"Topic5\", \"Topic5\", \"Topic5\", \"Topic6\", \"Topic6\", \"Topic6\", \"Topic6\", \"Topic6\", \"Topic6\", \"Topic6\", \"Topic6\", \"Topic6\", \"Topic6\", \"Topic6\", \"Topic6\", \"Topic6\", \"Topic6\", \"Topic6\", \"Topic6\", \"Topic6\", \"Topic6\", \"Topic6\", \"Topic6\", \"Topic6\", \"Topic6\", \"Topic6\", \"Topic6\", \"Topic6\", \"Topic6\", \"Topic6\", \"Topic6\", \"Topic6\", \"Topic6\", \"Topic6\", \"Topic6\", \"Topic6\", \"Topic6\", \"Topic6\", \"Topic6\", \"Topic6\", \"Topic6\", \"Topic6\", \"Topic6\", \"Topic6\", \"Topic6\", \"Topic6\", \"Topic6\", \"Topic6\", \"Topic6\", \"Topic6\", \"Topic6\", \"Topic6\", \"Topic6\", \"Topic6\", \"Topic6\", \"Topic6\", \"Topic6\", \"Topic6\", \"Topic6\", \"Topic6\", \"Topic6\", \"Topic6\", \"Topic6\", \"Topic6\", \"Topic6\", \"Topic6\", \"Topic6\", \"Topic7\", \"Topic7\", \"Topic7\", \"Topic7\", \"Topic7\", \"Topic7\", \"Topic7\", \"Topic7\", \"Topic7\", \"Topic7\", \"Topic7\", \"Topic7\", \"Topic7\", \"Topic7\", \"Topic7\", \"Topic7\", \"Topic7\", \"Topic7\", \"Topic7\", \"Topic7\", \"Topic7\", \"Topic7\", \"Topic7\", \"Topic7\", \"Topic7\", \"Topic7\", \"Topic7\", \"Topic7\", \"Topic7\", \"Topic7\", \"Topic7\", \"Topic7\", \"Topic7\", \"Topic7\", \"Topic7\", \"Topic7\", \"Topic7\", \"Topic7\", \"Topic7\", \"Topic7\", \"Topic7\", \"Topic7\", \"Topic7\", \"Topic7\", \"Topic7\", \"Topic7\", \"Topic7\", \"Topic7\", \"Topic7\", \"Topic7\", \"Topic7\", \"Topic7\", \"Topic7\", \"Topic7\", \"Topic7\", \"Topic7\", \"Topic7\", \"Topic7\", \"Topic7\", \"Topic7\", \"Topic7\", \"Topic7\", \"Topic7\", \"Topic7\", \"Topic7\", \"Topic7\", \"Topic7\", \"Topic8\", \"Topic8\", \"Topic8\", \"Topic8\", \"Topic8\", \"Topic8\", \"Topic8\", \"Topic8\", \"Topic8\", \"Topic8\", \"Topic8\", \"Topic8\", \"Topic8\", \"Topic8\", \"Topic8\", \"Topic8\", \"Topic8\", \"Topic8\", \"Topic8\", \"Topic8\", \"Topic8\", \"Topic8\", \"Topic8\", \"Topic8\", \"Topic8\", \"Topic8\", \"Topic8\", \"Topic8\", \"Topic8\", \"Topic8\", \"Topic8\", \"Topic8\", \"Topic8\", \"Topic8\", \"Topic8\", \"Topic8\", \"Topic8\", \"Topic8\", \"Topic8\", \"Topic8\", \"Topic8\", \"Topic8\", \"Topic8\", \"Topic8\", \"Topic8\", \"Topic8\", \"Topic8\", \"Topic8\", \"Topic8\", \"Topic8\", \"Topic8\", \"Topic8\", \"Topic8\", \"Topic8\", \"Topic8\", \"Topic8\", \"Topic8\", \"Topic8\", \"Topic8\", \"Topic8\", \"Topic8\", \"Topic8\", \"Topic8\", \"Topic8\", \"Topic8\", \"Topic8\", \"Topic8\", \"Topic8\", \"Topic8\", \"Topic9\", \"Topic9\", \"Topic9\", \"Topic9\", \"Topic9\", \"Topic9\", \"Topic9\", \"Topic9\", \"Topic9\", \"Topic9\", \"Topic9\", \"Topic9\", \"Topic9\", \"Topic9\", \"Topic9\", \"Topic9\", \"Topic9\", \"Topic9\", \"Topic9\", \"Topic9\", \"Topic9\", \"Topic9\", \"Topic9\", \"Topic9\", \"Topic9\", \"Topic9\", \"Topic9\", \"Topic9\", \"Topic9\", \"Topic9\", \"Topic9\", \"Topic9\", \"Topic9\", \"Topic9\", \"Topic9\", \"Topic9\", \"Topic9\", \"Topic9\", \"Topic9\", \"Topic9\", \"Topic9\", \"Topic9\", \"Topic9\", \"Topic9\", \"Topic9\", \"Topic9\", \"Topic9\", \"Topic9\", \"Topic9\", \"Topic9\", \"Topic9\", \"Topic9\", \"Topic9\", \"Topic9\", \"Topic9\", \"Topic9\", \"Topic9\", \"Topic9\", \"Topic9\", \"Topic9\", \"Topic9\", \"Topic9\", \"Topic9\", \"Topic9\", \"Topic9\", \"Topic9\", \"Topic9\", \"Topic9\", \"Topic9\", \"Topic9\", \"Topic9\", \"Topic9\", \"Topic9\", \"Topic9\", \"Topic9\", \"Topic9\", \"Topic10\", \"Topic10\", \"Topic10\", \"Topic10\", \"Topic10\", \"Topic10\", \"Topic10\", \"Topic10\", \"Topic10\", \"Topic10\", \"Topic10\", \"Topic10\", \"Topic10\", \"Topic10\", \"Topic10\", \"Topic10\", \"Topic10\", \"Topic10\", \"Topic10\", \"Topic10\", \"Topic10\", \"Topic10\", \"Topic10\", \"Topic10\", \"Topic10\", \"Topic10\", \"Topic10\", \"Topic10\", \"Topic10\", \"Topic10\", \"Topic10\", \"Topic10\", \"Topic10\", \"Topic10\", \"Topic10\", \"Topic10\", \"Topic10\", \"Topic10\", \"Topic10\", \"Topic10\", \"Topic10\", \"Topic10\", \"Topic10\", \"Topic10\", \"Topic10\", \"Topic10\", \"Topic10\", \"Topic10\", \"Topic10\", \"Topic10\", \"Topic10\", \"Topic10\", \"Topic10\", \"Topic10\", \"Topic10\", \"Topic10\", \"Topic10\", \"Topic10\", \"Topic10\", \"Topic10\", \"Topic10\", \"Topic10\", \"Topic10\", \"Topic10\", \"Topic10\", \"Topic10\", \"Topic10\", \"Topic10\", \"Topic10\", \"Topic10\", \"Topic10\", \"Topic10\", \"Topic10\", \"Topic10\", \"Topic10\", \"Topic10\", \"Topic10\", \"Topic10\", \"Topic10\", \"Topic10\", \"Topic10\", \"Topic10\", \"Topic10\", \"Topic10\", \"Topic10\", \"Topic10\"], \"logprob\": [30.0, 29.0, 28.0, 27.0, 26.0, 25.0, 24.0, 23.0, 22.0, 21.0, 20.0, 19.0, 18.0, 17.0, 16.0, 15.0, 14.0, 13.0, 12.0, 11.0, 10.0, 9.0, 8.0, 7.0, 6.0, 5.0, 4.0, 3.0, 2.0, 1.0, -6.914700031280518, -6.662300109863281, -7.290200233459473, -7.43120002746582, -7.283299922943115, -7.116300106048584, -6.7204999923706055, -7.835000038146973, -7.84499979019165, -7.8520002365112305, -7.574999809265137, -7.853700160980225, -7.866000175476074, -7.8831000328063965, -6.225100040435791, -7.893400192260742, -7.696100234985352, -7.690400123596191, -7.09089994430542, -6.699999809265137, -7.966599941253662, -8.012700080871582, -8.020299911499023, -8.026000022888184, -7.986299991607666, -8.034299850463867, -8.037799835205078, -7.610300064086914, -8.051199913024902, -8.034600257873535, -6.714799880981445, -7.257500171661377, -7.26140022277832, -7.621799945831299, -6.917099952697754, -7.882199764251709, -4.1350998878479, -6.727399826049805, -6.332200050354004, -7.527599811553955, -7.272299766540527, -7.314499855041504, -6.320300102233887, -5.908999919891357, -6.564599990844727, -7.155300140380859, -7.529799938201904, -5.369100093841553, -7.3506999015808105, -5.728600025177002, -6.872499942779541, -6.983399868011475, -5.807600021362305, -5.214200019836426, -6.927599906921387, -5.42549991607666, -5.230100154876709, -6.314799785614014, -5.1153998374938965, -5.536900043487549, -4.920899868011475, -5.6971001625061035, -6.11460018157959, -6.020299911499023, -6.185299873352051, -5.572999954223633, -6.40369987487793, -5.867599964141846, -4.814300060272217, -5.573400020599365, -5.529699802398682, -4.963099956512451, -5.732800006866455, -5.9096999168396, -5.384300231933594, -5.7891998291015625, -6.189000129699707, -5.702099800109863, -5.998600006103516, -5.780099868774414, -5.849400043487549, -5.652900218963623, -5.699900150299072, -5.8059000968933105, -5.89900016784668, -5.989999771118164, -5.163599967956543, -5.344900131225586, -6.598800182342529, -7.048399925231934, -7.275700092315674, -7.517099857330322, -7.624800205230713, -5.5472002029418945, -7.580699920654297, -7.670599937438965, -7.716400146484375, -7.739500045776367, -7.780300140380859, -7.764100074768066, -7.793600082397461, -7.817500114440918, -7.370800018310547, -6.935299873352051, -7.964300155639648, -7.981400012969971, -7.9542999267578125, -8.018199920654297, -8.018199920654297, -8.023300170898438, -8.046299934387207, -8.054900169372559, -8.059599876403809, -8.062199592590332, -8.071900367736816, -7.964000225067139, -4.341300010681152, -7.211299896240234, -6.896100044250488, -4.660099983215332, -6.084000110626221, -7.0493998527526855, -6.152699947357178, -7.292699813842773, -6.531199932098389, -6.661200046539307, -7.282700061798096, -6.666600227355957, -6.091700077056885, -6.392099857330322, -5.687300205230713, -6.937300205230713, -5.27839994430542, -6.808899879455566, -5.711400032043457, -5.573400020599365, -6.06279993057251, -6.198800086975098, -5.7153000831604, -6.20359992980957, -5.746300220489502, -6.706399917602539, -5.985499858856201, -6.557000160217285, -6.177199840545654, -5.400100231170654, -5.196400165557861, -6.253600120544434, -5.567800045013428, -5.65369987487793, -5.099100112915039, -5.116000175476074, -4.912300109863281, -5.391300201416016, -5.306600093841553, -5.173299789428711, -5.362199783325195, -5.466000080108643, -5.23829984664917, -5.517499923706055, -5.264699935913086, -5.610000133514404, -5.518099784851074, -5.56279993057251, -5.506199836730957, -5.571300029754639, -6.685100078582764, -6.748499870300293, -7.167900085449219, -7.263899803161621, -7.319699764251709, -7.328400135040283, -7.396599769592285, -7.443600177764893, -7.464300155639648, -7.44379997253418, -7.377600193023682, -7.600299835205078, -7.537899971008301, -7.634900093078613, -7.638899803161621, -7.548900127410889, -7.72130012512207, -7.549799919128418, -7.73390007019043, -7.74370002746582, -7.7555999755859375, -7.73769998550415, -7.274099826812744, -7.2617998123168945, -7.775599956512451, -7.769499778747559, -7.779699802398682, -7.8414998054504395, -7.816999912261963, -7.674600124359131, -7.380899906158447, -5.4096999168396, -7.2453999519348145, -5.8744001388549805, -5.885700225830078, -5.985799789428711, -7.3780999183654785, -6.505099773406982, -6.871200084686279, -6.933800220489502, -5.770599842071533, -5.764200210571289, -7.4029998779296875, -6.560999870300293, -6.88700008392334, -6.089900016784668, -6.916399955749512, -5.552499771118164, -6.021299839019775, -6.338699817657471, -6.662199974060059, -5.741000175476074, -5.760300159454346, -5.679699897766113, -5.946400165557861, -5.973100185394287, -5.980800151824951, -6.273900032043457, -5.576099872589111, -6.060699939727783, -5.139100074768066, -5.108699798583984, -5.5071001052856445, -5.854300022125244, -5.2006001472473145, -4.870500087738037, -5.4721999168396, -5.470900058746338, -5.033299922943115, -5.504199981689453, -5.580599784851074, -5.842700004577637, -5.39709997177124, -5.477499961853027, -5.570799827575684, -5.792300224304199, -5.852700233459473, -5.719900131225586, -5.806399822235107, -5.758399963378906, -5.782800197601318, -5.820000171661377, -5.8267998695373535, -5.765200138092041, -4.8572001457214355, -7.119800090789795, -6.901299953460693, -7.151400089263916, -7.284900188446045, -7.339000225067139, -7.223899841308594, -7.371799945831299, -7.4893999099731445, -7.497799873352051, -7.040500164031982, -7.546800136566162, -7.618500232696533, -7.639800071716309, -7.649400234222412, -6.767499923706055, -7.680500030517578, -7.719900131225586, -7.610199928283691, -7.752699851989746, -7.754899978637695, -7.794400215148926, -7.770299911499023, -7.814899921417236, -7.82889986038208, -7.833499908447266, -7.83620023727417, -7.754799842834473, -7.83519983291626, -7.817399978637695, -5.566100120544434, -7.459199905395508, -7.639699935913086, -7.51200008392334, -6.9583001136779785, -6.140699863433838, -5.486100196838379, -6.053599834442139, -7.074100017547607, -6.732100009918213, -7.1219000816345215, -6.429999828338623, -6.187900066375732, -6.205999851226807, -5.616199970245361, -7.320799827575684, -7.012899875640869, -6.559100151062012, -4.349800109863281, -5.415200233459473, -6.638899803161621, -5.789299964904785, -6.773799896240234, -4.811399936676025, -6.399700164794922, -5.619900226593018, -6.056600093841553, -5.648200035095215, -5.450399875640869, -6.210999965667725, -6.281199932098389, -5.941299915313721, -5.189799785614014, -4.8094000816345215, -4.884399890899658, -4.877299785614014, -5.875500202178955, -5.2555999755859375, -5.267899990081787, -5.542200088500977, -5.536399841308594, -5.696599960327148, -5.049900054931641, -5.002500057220459, -5.244500160217285, -5.198699951171875, -5.155700206756592, -5.3821001052856445, -5.391600131988525, -5.5808000564575195, -5.69980001449585, -5.649499893188477, -5.6402997970581055, -5.19189977645874, -6.469399929046631, -6.527599811553955, -6.933700084686279, -6.397900104522705, -7.02239990234375, -4.376299858093262, -5.706299781799316, -7.172699928283691, -7.126800060272217, -7.228400230407715, -7.051599979400635, -7.253200054168701, -7.227799892425537, -7.219399929046631, -6.330699920654297, -7.393400192260742, -7.2870001792907715, -6.964600086212158, -7.499300003051758, -6.26230001449585, -7.206500053405762, -7.280200004577637, -7.416500091552734, -7.593599796295166, -7.670199871063232, -7.6844000816345215, -7.657899856567383, -7.737800121307373, -7.756100177764893, -5.718500137329102, -6.555699825286865, -6.060299873352051, -6.743599891662598, -5.066500186920166, -7.014999866485596, -4.125999927520752, -5.762800216674805, -6.37939977645874, -4.385700225830078, -6.7108001708984375, -5.276800155639648, -6.037799835205078, -6.226600170135498, -6.02869987487793, -7.004700183868408, -6.605100154876709, -6.010300159454346, -6.631999969482422, -6.70359992980957, -5.832200050354004, -6.472400188446045, -5.5507001876831055, -4.270899772644043, -5.4730000495910645, -5.950200080871582, -5.385000228881836, -5.375699996948242, -4.777699947357178, -5.052000045776367, -6.139200210571289, -4.991399765014648, -5.500699996948242, -5.2729997634887695, -5.212600231170654, -5.886099815368652, -5.710400104522705, -5.526899814605713, -5.6774001121521, -5.766300201416016, -5.6184000968933105, -5.845099925994873, -5.768700122833252, -5.82859992980957, -5.76800012588501, -5.7453999519348145, -5.286499977111816, -4.310200214385986, -5.528500080108643, -6.152500152587891, -6.17140007019043, -6.2845001220703125, -3.8327999114990234, -6.5447001457214355, -6.607500076293945, -6.625400066375732, -5.430799961090088, -6.48799991607666, -6.763500213623047, -6.567800045013428, -6.7322998046875, -6.866600036621094, -6.854599952697754, -6.635700225830078, -6.197999954223633, -6.985400199890137, -6.957499980926514, -7.107600212097168, -6.9116997718811035, -7.103799819946289, -5.843299865722656, -5.428800106048584, -7.137599945068359, -7.219699859619141, -7.152200222015381, -4.370100021362305, -6.164700031280518, -6.343900203704834, -6.5914998054504395, -6.656300067901611, -6.18120002746582, -6.2220001220703125, -5.290900230407715, -5.655600070953369, -5.153600215911865, -4.109000205993652, -5.006100177764893, -6.0569000244140625, -5.833499908447266, -4.849899768829346, -5.838500022888184, -4.437099933624268, -5.840400218963623, -5.506999969482422, -5.683199882507324, -4.503799915313721, -4.950399875640869, -5.291600227355957, -4.869800090789795, -4.759699821472168, -4.766600131988525, -5.166399955749512, -5.21560001373291, -5.152200222015381, -5.471499919891357, -5.494900226593018, -5.414999961853027, -5.471199989318848, -5.501999855041504, -5.425000190734863, -5.451300144195557, -5.168799877166748, -5.9197001457214355, -5.976900100708008, -6.084799766540527, -6.209700107574463, -6.259500026702881, -6.345300197601318, -6.409999847412109, -6.412300109863281, -6.434299945831299, -6.459799766540527, -6.390200138092041, -6.3607001304626465, -6.224800109863281, -6.615499973297119, -6.804599761962891, -6.811699867248535, -6.85699987411499, -5.187600135803223, -6.854800224304199, -6.490300178527832, -6.951600074768066, -6.985799789428711, -6.964700222015381, -7.016300201416016, -6.972400188446045, -7.115699768066406, -7.132900238037109, -6.632500171661377, -6.156300067901611, -6.935100078582764, -5.445899963378906, -5.770500183105469, -5.6468000411987305, -6.418099880218506, -5.853799819946289, -5.935800075531006, -4.835700035095215, -5.908400058746338, -6.531700134277344, -5.270199775695801, -5.370500087738037, -5.945499897003174, -4.808300018310547, -5.213600158691406, -6.0756001472473145, -5.145299911499023, -5.174600124359131, -5.751800060272217, -5.802700042724609, -5.664899826049805, -5.228700160980225, -5.429500102996826, -5.198999881744385, -5.808000087738037, -5.340000152587891, -5.2322001457214355, -5.698599815368652, -5.551700115203857, -5.827899932861328, -5.597300052642822, -5.641200065612793, -5.621500015258789, -5.78849983215332, -5.703700065612793, -5.659599781036377, -5.755199909210205, -5.779399871826172, -5.80079984664917, -5.207399845123291, -5.987800121307373, -6.161799907684326, -6.176599979400635, -6.218800067901611, -5.441500186920166, -6.287300109863281, -6.362500190734863, -6.3649001121521, -6.36870002746582, -6.521200180053711, -6.509099960327148, -6.404399871826172, -6.64900016784668, -6.699900150299072, -6.755300045013428, -6.780399799346924, -6.890500068664551, -6.903299808502197, -6.85890007019043, -6.9394001960754395, -6.974100112915039, -6.978300094604492, -6.9633002281188965, -6.965099811553955, -6.951700210571289, -6.656199932098389, -5.743100166320801, -6.117199897766113, -6.422999858856201, -5.440299987792969, -6.382900238037109, -4.8109002113342285, -5.020500183105469, -5.2195000648498535, -6.259300231933594, -5.212900161743164, -3.9419000148773193, -5.302000045776367, -5.7957000732421875, -5.722300052642822, -4.883999824523926, -5.433199882507324, -5.656099796295166, -4.936600208282471, -5.544899940490723, -5.6707000732421875, -5.351399898529053, -5.227700233459473, -5.3531999588012695, -5.5117998123168945, -5.880499839782715, -5.840799808502197, -5.457900047302246, -5.327000141143799, -5.290200233459473, -5.427599906921387, -5.532899856567383, -5.564199924468994, -5.501999855041504, -5.48829984664917, -5.556099891662598, -5.507500171661377, -5.606400012969971, -5.6427998542785645, -6.3256001472473145, -6.610599994659424, -6.583399772644043, -6.39300012588501, -6.69920015335083, -6.728400230407715, -6.818699836730957, -6.471199989318848, -6.60830020904541, -6.96750020980835, -7.037300109863281, -7.046500205993652, -5.132999897003174, -7.118500232696533, -7.195300102233887, -7.212600231170654, -7.232699871063232, -7.100100040435791, -7.257699966430664, -7.290800094604492, -7.311999797821045, -7.311999797821045, -7.311999797821045, -7.311999797821045, -7.311999797821045, -7.32889986038208, -7.208600044250488, -7.360000133514404, -7.3902997970581055, -7.392600059509277, -6.250800132751465, -6.02209997177124, -7.147500038146973, -7.249300003051758, -5.770199775695801, -5.971799850463867, -6.371600151062012, -7.053100109100342, -3.92549991607666, -3.4851999282836914, -5.564700126647949, -6.3267998695373535, -5.2403998374938965, -5.7606000900268555, -5.103300094604492, -6.654399871826172, -5.522900104522705, -4.528200149536133, -6.037499904632568, -6.40500020980835, -4.420100212097168, -5.442599773406982, -5.070899963378906, -6.283199787139893, -5.480800151824951, -5.576399803161621, -5.364799976348877, -5.992000102996826, -5.723800182342529, -4.708000183105469, -5.253300189971924, -5.473299980163574, -5.377399921417236, -5.7565999031066895, -5.434700012207031, -5.530700206756592, -5.7083001136779785, -5.301400184631348, -5.533599853515625, -5.661600112915039, -5.773600101470947, -5.638700008392334, -5.717899799346924, -5.6519999504089355, -5.668900012969971, -5.728099822998047, -6.526299953460693, -6.4197998046875, -6.395100116729736, -6.737800121307373, -6.36329984664917, -7.3379998207092285, -7.3333001136779785, -7.357600212097168, -7.406300067901611, -7.47599983215332, -7.080900192260742, -7.005499839782715, -7.409800052642822, -7.558800220489502, -7.635900020599365, -7.623799800872803, -7.600599765777588, -7.680699825286865, -7.647200107574463, -7.685400009155273, -7.709400177001953, -7.709499835968018, -7.739099979400635, -7.749499797821045, -7.760700225830078, -7.780399799346924, -7.795100212097168, -7.71619987487793, -7.8358001708984375, -7.863100051879883, -7.486299991607666, -6.422699928283691, -6.675600051879883, -5.788000106811523, -6.64769983291626, -7.178500175476074, -7.3394999504089355, -6.976900100708008, -4.709499835968018, -7.0883002281188965, -5.811200141906738, -6.757199764251709, -7.180300235748291, -4.910799980163574, -6.375500202178955, -5.866799831390381, -5.088399887084961, -3.600399971008301, -5.593999862670898, -5.103300094604492, -5.940999984741211, -6.928500175476074, -5.759300231933594, -5.7221999168396, -4.235799789428711, -6.867800235748291, -4.517499923706055, -5.716800212860107, -5.462399959564209, -6.602799892425537, -5.165900230407715, -5.659900188446045, -5.53439998626709, -5.198299884796143, -5.652299880981445, -4.383999824523926, -5.482999801635742, -4.86269998550415, -5.410600185394287, -5.798500061035156, -4.965799808502197, -5.470300197601318, -4.888000011444092, -5.644700050354004, -5.706600189208984, -5.489299774169922, -5.144400119781494, -5.331600189208984, -5.301599979400635, -5.034999847412109, -5.308899879455566, -5.408199787139893, -5.476799964904785, -5.474999904632568, -5.568699836730957, -5.55019998550415], \"loglift\": [30.0, 29.0, 28.0, 27.0, 26.0, 25.0, 24.0, 23.0, 22.0, 21.0, 20.0, 19.0, 18.0, 17.0, 16.0, 15.0, 14.0, 13.0, 12.0, 11.0, 10.0, 9.0, 8.0, 7.0, 6.0, 5.0, 4.0, 3.0, 2.0, 1.0, 1.5549999475479126, 1.5546000003814697, 1.5533000230789185, 1.551900029182434, 1.551800012588501, 1.5509999990463257, 1.5508999824523926, 1.5498000383377075, 1.5497000217437744, 1.5496000051498413, 1.5496000051498413, 1.5494999885559082, 1.5494999885559082, 1.549399971961975, 1.549299955368042, 1.5491000413894653, 1.5490000247955322, 1.5490000247955322, 1.5485999584197998, 1.5484999418258667, 1.5484999418258667, 1.5479999780654907, 1.5478999614715576, 1.5478999614715576, 1.5478999614715576, 1.5477999448776245, 1.547700047492981, 1.5476000308990479, 1.5476000308990479, 1.5468000173568726, 1.5414999723434448, 1.5461000204086304, 1.544600009918213, 1.5462000370025635, 1.5372999906539917, 1.5468000173568726, 1.4789999723434448, 1.5313999652862549, 1.5191999673843384, 1.5426000356674194, 1.5362999439239502, 1.5358999967575073, 1.500499963760376, 1.4805999994277954, 1.500599980354309, 1.5245000123977661, 1.5384000539779663, 1.4478000402450562, 1.530400037765503, 1.4176000356674194, 1.4955999851226807, 1.503600001335144, 1.4000999927520752, 1.3187999725341797, 1.4823999404907227, 1.2721999883651733, 1.2171000242233276, 1.3753000497817993, 1.1289000511169434, 1.1754000186920166, 1.0241999626159668, 1.2015000581741333, 1.2764999866485596, 1.2424999475479126, 1.2838000059127808, 1.055899977684021, 1.3107999563217163, 1.09660005569458, 0.5691999793052673, 0.8870999813079834, 0.8515999913215637, 0.5026999711990356, 0.9107000231742859, 0.8946999907493591, 0.3138999938964844, 0.6937999725341797, 1.0794999599456787, 0.41690000891685486, 0.7892000079154968, 0.11909999698400497, 0.21979999542236328, -0.475600004196167, -0.3968999981880188, -0.02810000069439411, -0.22139999270439148, 0.23440000414848328, 1.9883999824523926, 1.9850000143051147, 1.9848999977111816, 1.982200026512146, 1.9814000129699707, 1.9793000221252441, 1.9780999422073364, 1.9779000282287598, 1.9779000282287598, 1.9773000478744507, 1.9769999980926514, 1.976699948310852, 1.976199984550476, 1.976199984550476, 1.9759999513626099, 1.975600004196167, 1.9752000570297241, 1.9744000434875488, 1.9733999967575073, 1.9731999635696411, 1.9726999998092651, 1.972599983215332, 1.972599983215332, 1.9723000526428223, 1.972100019454956, 1.9718999862670898, 1.9718999862670898, 1.9717999696731567, 1.97160005569458, 1.971500039100647, 1.9545999765396118, 1.9670000076293945, 1.9635000228881836, 1.9006999731063843, 1.920799970626831, 1.948199987411499, 1.9198999404907227, 1.9474999904632568, 1.8969999551773071, 1.8918999433517456, 1.926800012588501, 1.8681000471115112, 1.8104000091552734, 1.8269000053405762, 1.739400029182434, 1.8759000301361084, 1.6512000560760498, 1.8444000482559204, 1.6154999732971191, 1.5500999689102173, 1.6377999782562256, 1.6629999876022339, 1.4850000143051147, 1.6171000003814697, 1.437600016593933, 1.7503999471664429, 1.445199966430664, 1.6878999471664429, 1.4747999906539917, 1.0219999551773071, 0.8727999925613403, 1.4788000583648682, 0.9970999956130981, 1.0302000045776367, 0.578499972820282, 0.5184999704360962, 0.26489999890327454, 0.5766000151634216, 0.47920000553131104, 0.29249998927116394, 0.508899986743927, 0.5465999841690063, 0.06480000168085098, 0.49709999561309814, -0.009100000374019146, 0.6517000198364258, 0.4388999938964844, 0.5041000247001648, 0.17710000276565552, 0.20640000700950623, 2.236999988555908, 2.236599922180176, 2.232800006866455, 2.232599973678589, 2.2321999073028564, 2.2320001125335693, 2.231300115585327, 2.2307000160217285, 2.2304999828338623, 2.2304999828338623, 2.229599952697754, 2.2284998893737793, 2.228300094604492, 2.228100061416626, 2.2279999256134033, 2.2276999950408936, 2.226799964904785, 2.226799964904785, 2.226599931716919, 2.2263998985290527, 2.2262001037597656, 2.2262001037597656, 2.2262001037597656, 2.2258999347686768, 2.2258999347686768, 2.225800037384033, 2.2256999015808105, 2.2246999740600586, 2.2246999740600586, 2.224600076675415, 2.224100112915039, 2.1907999515533447, 2.213200092315674, 2.1644999980926514, 2.1268999576568604, 2.125699996948242, 2.191999912261963, 2.0998001098632812, 2.1203999519348145, 2.121299982070923, 1.937399983406067, 1.9301999807357788, 2.180999994277954, 1.9940999746322632, 2.043299913406372, 1.8007999658584595, 2.0302000045776367, 1.5877000093460083, 1.6999000310897827, 1.8141000270843506, 1.9315999746322632, 1.5532000064849854, 1.502500057220459, 1.4457999467849731, 1.5397000312805176, 1.5413000583648682, 1.5130000114440918, 1.6699999570846558, 1.2511999607086182, 1.5240999460220337, 0.8754000067710876, 0.7904999852180481, 1.0578999519348145, 1.291200041770935, 0.6829000115394592, 0.3068000078201294, 0.8593000173568726, 0.7634999752044678, 0.2222999930381775, 0.6674000024795532, 0.7548999786376953, 1.0702999830245972, 0.3887999951839447, 0.28380000591278076, 0.39250001311302185, 0.7588000297546387, 0.9764999747276306, 0.2371000051498413, 0.5101000070571899, -0.06019999831914902, 0.08829999715089798, -0.14249999821186066, -0.5236999988555908, 2.333400011062622, 2.3324999809265137, 2.3261001110076904, 2.325900077819824, 2.325700044631958, 2.324399948120117, 2.323699951171875, 2.3236000537872314, 2.3229000568389893, 2.321700096130371, 2.3215999603271484, 2.3210999965667725, 2.321000099182129, 2.3196001052856445, 2.319499969482422, 2.319200038909912, 2.3190999031066895, 2.3187999725341797, 2.31820011138916, 2.3178000450134277, 2.3171000480651855, 2.3169000148773193, 2.316499948501587, 2.316200017929077, 2.316200017929077, 2.315999984741211, 2.315999984741211, 2.315999984741211, 2.3159000873565674, 2.315700054168701, 2.315500020980835, 2.2920000553131104, 2.310699939727783, 2.3134000301361084, 2.3101999759674072, 2.2939999103546143, 2.2418999671936035, 2.1760001182556152, 2.194499969482422, 2.2511000633239746, 2.2074999809265137, 2.2492001056671143, 2.161400079727173, 2.1229000091552734, 2.1108999252319336, 2.0209999084472656, 2.2711000442504883, 2.220599889755249, 2.139899969100952, 1.7367000579833984, 1.8729000091552734, 2.1189000606536865, 1.9026000499725342, 2.126300096511841, 1.5484000444412231, 1.992799997329712, 1.6833000183105469, 1.84660005569458, 1.6686999797821045, 1.5794999599456787, 1.888800024986267, 1.9149999618530273, 1.7568999528884888, 1.4004000425338745, 1.205199956893921, 1.1825000047683716, 1.0906000137329102, 1.6619999408721924, 1.1202000379562378, 0.9564999938011169, 1.198199987411499, 1.176900029182434, 1.3188999891281128, 0.633400022983551, 0.2529999911785126, 0.5169000029563904, 0.2671000063419342, 0.14740000665187836, 0.5013999938964844, 0.4794999957084656, 0.7469000220298767, 1.0313999652862549, 0.6751999855041504, 0.258899986743927, 2.338099956512451, 2.334399938583374, 2.3329999446868896, 2.3320000171661377, 2.3310999870300293, 2.3306000232696533, 2.3304998874664307, 2.329900026321411, 2.3290998935699463, 2.3290998935699463, 2.3285000324249268, 2.3280999660491943, 2.328000068664551, 2.327899932861328, 2.3276000022888184, 2.3276000022888184, 2.3271000385284424, 2.326200008392334, 2.3259999752044678, 2.3255999088287354, 2.325500011444092, 2.3254001140594482, 2.3250999450683594, 2.32450008392334, 2.324399948120117, 2.322999954223633, 2.3229000568389893, 2.322700023651123, 2.322000026702881, 2.3208999633789062, 2.315500020980835, 2.31820011138916, 2.3106000423431396, 2.314199924468994, 2.287899971008301, 2.313999891281128, 2.2328999042510986, 2.253200054168701, 2.2479000091552734, 2.051500082015991, 2.2669999599456787, 2.105299949645996, 2.171600103378296, 2.1767001152038574, 2.135699987411499, 2.2934000492095947, 2.2239999771118164, 2.089400053024292, 2.2177000045776367, 2.2272000312805176, 1.9740999937057495, 2.1572000980377197, 1.8492000102996826, 1.4124000072479248, 1.7962000370025635, 1.8824000358581543, 1.4632999897003174, 1.4286999702453613, 0.6881999969482422, 0.7257999777793884, 1.8056999444961548, 0.1858000010251999, 0.8870000243186951, 0.48840001225471497, 0.17090000212192535, 1.3187999725341797, 0.9503999948501587, 0.48570001125335693, 0.8019000291824341, 0.9431999921798706, 0.34950000047683716, 1.1651999950408936, 0.5667999982833862, 0.8382999897003174, 0.25459998846054077, 2.3236000537872314, 2.323499917984009, 2.3232998847961426, 2.3231000900268555, 2.3231000900268555, 2.3227999210357666, 2.3220999240875244, 2.322000026702881, 2.321199893951416, 2.3208000659942627, 2.32069993019104, 2.3206000328063965, 2.3203001022338867, 2.3199000358581543, 2.3196001052856445, 2.319200038909912, 2.319200038909912, 2.318700075149536, 2.3183000087738037, 2.3180999755859375, 2.318000078201294, 2.318000078201294, 2.3173000812530518, 2.317199945449829, 2.317199945449829, 2.316800117492676, 2.316800117492676, 2.3166000843048096, 2.3160998821258545, 2.315999984741211, 2.302799940109253, 2.315700054168701, 2.3138999938964844, 2.3141000270843506, 2.313699960708618, 2.2955000400543213, 2.2934000492095947, 2.2263998985290527, 2.242500066757202, 2.1668999195098877, 1.9732999801635742, 2.075000047683716, 2.2255001068115234, 2.1826000213623047, 1.9921000003814697, 2.1673998832702637, 1.8319000005722046, 2.1491000652313232, 1.879699945449829, 1.923200011253357, 1.2766000032424927, 1.3113000392913818, 1.5641000270843506, 0.807699978351593, 0.54339998960495, 0.4106000065803528, 0.7906000018119812, 0.8513000011444092, 0.4823000133037567, 0.9042999744415283, 0.8366000056266785, 0.3628000020980835, 0.22709999978542328, 0.25940001010894775, 2.7880001068115234, 2.7874999046325684, 2.7874999046325684, 2.78629994392395, 2.785900115966797, 2.7853000164031982, 2.7846999168395996, 2.7843000888824463, 2.7834999561309814, 2.783400058746338, 2.7832999229431152, 2.7832000255584717, 2.782599925994873, 2.782599925994873, 2.7825000286102295, 2.7822000980377197, 2.781599998474121, 2.7795000076293945, 2.779400110244751, 2.7792000770568848, 2.778899908065796, 2.778599977493286, 2.7785000801086426, 2.777600049972534, 2.777400016784668, 2.7772998809814453, 2.776700019836426, 2.7764999866485596, 2.775700092315674, 2.7750000953674316, 2.773400068283081, 2.7685000896453857, 2.774899959564209, 2.7258999347686768, 2.7307000160217285, 2.7125000953674316, 2.753000020980835, 2.7232000827789307, 2.7123000621795654, 2.5543999671936035, 2.6538000106811523, 2.7388999462127686, 2.390700101852417, 2.4159998893737793, 2.5780999660491943, 1.983199954032898, 2.1138999462127686, 2.5176000595092773, 1.8336999416351318, 1.7896000146865845, 2.244499921798706, 2.2639000415802, 2.107800006866455, 1.4381999969482422, 1.3996000289916992, 0.9853000044822693, 2.0000998973846436, 0.9955000281333923, 0.6513000130653381, 1.6996999979019165, 0.6389999985694885, 1.9452999830245972, 0.40869998931884766, 0.5932000279426575, 0.013000000268220901, 1.3859000205993652, -0.005499999970197678, 2.8689000606536865, 2.8685998916625977, 2.8685998916625977, 2.868499994277954, 2.8678998947143555, 2.86680006980896, 2.866300106048584, 2.8661999702453613, 2.8661000728607178, 2.8657000064849854, 2.865499973297119, 2.865000009536743, 2.8649001121520996, 2.864799976348877, 2.8633999824523926, 2.8631999492645264, 2.8626999855041504, 2.862600088119507, 2.861799955368042, 2.8613998889923096, 2.8610000610351562, 2.859600067138672, 2.8594000339508057, 2.8592000007629395, 2.859100103378296, 2.858599901199341, 2.8585000038146973, 2.8584001064300537, 2.8584001064300537, 2.858299970626831, 2.8578999042510986, 2.843899965286255, 2.8438000679016113, 2.8482000827789307, 2.819000005722046, 2.838200092315674, 2.7225000858306885, 2.73009991645813, 2.7290000915527344, 2.8089001178741455, 2.472599983215332, 1.94159996509552, 2.355299949645996, 2.4486000537872314, 2.4021999835968018, 1.6964000463485718, 2.052299976348877, 2.2251999378204346, 1.4854999780654907, 1.9763000011444092, 1.9622999429702759, 1.4983999729156494, 1.3234000205993652, 1.4049999713897705, 1.6328999996185303, 2.2167999744415283, 2.0129001140594482, 0.942300021648407, 0.5440999865531921, 0.4081000089645386, 0.2556999921798706, 0.7286999821662903, 0.7713000178337097, 0.13249999284744263, -0.18520000576972961, 0.4564000070095062, -0.25189998745918274, 0.350600004196167, 0.5491999983787537, 2.8642001152038574, 2.8619000911712646, 2.861299991607666, 2.8612000942230225, 2.8606998920440674, 2.8598999977111816, 2.859600067138672, 2.859100103378296, 2.8589000701904297, 2.857599973678589, 2.8564999103546143, 2.8564000129699707, 2.8561999797821045, 2.8548998832702637, 2.8538999557495117, 2.853600025177002, 2.853300094604492, 2.853100061416626, 2.852400064468384, 2.852099895477295, 2.851799964904785, 2.851799964904785, 2.851799964904785, 2.851799964904785, 2.851799964904785, 2.8513998985290527, 2.851099967956543, 2.8506999015808105, 2.8501999378204346, 2.850100040435791, 2.8498001098632812, 2.8441998958587646, 2.84660005569458, 2.8482000827789307, 2.771699905395508, 2.6335999965667725, 2.69350004196167, 2.800800085067749, 2.080399990081787, 1.898300051689148, 2.410099983215332, 2.5676000118255615, 2.201200008392334, 2.3708999156951904, 2.1178998947143555, 2.6484999656677246, 2.1856000423431396, 1.715999960899353, 2.32669997215271, 2.501199960708618, 1.3411999940872192, 1.8523999452590942, 1.6129000186920166, 2.3794000148773193, 1.752500057220459, 1.6964999437332153, 1.4114999771118164, 2.0669000148773193, 1.7175999879837036, 0.4691999852657318, 0.9387000203132629, 1.2244000434875488, 1.0103000402450562, 1.6237000226974487, 0.939300000667572, 0.9524000287055969, 1.2732000350952148, 0.0017000000225380063, 0.4115000069141388, 0.8140000104904175, 1.0746999979019165, 0.05959999933838844, 0.5163999795913696, -0.18619999289512634, -0.05469999834895134, -0.4724999964237213, 2.496000051498413, 2.495300054550171, 2.4951000213623047, 2.4948999881744385, 2.492500066757202, 2.4899001121520996, 2.489500045776367, 2.4893999099731445, 2.488800048828125, 2.4874000549316406, 2.487299919128418, 2.486799955368042, 2.4865000247955322, 2.486299991607666, 2.484999895095825, 2.4846999645233154, 2.4846999645233154, 2.484100103378296, 2.4839999675750732, 2.4839000701904297, 2.4835000038146973, 2.4832000732421875, 2.4828999042510986, 2.4827001094818115, 2.482300043106079, 2.4818999767303467, 2.4814999103546143, 2.4814000129699707, 2.480799913406372, 2.48009991645813, 2.479599952697754, 2.46370005607605, 2.4684998989105225, 2.4149999618530273, 2.444999933242798, 2.461899995803833, 2.4626998901367188, 2.4395999908447266, 2.2023000717163086, 2.421099901199341, 2.276400089263916, 2.376699924468994, 2.424799919128418, 2.0248000621795654, 2.2678000926971436, 2.164099931716919, 1.986199975013733, 1.6550999879837036, 2.0813000202178955, 1.933500051498413, 2.1140999794006348, 2.360599994659424, 2.0308001041412354, 2.001199960708618, 1.544700026512146, 2.3427000045776367, 1.569000005722046, 1.951300024986267, 1.829800009727478, 2.2385001182556152, 1.6217999458312988, 1.815000057220459, 1.726199984550476, 1.542099952697754, 1.735700011253357, 0.9190999865531921, 1.580899953842163, 1.100600004196167, 1.4692000150680542, 1.7869999408721924, 0.9053000211715698, 1.4220999479293823, 0.7465000152587891, 1.6122000217437744, 1.6582000255584717, 1.3380000591278076, 0.6414999961853027, 0.9848999977111816, 0.8827000260353088, 0.14229999482631683, 0.6481000185012817, 0.7633000016212463, 0.9567000269889832, 0.8526999950408936, 1.2839000225067139, 0.39489999413490295]}, \"token.table\": {\"Topic\": [1, 2, 7, 9, 10, 3, 8, 3, 1, 2, 3, 4, 7, 8, 9, 10, 4, 1, 2, 3, 7, 9, 9, 1, 2, 3, 4, 8, 9, 10, 1, 10, 1, 2, 10, 3, 1, 2, 4, 7, 10, 7, 1, 2, 3, 4, 7, 8, 9, 10, 9, 3, 4, 7, 8, 9, 1, 3, 4, 5, 9, 10, 1, 2, 5, 8, 1, 6, 10, 10, 1, 2, 3, 4, 5, 6, 7, 8, 9, 10, 2, 4, 8, 1, 4, 10, 6, 10, 2, 1, 3, 4, 5, 6, 9, 10, 9, 4, 9, 1, 2, 3, 4, 5, 6, 7, 8, 9, 10, 1, 2, 6, 8, 6, 6, 10, 2, 3, 6, 4, 1, 2, 4, 5, 7, 10, 7, 1, 2, 3, 4, 5, 6, 7, 8, 9, 10, 1, 4, 6, 8, 10, 8, 8, 8, 9, 7, 1, 9, 10, 3, 9, 2, 7, 2, 7, 8, 1, 2, 3, 4, 5, 6, 7, 8, 9, 10, 3, 4, 8, 10, 2, 4, 5, 9, 10, 1, 3, 4, 6, 8, 9, 10, 1, 2, 4, 5, 7, 9, 10, 1, 2, 3, 4, 5, 6, 8, 10, 5, 6, 6, 6, 5, 8, 1, 2, 5, 6, 8, 5, 8, 1, 2, 3, 4, 5, 6, 7, 9, 10, 1, 2, 3, 4, 5, 6, 7, 8, 9, 10, 1, 1, 9, 1, 2, 3, 4, 7, 8, 10, 3, 1, 8, 9, 6, 7, 1, 2, 4, 7, 9, 10, 5, 3, 1, 2, 5, 9, 1, 2, 3, 4, 5, 6, 7, 8, 9, 10, 6, 1, 2, 3, 5, 6, 7, 9, 10, 5, 1, 4, 10, 9, 2, 7, 9, 5, 6, 9, 5, 6, 1, 5, 7, 8, 5, 1, 2, 3, 4, 5, 6, 8, 9, 10, 2, 1, 2, 3, 5, 6, 7, 8, 9, 10, 2, 4, 8, 2, 2, 3, 1, 2, 3, 4, 5, 6, 7, 8, 9, 10, 5, 1, 2, 4, 5, 1, 2, 4, 5, 6, 7, 9, 10, 1, 2, 3, 4, 5, 6, 7, 8, 10, 3, 1, 2, 7, 8, 10, 9, 1, 2, 3, 5, 6, 8, 10, 7, 5, 1, 2, 3, 4, 5, 6, 7, 8, 9, 10, 2, 4, 5, 6, 7, 8, 9, 10, 5, 1, 2, 3, 4, 7, 8, 10, 3, 7, 1, 2, 3, 4, 5, 6, 7, 8, 9, 10, 1, 3, 1, 4, 5, 7, 5, 1, 3, 5, 1, 3, 4, 5, 7, 10, 5, 1, 2, 3, 4, 5, 6, 7, 8, 9, 1, 9, 6, 7, 10, 1, 6, 10, 1, 2, 3, 5, 7, 9, 1, 10, 9, 4, 10, 2, 3, 4, 6, 1, 2, 3, 4, 5, 6, 7, 8, 9, 10, 2, 3, 9, 1, 2, 3, 4, 5, 8, 9, 10, 7, 1, 2, 3, 4, 5, 10, 4, 3, 1, 3, 4, 1, 2, 3, 4, 5, 6, 7, 9, 10, 10, 1, 2, 3, 4, 5, 6, 7, 8, 9, 10, 1, 2, 4, 6, 7, 9, 10, 1, 2, 4, 5, 6, 7, 8, 10, 4, 1, 2, 3, 5, 8, 2, 9, 6, 9, 9, 1, 2, 3, 4, 5, 6, 8, 9, 10, 1, 3, 9, 1, 5, 3, 1, 2, 1, 2, 3, 4, 5, 6, 7, 8, 9, 10, 1, 4, 8, 10, 1, 2, 3, 4, 7, 8, 9, 10, 1, 2, 4, 5, 7, 8, 10, 10, 1, 3, 7, 8, 1, 5, 9, 10, 8, 1, 2, 3, 4, 5, 6, 7, 8, 9, 2, 2, 3, 9, 1, 1, 2, 3, 4, 5, 7, 9, 10, 1, 2, 3, 4, 6, 7, 8, 9, 10, 5, 10, 2, 3, 5, 1, 2, 3, 4, 5, 6, 7, 8, 9, 10, 1, 2, 3, 4, 5, 6, 8, 9, 10, 10, 1, 2, 3, 4, 5, 6, 7, 8, 9, 10, 2, 1, 10, 2, 3, 4, 6, 7, 1, 2, 3, 4, 5, 6, 7, 4, 6, 9, 10, 1, 4, 6, 9, 5, 8, 9, 5, 10, 7, 8, 1, 5, 9, 3, 7, 1, 2, 3, 4, 5, 6, 7, 8, 9, 10, 8, 4, 6, 8, 9, 1, 4, 8, 1, 2, 3, 4, 5, 6, 7, 9, 10, 1, 2, 3, 4, 5, 6, 7, 8, 4, 1, 2, 3, 4, 5, 6, 7, 8, 9, 10, 1, 2, 3, 4, 5, 6, 8, 10, 5, 1, 10, 7, 1, 1, 2, 3, 4, 5, 6, 7, 9, 6, 8, 3, 10, 2, 3, 5, 8, 1, 3, 8, 9, 1, 3, 4, 7, 8, 1, 9, 3, 5, 7, 1, 2, 3, 4, 6, 7, 8, 9, 1, 7, 7, 6, 10, 10, 1, 2, 3, 4, 5, 6, 7, 8, 9, 10, 7, 7, 8, 8, 3, 1, 10, 2, 4, 7, 1, 1, 2, 3, 5, 6, 9, 1, 2, 3, 4, 5, 6, 9, 10, 10, 10, 1, 2, 3, 4, 5, 7, 8, 9, 10, 1, 5, 9, 1, 4, 5, 8, 9, 1, 1, 9, 1, 2, 3, 5, 8, 9, 10, 7, 1, 2, 3, 4, 5, 6, 7, 8, 9, 3, 4, 5, 7, 8, 9, 9, 2, 1, 2, 3, 4, 5, 6, 8, 10, 8, 6, 7, 8, 2, 5, 7, 9, 1, 2, 3, 4, 6, 7, 9, 10, 1, 2, 3, 4, 6, 9, 10, 1, 2, 4, 6, 7, 9, 1, 2, 3, 4, 6, 8, 10, 2, 1, 2, 4, 6, 10, 1, 4, 6, 7, 10, 1, 2, 3, 4, 5, 6, 7, 8, 9, 10, 1, 2, 3, 4, 5, 6, 7, 8, 9, 10, 10, 5, 6, 7, 1, 2, 3, 4, 5, 6, 7, 8, 9, 10, 1, 2, 3, 4, 5, 6, 8, 9, 10, 2, 3, 5, 1, 2, 6, 8, 10, 1, 2, 3, 4, 5, 6, 7, 8, 10, 1, 2, 3, 4, 5, 6, 7, 9, 1, 3, 4, 5, 6, 7, 8, 9, 10, 1, 2, 3, 4, 5, 6, 7, 8, 9, 10, 6, 9, 3, 7, 1, 2, 3, 4, 5, 6, 8, 10, 8, 9, 1, 2, 3, 4, 5, 6, 7, 8, 9, 10, 4, 4, 9, 2, 4, 6, 9, 4, 4, 9, 6, 4, 9, 2, 3, 6, 7, 9, 8, 1, 3, 4, 5, 6, 9, 10, 10, 1, 2, 4, 9, 8, 2, 4, 9, 3, 7, 4, 5, 1, 3, 6, 3, 6, 7, 10, 5, 8, 2, 9, 4, 5, 3, 4, 9, 9, 1, 2, 3, 4, 5, 6, 7, 10, 2, 2, 3, 10, 1, 3, 9, 2, 2, 3, 6, 7, 6, 6, 6, 6, 4, 5, 6, 7, 6, 6, 5, 6, 7, 2, 6, 2, 3, 4, 5, 6, 8, 10, 10, 1, 2, 3, 4, 5, 6, 8, 9, 10, 8, 7, 1, 2, 1, 7, 1, 2, 3, 4, 5, 6, 7, 8, 9, 10, 4, 4, 8, 10, 5, 8, 9, 1, 9, 6, 3, 4, 7, 10, 5, 1, 2, 3, 4, 5, 6, 7, 8, 9, 10, 4, 1, 2, 3, 7, 2, 5, 6, 1, 2, 5, 9, 3, 1, 2, 3, 4, 5, 6, 7, 1, 2, 3, 4, 5, 6, 7, 8, 9, 10, 6, 1, 3, 5, 7, 3, 1, 2, 3, 4, 5, 6, 7, 8, 9, 10, 7, 2, 1, 2, 5, 1, 2, 3, 4, 5, 8, 10, 1, 2, 3, 4, 5, 6, 7, 8, 9, 10, 1, 2, 3, 7, 8, 10, 1, 2, 3, 4, 5, 6, 7, 9, 10, 7, 7, 2, 3, 1, 2, 3, 4, 6, 7, 8, 9, 10, 1, 2, 3, 4, 8, 1, 2, 3, 4, 5, 6, 7, 8, 9, 10, 1, 2, 3, 5, 6, 7, 9, 1, 8, 2, 4, 5, 1, 2, 3, 5, 6, 7, 8, 9, 1, 2, 3, 4, 5, 6, 7, 8, 9, 10, 9, 1, 7, 9, 1, 2, 4, 5, 6, 8, 10, 1, 3, 4, 5, 7, 2, 4, 6, 2, 6, 2, 1, 2, 4, 6, 7, 8, 9, 1, 2, 3, 4, 5, 6, 7, 8, 9, 10, 1, 3, 3, 1, 2, 4, 1, 2, 3, 5, 10, 1, 6, 1, 2, 5, 7, 2, 1, 7, 1, 2, 1, 2, 7, 8, 1, 2, 3, 4, 6, 10, 8, 1, 2, 3, 4, 5, 6, 7, 9, 10, 1, 2, 3, 4, 6, 10, 2, 6, 2, 4, 7, 10, 1, 2, 3, 4, 5, 8, 9, 10, 4, 1, 2, 3, 4, 5, 6, 7, 8, 9, 10, 1, 2, 3, 4, 6, 7, 1, 3, 6, 7, 9, 10, 3, 7, 8, 1, 2, 3, 4, 5, 6, 7, 8, 9, 10, 3, 9, 1, 2, 3, 4, 5, 6, 7, 8, 9, 10, 6, 2, 6, 8, 7, 2, 3, 4, 5, 7, 10, 2, 1, 2, 3, 4, 6, 8, 9, 10, 8, 1, 4, 3, 8, 1, 2, 3, 5, 7, 9, 10, 3, 1, 4, 1, 2, 3, 5, 6, 7, 10, 1, 2, 3, 4, 5, 6, 7, 8, 9, 10, 2, 1, 3, 5, 2, 3, 4, 6, 9, 7, 1, 2, 5, 6, 7, 8, 10, 1, 2, 3, 4, 5, 6, 7, 8, 9, 10, 1, 2, 3, 5, 7, 9, 3, 6, 7, 1, 2, 5, 1, 1, 2, 3, 5, 7, 9, 10, 2, 6, 8, 7, 1, 2, 3, 4, 5, 6, 7, 8, 9, 10, 1, 2, 3, 5, 9, 1, 2, 3, 5, 6, 8, 9, 10, 1, 8, 1, 1, 2, 3, 4, 5, 6, 7, 8, 9, 10, 1, 1, 2, 3, 5, 6, 7, 8, 9, 10, 5, 10, 2, 3, 4, 5, 6, 7, 8, 9, 10, 10, 10, 10, 1, 2, 3, 4, 5, 6, 7, 10, 1, 2, 5, 10, 1, 3, 5, 7, 8, 9, 1, 3, 9, 10, 1, 2, 3, 4, 6, 7, 8, 9, 10, 3, 7, 9, 1, 2, 3, 4, 5, 6, 7, 8, 10, 1, 2, 3, 4, 5, 6, 7, 8, 9, 10, 1, 2, 3, 4, 7, 8, 10, 1, 4, 7, 8, 10, 1, 3, 4, 7, 4, 2, 3, 4, 9, 1, 4, 6, 9, 4, 4, 4, 6, 9, 4, 1, 2, 3, 4, 5, 6, 7, 8, 9, 10, 4, 1, 2, 3, 4, 5, 8, 9, 3, 4, 5, 7, 10, 1, 7, 1, 3, 4, 5, 6, 7, 9, 10, 1, 2, 3, 4, 5, 6, 7, 8, 9, 10, 1, 4, 6, 7, 3, 5, 6, 7, 3, 2, 5, 6, 8, 1, 5, 7, 10, 1, 3, 4, 5, 6, 7, 9, 1, 2, 3, 4, 5, 6, 7, 8, 9, 10, 1, 2, 4, 5, 6, 7, 8, 10, 7, 9, 8, 1, 2, 3, 4, 5, 6, 8, 9, 10, 3, 1, 3, 6, 9, 5, 1, 2, 3, 4, 5, 7, 8, 10, 10, 1, 3, 4, 5, 9, 10, 1, 2, 3, 4, 5, 6, 8, 1, 2, 3, 4, 5, 6, 7, 8, 9, 10, 1, 2, 4, 5, 9, 1, 2, 3, 4, 5, 6, 7, 8, 9, 10, 5, 1, 2, 1, 2, 7, 10, 5, 10, 1, 2, 3, 5, 6, 7, 10, 9, 2, 4, 7, 8, 2, 3, 4, 5, 6, 9, 10, 1, 3, 4, 5, 6, 7, 8, 10, 3, 5, 6, 1, 2, 4, 5, 7, 9, 3, 3, 6, 8, 1, 2, 3, 4, 5, 6, 7, 8, 9, 10, 3, 2, 3, 4, 1, 2, 3, 4, 5, 6, 7, 8, 9, 10, 4, 3, 1, 2, 7, 1, 2, 3, 4, 5, 6, 7, 8, 10, 4, 9, 2, 1, 2, 3, 4, 6, 7, 8, 10, 5, 1, 10, 5, 1, 2, 5, 6, 7, 8, 9, 5, 8, 10, 2, 4, 6, 8, 9, 2, 3, 5, 7, 9, 10, 2, 5, 9, 1, 2, 5, 6, 7, 9, 1, 4, 4, 2, 3, 9, 2, 3, 7, 8, 10, 2, 3, 4, 5, 8, 9, 10, 1, 2, 4, 5, 6, 7, 8, 9, 10, 1, 2, 3, 4, 7, 8, 9, 10, 9, 10, 1, 2, 3, 4, 5, 6, 7, 8, 9, 10, 1, 2, 3, 4, 7, 8, 9, 10, 8, 9, 2, 3, 6, 1, 2, 3, 4, 5, 6, 8, 10, 1, 2, 3, 5, 9, 10, 1, 1, 2, 3, 4, 5, 6, 7, 8, 9, 10, 7, 5, 6, 3, 5, 7, 1, 9, 1, 2, 3, 4, 5, 6, 7, 8, 10, 4, 9, 1, 2, 3, 4, 5, 6, 7, 8, 9, 10, 10, 1, 6, 1, 2, 3, 4, 5, 6, 9, 10, 4, 1, 2, 3, 4, 5, 6, 7, 8, 9, 10, 4, 1, 2, 3, 4, 5, 6, 7, 8, 9, 10, 4, 5, 9, 10, 1, 8, 10, 10, 1, 2, 3, 4, 5, 6, 7, 8, 9, 10, 2, 2, 4, 1, 2, 3, 4, 8, 10, 1, 2, 8, 1, 2, 3, 4, 5, 6, 7, 8, 9, 10, 1, 2, 3, 4, 5, 6, 8, 9, 1, 2, 3, 4, 6, 10, 1, 2, 3, 4, 6, 7, 1, 2, 8, 1, 3, 4, 5, 6, 8, 9, 10, 1, 3, 4, 5, 6, 7, 8, 9, 3, 3, 3, 1, 2, 4, 5, 9, 10, 8, 1, 2, 3, 4, 5, 6, 7, 8, 9, 10, 8, 1, 2, 3, 4, 5, 6, 7, 8, 9, 10, 1, 2, 3, 4, 5, 6, 9, 10, 1, 2, 3, 4, 6, 7, 9, 10, 1, 2, 3, 4, 6, 7, 9, 5, 6, 8, 4, 1, 4, 5, 2, 5, 5, 5, 8, 7, 7, 2, 10, 1, 2, 3, 4, 5, 6, 7, 8, 10, 6, 6, 1, 2, 3, 4, 5, 6, 7, 8, 9, 10, 1, 2, 4, 5, 6, 7, 8, 9, 10, 1, 2, 4, 5, 4, 5, 2, 7, 2, 10, 8, 7, 1, 2, 3, 4, 5, 6, 7, 8, 9, 10, 1, 2, 3, 4, 5, 6, 7, 8, 9, 10, 3, 5, 1, 2, 3, 4, 5, 6, 7, 9, 1, 1, 7, 1, 2, 3, 4, 5, 6, 7, 8, 9, 10, 1, 2, 3, 4, 5, 6, 7, 8, 9, 10, 1, 5, 4, 8, 1, 2, 4, 6, 8, 1, 1, 4, 6, 7, 8, 1, 2, 3, 4, 5, 6, 7, 8, 9, 10, 10, 2, 10, 1, 2, 3, 4, 5, 6, 7, 8, 9, 10, 3, 3, 4, 6, 7, 10, 2, 3, 4, 5, 6, 7, 10, 3, 7, 8, 10, 2, 3, 4, 6, 9, 3, 3, 1, 2, 3, 4, 5, 6, 7, 8, 9, 10, 1, 3, 8], \"Freq\": [0.393652081489563, 0.0015746083809062839, 0.006298433523625135, 0.5117477178573608, 0.08502884954214096, 0.9776638150215149, 0.984660804271698, 0.9838195443153381, 0.016475120559334755, 0.3800640106201172, 0.18520309031009674, 0.042608071118593216, 0.0028405380435287952, 0.24939924478530884, 0.01477079838514328, 0.10907666385173798, 0.9755142331123352, 0.32075265049934387, 0.027140609920024872, 0.6415053009986877, 0.00493465643376112, 0.00246732821688056, 0.9752622842788696, 0.04449791461229324, 0.2002406269311905, 0.04449791461229324, 0.6492650508880615, 0.05056581273674965, 0.0020226326305419207, 0.008090530522167683, 0.033374201506376266, 0.951164722442627, 0.9900758862495422, 0.008761733770370483, 0.9827948808670044, 0.9939034581184387, 0.33571475744247437, 0.05924377962946892, 0.021722719073295593, 0.005924378056079149, 0.5746646523475647, 0.9928953647613525, 0.20973661541938782, 0.0020562412682920694, 0.03906858339905739, 0.20151165127754211, 0.01850617118179798, 0.024674896150827408, 0.5037791132926941, 0.0020562412682920694, 0.9822263717651367, 0.11243843287229538, 0.1089247316122055, 0.0035137010272592306, 0.6535484194755554, 0.11595213413238525, 0.47051113843917847, 0.0012785629369318485, 0.0818280279636383, 0.07415664941072464, 0.3260335326194763, 0.044749703258275986, 0.8524317741394043, 0.0012462452286854386, 0.14331820607185364, 0.0012462452286854386, 0.026712633669376373, 0.006678158417344093, 0.961654782295227, 0.9768761992454529, 0.02221200242638588, 0.024864181876182556, 0.2101852148771286, 0.15979380905628204, 0.05370663106441498, 0.006630448624491692, 0.11769045889377594, 0.39384862780570984, 0.0003315224312245846, 0.011271762661635876, 0.9874438047409058, 0.9891446828842163, 0.9842108488082886, 0.01614033803343773, 0.9119291305541992, 0.07263152301311493, 0.987797737121582, 0.008899078704416752, 0.9831390976905823, 0.06617498397827148, 0.09858722239732742, 0.6293376088142395, 0.012154589407145977, 0.0459173358976841, 0.029711218550801277, 0.1174943596124649, 0.9840977191925049, 0.9799440503120422, 0.9704455733299255, 0.02516285888850689, 0.2622744143009186, 0.003387307981029153, 0.11178116500377655, 0.004839011467993259, 0.3619580566883087, 0.020807748660445213, 0.11710407584905624, 0.0038712089881300926, 0.08903780579566956, 0.0007300875149667263, 0.0014601750299334526, 0.9761269688606262, 0.0211725365370512, 0.9915661215782166, 0.9944581985473633, 0.9773387312889099, 0.0021464957389980555, 0.0021464957389980555, 0.9938275814056396, 0.9933144450187683, 0.009308142587542534, 0.7787812352180481, 0.048092070966959, 0.006205428391695023, 0.007756785489618778, 0.14893028140068054, 0.9864025115966797, 0.06196259334683418, 0.19370830059051514, 0.184684619307518, 0.08121310919523239, 0.2147635519504547, 0.008422099985182285, 0.01684419997036457, 0.020453670993447304, 0.025867879390716553, 0.19190357625484467, 0.19151374697685242, 0.012767583131790161, 0.012767583131790161, 0.006383791565895081, 0.7660549879074097, 0.9879533052444458, 0.9926140904426575, 0.9808764457702637, 0.9828765988349915, 0.9916426539421082, 0.9385541081428528, 0.059653863310813904, 0.9865682125091553, 0.8828210830688477, 0.11127996444702148, 0.9956291317939758, 0.0042247348465025425, 0.9347121715545654, 0.019357943907380104, 0.047012150287628174, 0.2091425061225891, 0.12215004116296768, 0.08924615383148193, 0.08293581753969193, 0.08518951386213303, 0.12215004116296768, 0.11629044264554977, 0.04732750728726387, 0.00045073815272189677, 0.12575595080852509, 0.06308747082948685, 0.054074976593256, 0.084116630256176, 0.796103835105896, 0.013395252637565136, 0.6563673615455627, 0.04688338562846184, 0.09041795879602432, 0.1908823549747467, 0.14655062556266785, 0.004070850554853678, 0.5597419738769531, 0.006106275599449873, 0.002035425277426839, 0.03256680443882942, 0.24832187592983246, 0.5145611763000488, 0.003330493113026023, 0.016652466729283333, 0.4021570682525635, 0.017485089600086212, 0.04246378690004349, 0.003330493113026023, 0.010849237442016602, 0.024410784244537354, 0.10306775569915771, 0.0013561546802520752, 0.04882156848907471, 0.06238311529159546, 0.23732706904411316, 0.5099141597747803, 0.0018635739106684923, 0.9970120787620544, 0.9909238815307617, 0.9944053888320923, 0.9293277263641357, 0.06585787236690521, 0.9732645750045776, 0.003565071616321802, 0.010695215314626694, 0.007130143232643604, 0.003565071616321802, 0.9867246150970459, 0.9917392134666443, 0.31446582078933716, 0.017310045659542084, 0.14280787110328674, 0.025965068489313126, 0.24883191287517548, 0.0007212518830783665, 0.0915989950299263, 0.08366522192955017, 0.07501019537448883, 0.05811215192079544, 0.03537261486053467, 0.22739538550376892, 0.06821861118078232, 0.01389638427644968, 0.03031938336789608, 0.08969484269618988, 0.0012633076403290033, 0.46995043754577637, 0.005053230561316013, 0.9909178614616394, 0.986258327960968, 0.9903238415718079, 0.17989112436771393, 0.16672836244106293, 0.0855579748749733, 0.002193794120103121, 0.4299836754798889, 0.00658138282597065, 0.12724006175994873, 0.9814359545707703, 0.14809754490852356, 0.10770730674266815, 0.7404877543449402, 0.9883012771606445, 0.010626895353198051, 0.7281869649887085, 0.10402671247720718, 0.03950381278991699, 0.0026335876900702715, 0.08032441884279251, 0.0447709895670414, 0.9960848093032837, 0.9891861081123352, 0.00495422538369894, 0.00495422538369894, 0.9858908653259277, 0.00495422538369894, 0.055152859538793564, 0.1872294396162033, 0.021045170724391937, 0.027576429769396782, 0.22278852760791779, 0.15384745597839355, 0.25834760069847107, 0.017416691407561302, 0.031204907223582268, 0.0253993421792984, 0.9876113533973694, 0.15899474918842316, 0.046203602105379105, 0.5014449954032898, 0.17801976203918457, 0.02853751927614212, 0.0027178588788956404, 0.07881791144609451, 0.005435717757791281, 0.9833813309669495, 0.9248829483985901, 0.06635931879281998, 0.0041474574245512486, 0.9715133309364319, 0.9628095626831055, 0.03731819987297058, 0.9865007400512695, 0.006402200553566217, 0.9902069568634033, 0.9907954931259155, 0.848639965057373, 0.1483060121536255, 0.0028537593316286802, 0.9902544617652893, 0.0057075186632573605, 0.0028537593316286802, 0.9903066754341125, 0.05051080882549286, 0.0011479728855192661, 0.4500053822994232, 0.1366087794303894, 0.03443918749690056, 0.020663512870669365, 0.0011479728855192661, 0.037883106619119644, 0.26632970571517944, 0.9911953806877136, 0.07397922873497009, 0.10263314843177795, 0.22558453679084778, 0.16983963549137115, 0.0656435415148735, 0.16619277000427246, 0.12243040651082993, 0.030216867104172707, 0.04376235976815224, 0.7038588523864746, 0.26930251717567444, 0.026522217318415642, 0.9914412498474121, 0.012338439002633095, 0.9870750904083252, 0.09653118997812271, 0.2303066998720169, 0.06536757946014404, 0.3139163851737976, 0.15429788827896118, 0.005320616532117128, 0.04636537283658981, 0.034203965216875076, 0.050925903022289276, 0.0015201761852949858, 0.9900428652763367, 0.08377306908369064, 0.013962178491055965, 0.006981089245527983, 0.8935794234275818, 0.049034323543310165, 0.023854535073041916, 0.003975756000727415, 0.5804603695869446, 0.20276355743408203, 0.013252520002424717, 0.0013252520002424717, 0.12589894235134125, 0.13491402566432953, 0.16081751883029938, 0.07878979295492172, 0.06475873291492462, 0.002158624352887273, 0.05720354616641998, 0.00539656076580286, 0.09821740537881851, 0.39718687534332275, 0.981286346912384, 0.09663520008325577, 0.16209776699543, 0.11222152411937714, 0.62345290184021, 0.0031172647140920162, 0.9920654296875, 0.19624201953411102, 0.5793811678886414, 0.10902334004640579, 0.05139672011137009, 0.02959205023944378, 0.02959205023944378, 0.0031149527058005333, 0.9870562553405762, 0.9884746074676514, 0.16837573051452637, 0.16566872596740723, 0.07038214057683945, 0.15484070777893066, 0.0508916974067688, 0.16512732207775116, 0.06334391981363297, 0.01515922974795103, 0.14455407857894897, 0.0010828020749613643, 0.0005332784494385123, 0.009065734222531319, 0.8980409502983093, 0.0031996709294617176, 0.020264582708477974, 0.06505997478961945, 0.0015998354647308588, 0.0026663923636078835, 0.9842404127120972, 0.05273145064711571, 0.19456087052822113, 0.029093213379383087, 0.14546607434749603, 0.0854613184928894, 0.003636651672422886, 0.48731133341789246, 0.026633799076080322, 0.9588167667388916, 0.4930536150932312, 0.07853951305150986, 0.15926067531108856, 0.07144913822412491, 0.02890690416097641, 0.011453678831458092, 0.0005454132915474474, 0.0027270663995295763, 0.0005454132915474474, 0.15380653738975525, 0.9772245287895203, 0.016020074486732483, 0.008542371913790703, 0.014237286522984505, 0.9766778349876404, 0.9920694231987, 0.9977648258209229, 0.01595366559922695, 0.007976832799613476, 0.9691851139068604, 0.002886418020352721, 0.020204925909638405, 0.0014432090101763606, 0.9496315121650696, 0.021648135036230087, 0.002886418020352721, 0.9953742027282715, 0.6811176538467407, 0.013667912222445011, 0.11389926820993423, 0.0007593284826725721, 0.06074627861380577, 0.056190308183431625, 0.047837693244218826, 0.0022779854480177164, 0.02429851144552231, 0.016546640545129776, 0.9762518405914307, 0.008207804523408413, 0.04103902354836464, 0.943897545337677, 0.008553310297429562, 0.11119303852319717, 0.8809909820556641, 0.7798586487770081, 0.012411544099450111, 0.07240067422389984, 0.06205771863460541, 0.006205772049725056, 0.06619489938020706, 0.9761794805526733, 0.018535053357481956, 0.9822263717651367, 0.045388635247945786, 0.9418141841888428, 0.16049525141716003, 0.8164323568344116, 0.006978054065257311, 0.013956108130514622, 0.001953809754922986, 0.09769048541784286, 0.09378286451101303, 0.13090524077415466, 0.007815239019691944, 0.001953809754922986, 0.001953809754922986, 0.5959119200706482, 0.06642952561378479, 0.001953809754922986, 0.06410720944404602, 0.8891390562057495, 0.041809048503637314, 0.11460836976766586, 0.06772312521934509, 0.04688524454832077, 0.03646630048751831, 0.5860655307769775, 0.049489978700876236, 0.010418943129479885, 0.08856101334095001, 0.9915388226509094, 0.004718325566500425, 0.7124671339988708, 0.10946515202522278, 0.16419772803783417, 0.0037746604066342115, 0.0037746604066342115, 0.9813739657402039, 0.9966131448745728, 0.006770336534827948, 0.1760287582874298, 0.8124403953552246, 0.20460905134677887, 0.16822084784507751, 0.09484792500734329, 0.09633924812078476, 0.19894203543663025, 0.14018404483795166, 0.047722227871418, 0.04324826970696449, 0.00596527848392725, 0.9748241901397705, 0.07251713424921036, 0.05941162630915642, 0.11620215326547623, 0.21929879486560822, 0.008737003430724144, 0.017474006861448288, 0.07863303273916245, 0.12930765748023987, 0.003494801465421915, 0.29531073570251465, 0.2461678683757782, 0.6878896355628967, 0.009202537126839161, 0.02990824542939663, 0.006901902612298727, 0.013803805224597454, 0.0046012685634195805, 0.04202229902148247, 0.04097174108028412, 0.19120146334171295, 0.03676951304078102, 0.12081411480903625, 0.0010505574755370617, 0.0010505574755370617, 0.5651999115943909, 0.9717751145362854, 0.005039756651967764, 0.10583488643169403, 0.8668380975723267, 0.005039756651967764, 0.020159026607871056, 0.9966142177581787, 0.9936245083808899, 0.9966236352920532, 0.9822263717651367, 0.9822261929512024, 0.0071331048384308815, 0.2330147624015808, 0.030910121276974678, 0.14979520440101624, 0.08559726178646088, 0.0071331048384308815, 0.4232308864593506, 0.004755403380841017, 0.05706483870744705, 0.8317642211914062, 0.004037690348923206, 0.16150762140750885, 0.023779911920428276, 0.9749764204025269, 0.9837743639945984, 0.9880769848823547, 0.9867408275604248, 0.13249972462654114, 0.12352278083562851, 0.15727609395980835, 0.10700520128011703, 0.06068415567278862, 0.008976946584880352, 0.06140231341123581, 0.07504726946353912, 0.02836715057492256, 0.24560925364494324, 0.0033719181083142757, 0.0067438362166285515, 0.07081028074026108, 0.9137898087501526, 0.021119218319654465, 0.007310498505830765, 0.000406138802645728, 0.5490996837615967, 0.002436832757666707, 0.02680516056716442, 0.000406138802645728, 0.3923300802707672, 0.19758783280849457, 0.04139191657304764, 0.3202016353607178, 0.020305467769503593, 0.008590775541961193, 0.02811526507139206, 0.38189899921417236, 0.9913033843040466, 0.004289741162210703, 0.030028188601136208, 0.0986640527844429, 0.8665277361869812, 0.13110555708408356, 0.00504252128303051, 0.786633312702179, 0.07059529423713684, 0.993709921836853, 0.0014039612142369151, 0.6879410147666931, 0.08985351771116257, 0.0056158448569476604, 0.08564163744449615, 0.0056158448569476604, 0.030887147411704063, 0.049138642847537994, 0.04352279752492905, 0.9940444231033325, 0.23491661250591278, 0.14949238300323486, 0.6086475849151611, 0.9896522760391235, 0.0008534846710972488, 0.06827877461910248, 0.28164994716644287, 0.0025604539550840855, 0.14082497358322144, 0.24836403131484985, 0.10497861355543137, 0.15192027390003204, 0.1912350207567215, 0.08978170156478882, 0.0888838842511177, 0.004489084705710411, 0.20919135212898254, 0.05297120288014412, 0.006284718867391348, 0.0017956339288502932, 0.3555355370044708, 0.9898160099983215, 0.9831421971321106, 0.026462214067578316, 0.9526396989822388, 0.013231107033789158, 0.604299008846283, 0.05239586532115936, 0.023054180666804314, 0.09710700809955597, 0.10479173064231873, 0.016766676679253578, 0.02794446237385273, 0.034231964498758316, 0.022355569526553154, 0.016766676679253578, 0.11425454914569855, 0.20767444372177124, 0.0006720855599269271, 0.3924979865550995, 0.06720855832099915, 0.010753368958830833, 0.13844962418079376, 0.02217882312834263, 0.0470459908246994, 0.9664534330368042, 0.0026687863282859325, 0.21083411574363708, 0.09500879049301147, 0.45476117730140686, 0.06405086815357208, 0.002135029062628746, 0.024552833288908005, 0.06511838734149933, 0.0005337572656571865, 0.08059734106063843, 0.9864552021026611, 0.025923090055584908, 0.9677953720092773, 0.044748757034540176, 0.0944695994257927, 0.8402822017669678, 0.004972083959728479, 0.009944167919456959, 0.01538394670933485, 0.003076789202168584, 0.8891921043395996, 0.06461257487535477, 0.021537525579333305, 0.003076789202168584, 0.006153578404337168, 0.005236878525465727, 0.09426381438970566, 0.10473757237195969, 0.7907686829566956, 0.033221565186977386, 0.8194652795791626, 0.016610782593488693, 0.12734933197498322, 0.024028876796364784, 0.9371261596679688, 0.032038502395153046, 0.1385200321674347, 0.8495895862579346, 0.992936372756958, 0.9935815930366516, 0.005165377631783485, 0.831625759601593, 0.15496131777763367, 0.06371369957923889, 0.9361012578010559, 0.14614622294902802, 0.12115748971700668, 0.07799513638019562, 0.12342919409275055, 0.24761562049388885, 0.04391958937048912, 0.08329576998949051, 0.0007572342874482274, 0.009086811915040016, 0.14614622294902802, 0.9817965030670166, 0.001725943642668426, 0.0811193510890007, 0.8595199584960938, 0.05523019656538963, 0.01352339144796133, 0.9331140518188477, 0.040570177137851715, 0.09820789098739624, 0.12889786064624786, 0.06035693362355232, 0.0521729439496994, 0.3089456558227539, 0.05421894043684006, 0.10127688944339752, 0.01227598637342453, 0.18413980305194855, 0.09077055752277374, 0.10120395570993423, 0.04486360773444176, 0.46950289607048035, 0.1930178552865982, 0.046950288116931915, 0.04173358902335167, 0.01356341689825058, 0.9695661664009094, 0.13870780169963837, 0.149668350815773, 0.25473856925964355, 0.10242455452680588, 0.1062040627002716, 0.05480280891060829, 0.060094114392995834, 0.061227962374687195, 0.0034015534911304712, 0.06878697127103806, 0.0023070869501680136, 0.003460630541667342, 0.003460630541667342, 0.179376021027565, 0.7492265105247498, 0.002883858745917678, 0.0011535434750840068, 0.058253947645425797, 0.9957183003425598, 0.006476604845374823, 0.9909205436706543, 0.9927603006362915, 0.9885662198066711, 0.09666421264410019, 0.07249816507101059, 0.09213308244943619, 0.022655675187706947, 0.6117032170295715, 0.003020756645128131, 0.05890475586056709, 0.043800972402095795, 0.0029676423873752356, 0.9941601753234863, 0.98643559217453, 0.013700494542717934, 0.026832109317183495, 0.9391238689422607, 0.013416054658591747, 0.9921221733093262, 0.9906147122383118, 0.004392969887703657, 0.0021964849438518286, 0.994949221611023, 0.4818570613861084, 0.004214493092149496, 0.002809662139043212, 0.5085488557815552, 0.001404831069521606, 0.9828160405158997, 0.9836146235466003, 0.9242684841156006, 0.01430756226181984, 0.060091760009527206, 0.001237091259099543, 0.6037005186080933, 0.004948365036398172, 0.110101118683815, 0.18927495181560516, 0.002474182518199086, 0.054432012140750885, 0.03340146318078041, 0.010646541602909565, 0.9874667525291443, 0.9978272318840027, 0.028387146070599556, 0.965162992477417, 0.9868390560150146, 0.12207573652267456, 0.22487635910511017, 0.02040894702076912, 0.32276371121406555, 0.08201373368501663, 0.07936812937259674, 0.012850077822804451, 0.029857533052563667, 0.029857533052563667, 0.0763445794582367, 0.9898670315742493, 0.9865918755531311, 0.9858143329620361, 0.9821603298187256, 0.9808538556098938, 0.9893856644630432, 0.9903342723846436, 0.992088794708252, 0.9881377220153809, 0.010740627534687519, 0.9899158477783203, 0.006811692379415035, 0.02043507620692253, 0.08174030482769012, 0.02724676951766014, 0.17029230296611786, 0.6879809498786926, 0.000487455225083977, 0.12040144205093384, 0.14574910700321198, 0.0653190016746521, 0.001949820900335908, 0.6093190312385559, 0.0034121866337955, 0.05264516547322273, 0.9864194393157959, 0.9654179215431213, 0.9230265021324158, 0.011901850812137127, 0.006584002636373043, 0.00025323088630102575, 0.002025847090408206, 0.0005064617726020515, 0.0007596926297992468, 0.05368494614958763, 0.0012661543441936374, 0.9698728919029236, 0.006642965134233236, 0.013285930268466473, 0.9815523028373718, 0.0035563488490879536, 0.0035563488490879536, 0.0035563488490879536, 0.007112697698175907, 0.9901657700538635, 0.9923008680343628, 0.005363788455724716, 0.650534987449646, 0.0004755372938234359, 0.0019021491752937436, 0.020923640578985214, 0.0004755372938234359, 0.31480568647384644, 0.011412895284593105, 0.9808696508407593, 0.16704091429710388, 0.020880114287137985, 0.03132017329335213, 0.10527057945728302, 0.4158622920513153, 0.029580162838101387, 0.03219017758965492, 0.03219017758965492, 0.1653009057044983, 0.06122559681534767, 0.006802843883633614, 0.6938900947570801, 0.09297220408916473, 0.03854944929480553, 0.10657788813114166, 0.9791402220726013, 0.9852879643440247, 0.004477596376091242, 0.17462626099586487, 0.11044737696647644, 0.05522368848323822, 0.11492497473955154, 0.008955192752182484, 0.06865648180246353, 0.4641774892807007, 0.9869729280471802, 0.9197089076042175, 0.0024856997188180685, 0.07457099109888077, 0.020158862695097923, 0.9575459957122803, 0.010079431347548962, 0.9778363704681396, 0.0007380550378002226, 0.3830505609512329, 0.18451376259326935, 0.03690275177359581, 0.028784146532416344, 0.019927486777305603, 0.28415119647979736, 0.06199662387371063, 0.9238523840904236, 0.0014949067262932658, 0.0014949067262932658, 0.0029898134525865316, 0.007474533747881651, 0.028403228148818016, 0.03288794681429863, 0.007031828165054321, 0.7383419871330261, 0.05273871123790741, 0.18282753229141235, 0.014063656330108643, 0.9877511858940125, 0.007495793979614973, 0.002498597837984562, 0.309826135635376, 0.6121565103530884, 0.007495793979614973, 0.002498597837984562, 0.0574677512049675, 0.99554842710495, 0.002768635982647538, 0.04429817572236061, 0.08859635144472122, 0.8527398705482483, 0.008305908180773258, 0.013629554770886898, 0.004543184768408537, 0.036345478147268295, 0.9404392838478088, 0.9786770343780518, 0.26186230778694153, 0.3273278772830963, 0.11496394127607346, 0.00039918036782182753, 0.09300902485847473, 0.07265082746744156, 0.059477873146533966, 0.016366394236683846, 0.026745084673166275, 0.027144264429807663, 0.4208512008190155, 0.12015693634748459, 0.033813007175922394, 0.04347386583685875, 0.1044580414891243, 0.06581460684537888, 0.018717914819717407, 0.0006038037245161831, 0.14672429859638214, 0.04528527706861496, 0.9921303391456604, 0.9903807640075684, 0.010003846138715744, 0.9945553541183472, 0.047040849924087524, 0.06409961730241776, 0.147842675447464, 0.2041883021593094, 0.10597114264965057, 0.07185360789299011, 0.015507971867918968, 0.06616734713315964, 0.08477691560983658, 0.1917819231748581, 0.06745494902133942, 0.17123179137706757, 0.25062108039855957, 0.15099529922008514, 0.06589829176664352, 0.2251957356929779, 0.010896568186581135, 0.011415452696383, 0.045661810785532, 0.012612512335181236, 0.0882875844836235, 0.8891820907592773, 0.09287718683481216, 0.12220682203769684, 0.2517460584640503, 0.5230451822280884, 0.007332409266382456, 0.015242069028317928, 0.15242069959640503, 0.49621403217315674, 0.08637172728776932, 0.01693563163280487, 0.037258390337228775, 0.054194025695323944, 0.03387126326560974, 0.10669448226690292, 0.7591300010681152, 0.03399089351296425, 0.0032372281420975924, 0.0016186140710487962, 0.0016186140710487962, 0.0032372281420975924, 0.048558421432971954, 0.14567527174949646, 0.13170674443244934, 0.4955466389656067, 0.07079237699508667, 0.057621702551841736, 0.011524340137839317, 0.0691460445523262, 0.0032926686108112335, 0.0938410609960556, 0.06585337221622467, 0.1413835883140564, 0.14583662152290344, 0.06289900094270706, 0.11206783354282379, 0.030429014936089516, 0.16810175776481628, 0.03061455860733986, 0.046942323446273804, 0.056590545922517776, 0.20483922958374023, 0.987544596195221, 0.9781195521354675, 0.03922335058450699, 0.9511662721633911, 0.5106157064437866, 0.17945338785648346, 0.026563823223114014, 0.10389406979084015, 0.11333898454904556, 0.0005903072305954993, 0.048995498567819595, 0.016528600826859474, 0.970188319683075, 0.024749701842665672, 0.2657231092453003, 0.18553999066352844, 0.06293442100286484, 0.25173768401145935, 0.04568572714924812, 0.08251401782035828, 0.0037294470239430666, 0.051746077835559845, 0.041023917496204376, 0.008391255512833595, 0.9738040566444397, 0.9931844472885132, 0.9889817237854004, 0.003527343738824129, 0.8677265644073486, 0.05996484309434891, 0.06349218636751175, 0.9885640740394592, 0.9963987469673157, 0.0024481541477143764, 0.995235025882721, 0.9859002828598022, 0.9763019680976868, 0.11840307712554932, 0.23242086172103882, 0.10086188465356827, 0.5043094158172607, 0.04166034236550331, 0.9943682551383972, 0.08992742747068405, 0.0009270868613384664, 0.0027812605258077383, 0.022250084206461906, 0.11310459673404694, 0.03244803845882416, 0.7388882040977478, 0.974526047706604, 0.9433520436286926, 0.002300858497619629, 0.002300858497619629, 0.050618890672922134, 0.9806010723114014, 0.008158705197274685, 0.9872032999992371, 0.008158705197274685, 0.06209668517112732, 0.9379867911338806, 0.9216731190681458, 0.07590249180793762, 0.12467615306377411, 0.7816235423088074, 0.0911094918847084, 0.7358355522155762, 0.07810544967651367, 0.0020554065704345703, 0.18293118476867676, 0.021586287766695023, 0.9713829755783081, 0.9735527038574219, 0.9822288751602173, 0.020791176706552505, 0.9771853089332581, 0.00587243027985096, 0.8045229315757751, 0.1879177689552307, 0.985357940196991, 0.0006525891949422657, 0.9149300456047058, 0.034587226808071136, 0.02545097842812538, 0.0013051783898845315, 0.003915535286068916, 0.016314730048179626, 0.0032629461493343115, 0.9834821820259094, 0.862199604511261, 0.0052895681001245975, 0.12694963812828064, 0.00790500920265913, 0.8853610157966614, 0.10276512056589127, 0.9950456619262695, 0.012184717692434788, 0.9869621396064758, 0.9965411424636841, 0.0028071582783013582, 0.9924996495246887, 0.996698796749115, 0.9958560466766357, 0.9921131134033203, 0.00043481565080583096, 0.00043481565080583096, 0.9948582053184509, 0.0034785252064466476, 0.9924890398979187, 0.9898051619529724, 0.004611360374838114, 0.9914425015449524, 0.004611360374838114, 0.006460628472268581, 0.9884761571884155, 0.008645688183605671, 0.025937065482139587, 0.11758136749267578, 0.012103963643312454, 0.7158629894256592, 0.0017291377298533916, 0.11671679466962814, 0.980389416217804, 0.0019912607967853546, 0.22620722651481628, 0.037037450820207596, 0.31541571021080017, 0.06332209706306458, 0.2285967469215393, 0.011947564780712128, 0.05137452855706215, 0.06332209706306458, 0.996368408203125, 0.996869683265686, 0.9928980469703674, 0.0036105383187532425, 0.9948495626449585, 0.9830390214920044, 0.13072027266025543, 0.17816568911075592, 0.1442994773387909, 0.05235355347394943, 0.11599583923816681, 0.14708076417446136, 0.02175944484770298, 0.024867936968803406, 0.0904734879732132, 0.09423639625310898, 0.9869793057441711, 0.9693877100944519, 0.9612265825271606, 0.027996890246868134, 0.99306720495224, 0.9922271370887756, 0.9901943206787109, 0.08990952372550964, 0.9038273692131042, 0.9970499277114868, 0.08504483103752136, 0.8882459998130798, 0.009449425153434277, 0.009449425153434277, 0.9843659400939941, 0.21029624342918396, 0.1535314917564392, 0.10438617318868637, 0.11543434858322144, 0.12419669330120087, 0.08305177837610245, 0.04457365721464157, 0.054859887808561325, 0.07047971338033676, 0.03924005851149559, 0.9822190999984741, 0.6300991177558899, 0.0009768977761268616, 0.0009768977761268616, 0.36731359362602234, 0.02304094098508358, 0.0046081882901489735, 0.967719554901123, 0.5371444821357727, 0.008757790550589561, 0.005838526878505945, 0.4466473162174225, 0.9940289855003357, 0.009283320978283882, 0.018566641956567764, 0.0352766215801239, 0.2673596441745758, 0.0018566641956567764, 0.6683991551399231, 0.0018566641956567764, 0.3621807396411896, 0.07042403519153595, 0.07351959496736526, 0.2716355621814728, 0.08822351694107056, 0.08203238993883133, 0.000773890467826277, 0.029407838359475136, 0.019347261637449265, 0.002321671461686492, 0.9932237863540649, 0.18439050018787384, 0.8084813952445984, 0.007091942243278027, 0.9958173632621765, 0.9775065183639526, 0.324680358171463, 0.037352610379457474, 0.002873277524486184, 0.06321210414171219, 0.1344693899154663, 0.022986220195889473, 0.016665009781718254, 0.09941540658473969, 0.08562367409467697, 0.2126225382089615, 0.9895155429840088, 0.9883564710617065, 0.9668201804161072, 0.021726297214627266, 0.010863148607313633, 0.03679196909070015, 0.11431790143251419, 0.13796988129615784, 0.23520579934120178, 0.0013139989459887147, 0.014453987590968609, 0.4598996043205261, 0.021418439224362373, 0.037555620074272156, 0.14083358645439148, 0.1622520238161087, 0.15697075426578522, 0.12645681202411652, 0.05545322224497795, 0.03843583166599274, 0.21623823046684265, 0.04430389776825905, 0.016220558434724808, 0.06285466253757477, 0.7319526672363281, 0.002027569804340601, 0.054744381457567215, 0.12976446747779846, 0.4102418124675751, 0.0725698471069336, 0.05035458877682686, 0.002962034661322832, 0.010367121547460556, 0.008886103518307209, 0.10811426490545273, 0.2873173654079437, 0.048873573541641235, 0.9928029179573059, 0.9790306687355042, 0.9747387766838074, 0.008942557498812675, 0.11628594994544983, 0.08721446245908737, 0.4869474172592163, 0.07086174935102463, 0.0018169679678976536, 0.07449568808078766, 0.034522391855716705, 0.09266536682844162, 0.034522391855716705, 0.7544910907745361, 0.059880245476961136, 0.09431138634681702, 0.08832336217164993, 0.0029940123204141855, 0.18936502933502197, 0.07519713044166565, 0.12404782325029373, 0.0636705607175827, 0.23382465541362762, 0.07519713044166565, 0.03238416463136673, 0.02799309231340885, 0.1553342193365097, 0.022504249587655067, 0.13959482312202454, 0.10798843950033188, 0.47672948241233826, 0.09086832404136658, 0.15276414155960083, 0.001316932262852788, 0.030289441347122192, 0.9450730085372925, 0.049269210547208786, 0.9409293532371521, 0.027674391865730286, 0.027674391865730286, 0.21947936713695526, 0.06251836568117142, 0.009311245754361153, 0.10907459259033203, 0.14099885523319244, 0.08247103542089462, 0.06650889664888382, 0.3086012899875641, 0.16823895275592804, 0.025479396805167198, 0.08842849731445312, 0.00037469700328074396, 0.1105356216430664, 0.0007493940065614879, 0.09217546135187149, 0.015362577512860298, 0.4530086815357208, 0.046087730675935745, 0.9822263717651367, 0.4119686186313629, 0.00396123668178916, 0.5783405900001526, 0.0033932647202163935, 0.010179794393479824, 0.006786529440432787, 0.8449229001998901, 0.10858447104692459, 0.006786529440432787, 0.023752853274345398, 0.024904590100049973, 0.15440845489501953, 0.049809180200099945, 0.009961836040019989, 0.7620804309844971, 0.05110843852162361, 0.04015662893652916, 0.9053494930267334, 0.006807662080973387, 0.98711097240448, 0.9878580570220947, 0.009534084238111973, 0.3622952103614807, 0.1258499175310135, 0.04385678842663765, 0.015254534780979156, 0.4023383557796478, 0.03813633695244789, 0.2878582179546356, 0.11018496006727219, 0.09999284893274307, 0.0851178839802742, 0.07630308717489243, 0.12258076667785645, 0.06087718904018402, 0.0851178839802742, 0.060050804167985916, 0.01156942080706358, 0.9827758073806763, 0.9819108843803406, 0.9918085932731628, 0.006206608843058348, 0.8937516808509827, 0.09930574148893356, 0.01435539498925209, 0.9091750383377075, 0.00478513166308403, 0.00478513166308403, 0.06699184328317642, 0.007261035498231649, 0.9875008463859558, 0.006595556158572435, 0.006595556158572435, 0.9761423468589783, 0.9905015230178833, 0.9818058609962463, 0.9897236227989197, 0.006147351581603289, 0.9871451258659363, 0.008025569841265678, 0.9916379451751709, 0.8831604719161987, 0.11274389177560806, 0.9887295365333557, 0.011336322873830795, 0.015115097165107727, 0.03778774291276932, 0.7973213791847229, 0.12092077732086182, 0.015115097165107727, 0.9839860200881958, 0.017038093879818916, 0.5756441354751587, 0.14604079723358154, 0.0024340134114027023, 0.16186189651489258, 0.020689113065600395, 0.03164217248558998, 0.018255099654197693, 0.027991153299808502, 0.0005007290747016668, 0.9654056429862976, 0.0020029162988066673, 0.015021871775388718, 0.01652405969798565, 0.0005007290747016668, 0.9983685612678528, 0.984391450881958, 0.7865629196166992, 0.09125868231058121, 0.05649346858263016, 0.06518477201461792, 0.031522516161203384, 0.15505670011043549, 0.370602548122406, 0.0008519599214196205, 0.08945579081773758, 0.023854877799749374, 0.016187237575650215, 0.31181731820106506, 0.9762744903564453, 0.5231640934944153, 0.1070430651307106, 0.06663607805967331, 0.031191356480121613, 0.11838537454605103, 0.04324256256222725, 0.0007088944548740983, 0.038989193737506866, 0.024102412164211273, 0.048204824328422546, 0.0929979532957077, 0.05451604351401329, 0.6509857177734375, 0.051309216767549515, 0.028861435130238533, 0.11865256726741791, 0.9931030869483948, 0.13783730566501617, 0.16229231655597687, 0.6869633197784424, 0.008892728947103024, 0.9738471508026123, 0.13473917543888092, 0.8084350824356079, 0.05575414374470711, 0.1626710742712021, 0.22070345282554626, 0.1566573530435562, 0.06404609978199005, 0.06885707378387451, 0.08719891309738159, 0.011426064185798168, 0.02646036073565483, 0.04660631716251373, 0.15515393018722534, 0.19243605434894562, 0.8001288175582886, 0.2370893508195877, 0.13167887926101685, 0.23405838012695312, 0.12528017163276672, 0.042096830904483795, 0.12090209871530533, 0.031656816601753235, 0.04176005348563194, 0.01515485905110836, 0.020206477493047714, 0.9944144487380981, 0.9874224662780762, 0.9963687062263489, 0.9945369958877563, 0.9894090294837952, 0.07058575749397278, 0.20587512850761414, 0.00196071551181376, 0.04117502644658089, 0.6705647110939026, 0.00980357825756073, 0.9799315333366394, 0.05673220008611679, 0.008728031069040298, 0.14837652444839478, 0.07200625538825989, 0.0054550194181501865, 0.11237339675426483, 0.0010910038836300373, 0.5956881046295166, 0.9946656823158264, 0.038517702370882034, 0.9629425406455994, 0.01962505839765072, 0.9714404344558716, 0.16931872069835663, 0.1627432405948639, 0.0016438711900264025, 0.11260516941547394, 0.4454890787601471, 0.10520775616168976, 0.003287742380052805, 0.9785968065261841, 0.9942672848701477, 0.9907046556472778, 0.061473358422517776, 0.24490192532539368, 0.055524323135614395, 0.013881080783903599, 0.061473358422517776, 0.3837127387523651, 0.17847102880477905, 0.05617363378405571, 0.16336485743522644, 0.047761157155036926, 0.1820894032716751, 0.39538639783859253, 0.000814110622741282, 0.04314786195755005, 0.07299858331680298, 0.001085480791516602, 0.03717771917581558, 0.9844242334365845, 0.9860023260116577, 0.006162514444440603, 0.006162514444440603, 0.9877635836601257, 0.0017118952237069607, 0.0034237904474139214, 0.0017118952237069607, 0.0034237904474139214, 0.9960266351699829, 0.16128908097743988, 0.1385723203420639, 0.12039889395236969, 0.043161869049072266, 0.45433545112609863, 0.03861851245164871, 0.04543354734778404, 0.093169204890728, 0.15239819884300232, 0.15838764607906342, 0.0006654942990280688, 0.17768697440624237, 0.0013309885980561376, 0.0425916351377964, 0.3081238567829132, 0.0019964829552918673, 0.06322196125984192, 0.03564756363630295, 0.002742120297625661, 0.03838968276977539, 0.21662750840187073, 0.5785873532295227, 0.1233954131603241, 0.9791529178619385, 0.01122678630053997, 0.9879571795463562, 0.9429927468299866, 0.01762603223323822, 0.03525206446647644, 0.9915128946304321, 0.6184759736061096, 0.027811551466584206, 0.005297438707202673, 0.1470039188861847, 0.037082068622112274, 0.13243596255779266, 0.03046027198433876, 0.8497037887573242, 0.10963919758796692, 0.03426224738359451, 0.9891274571418762, 0.12749387323856354, 0.23612768948078156, 0.12447626143693924, 0.0645013377070427, 0.15653832256793976, 0.030553264543414116, 0.01772843673825264, 0.08901938796043396, 0.06412413716316223, 0.08939658850431442, 0.006437409203499556, 0.07081150263547897, 0.006437409203499556, 0.8819250464439392, 0.032187044620513916, 0.00401900103315711, 0.13664603233337402, 0.11856053024530411, 0.044209010899066925, 0.012057002633810043, 0.6691636443138123, 0.002009500516578555, 0.01004750281572342, 0.0037420527078211308, 0.9916439652442932, 0.985345721244812, 0.2468963861465454, 0.1155250146985054, 0.17686572670936584, 0.08741051703691483, 0.059296026825904846, 0.04600553587079048, 0.0035782083868980408, 0.02709214948117733, 0.018402215093374252, 0.21878188848495483, 0.9949054718017578, 0.08791039884090424, 0.17093689739704132, 0.08628243207931519, 0.07488664239645004, 0.006511881481856108, 0.001627970370464027, 0.061862874776124954, 0.006511881481856108, 0.5014148950576782, 0.980570375919342, 0.9781216382980347, 0.07027849555015564, 0.007476435508579016, 0.08792288601398468, 0.05771808326244354, 0.34989720582962036, 0.011364182457327843, 0.021831192076206207, 0.010167952626943588, 0.3830925524234772, 0.9945783019065857, 0.9930787682533264, 0.9880321621894836, 0.05467798188328743, 0.2510216534137726, 0.0820169746875763, 0.0969291478395462, 0.36037760972976685, 0.029824353754520416, 0.02858167141675949, 0.09817183017730713, 0.9607977271080017, 0.011861700564622879, 0.004744680132716894, 0.021351061761379242, 0.05354306846857071, 0.006983878556638956, 0.633204996585846, 0.032591432332992554, 0.2351239174604416, 0.03957531228661537, 0.8945026993751526, 0.0303507037460804, 0.07166138291358948, 0.0016861502081155777, 0.0069891950115561485, 0.06639735400676727, 0.519530177116394, 0.025627048686146736, 0.18870826065540314, 0.16308121383190155, 0.0011648657964542508, 0.0011648657964542508, 0.027956780046224594, 0.023651106283068657, 0.9223931431770325, 0.051244061440229416, 0.034681908786296844, 0.1402355432510376, 0.037697724997997284, 0.013571181334555149, 0.12968017160892487, 0.3045976161956787, 0.3362637162208557, 0.0015079090371727943, 0.0030158180743455887, 0.22748351097106934, 0.04857299104332924, 0.03481064364314079, 0.09876508265733719, 0.13276617228984833, 0.0712403878569603, 0.06962128728628159, 0.030762894079089165, 0.23234079778194427, 0.05343028903007507, 0.01820201426744461, 0.0667407214641571, 0.009101007133722305, 0.16685180366039276, 0.04247136786580086, 0.5187574028968811, 0.17898647487163544, 0.15172353386878967, 0.09817405045032501, 0.12271756678819656, 0.0022312283981591463, 0.6225127577781677, 0.9911998510360718, 0.005216841120272875, 0.9853945374488831, 0.9973759651184082, 0.9770599603652954, 0.0040750931948423386, 0.2852565050125122, 0.7090661525726318, 0.9850632548332214, 0.0019630880560725927, 0.8519802093505859, 0.1020805835723877, 0.041224848479032516, 0.9749165773391724, 0.9873432517051697, 0.9576490521430969, 0.0023881522938609123, 0.0382104367017746, 0.9756573438644409, 0.029290251433849335, 0.22021929919719696, 0.04230814054608345, 0.2966994047164917, 0.046105023473501205, 0.24083095788955688, 0.023323718458414078, 0.028205426409840584, 0.07105597853660583, 0.0021696481853723526, 0.9840444922447205, 0.013403519988059998, 0.0019147886196151376, 0.2029675990343094, 0.7295344471931458, 0.009573942981660366, 0.038295771926641464, 0.003829577239230275, 0.7326973676681519, 0.1545144021511078, 0.004984335508197546, 0.02990601398050785, 0.07476503401994705, 0.0736682340502739, 0.9261149168014526, 0.1819581687450409, 0.0026181030552834272, 0.16624954342842102, 0.0628344714641571, 0.05759826675057411, 0.07723403722047806, 0.04058059677481651, 0.4097331166267395, 0.1295756697654724, 0.09358243644237518, 0.08432702720165253, 0.36198920011520386, 0.10283783823251724, 0.018510811030864716, 0.11415000259876251, 0.0318797305226326, 0.05553243309259415, 0.007198648527264595, 0.868351936340332, 0.009374919347465038, 0.0011718649184331298, 0.11953022330999374, 0.08246022462844849, 0.9122162461280823, 0.9918386340141296, 0.9949858784675598, 0.9868400692939758, 0.008866689167916775, 0.004433344583958387, 0.9709024429321289, 0.008866689167916775, 0.9881266951560974, 0.009788134135305882, 0.9886015057563782, 0.9888159036636353, 0.10232925415039062, 0.04408029466867447, 0.27077895402908325, 0.20623280107975006, 0.006297185085713863, 0.05510036647319794, 0.3148592412471771, 0.14842967689037323, 0.07524559646844864, 0.13451439142227173, 0.19017551839351654, 0.12781444191932678, 0.08916088193655014, 0.09895311295986176, 0.05153807997703552, 0.02886132523417473, 0.056176505982875824, 0.08451668918132782, 0.18558819591999054, 0.2570353150367737, 0.09584367275238037, 0.03659485653042793, 0.0052278367802500725, 0.252678781747818, 0.08103147149085999, 0.9784383177757263, 0.013878557831048965, 0.9869592785835266, 0.016696691513061523, 0.13993416726589203, 0.03418846055865288, 0.2576060891151428, 0.1447046548128128, 0.01510652992874384, 0.2305733561515808, 0.015901610255241394, 0.1447046548128128, 0.9955986738204956, 0.01183531153947115, 0.9704955220222473, 0.05271882563829422, 0.931365966796875, 0.9913755059242249, 0.09460636973381042, 0.0781530886888504, 0.04524652659893036, 0.5210205912590027, 0.04387541860342026, 0.009597747586667538, 0.0712975561618805, 0.13711068034172058, 0.977216362953186, 0.036902930587530136, 0.09367667138576508, 0.14477303624153137, 0.008516061119735241, 0.002838687039911747, 0.7125104069709778, 0.05829952657222748, 0.5965985059738159, 0.02331981062889099, 0.14380550384521484, 0.0019433175912126899, 0.08939260989427567, 0.08744928985834122, 0.02088705636560917, 0.000949411594774574, 0.03322940692305565, 0.18228702247142792, 0.05601528659462929, 0.004747058264911175, 0.008544704876840115, 0.05601528659462929, 0.01613999716937542, 0.6190163493156433, 0.15578219294548035, 0.0029672798700630665, 0.0074181994423270226, 0.7907800674438477, 0.04154191538691521, 0.11447542905807495, 0.22115933895111084, 0.031166084110736847, 0.06293151527643204, 0.13365454971790314, 0.2067749798297882, 0.019778477028012276, 0.043752387166023254, 0.1276610791683197, 0.03895760700106621, 0.9773634076118469, 0.019504893571138382, 0.9752447009086609, 0.290132075548172, 0.01878552883863449, 0.08557852357625961, 0.6053115129470825, 0.9888305068016052, 0.005316292867064476, 0.10643304884433746, 0.006081888917833567, 0.05473699793219566, 0.7784817814826965, 0.006081888917833567, 0.04561416432261467, 0.0030409444589167833, 0.9742242097854614, 0.06008855998516083, 0.8074399828910828, 0.015022139996290207, 0.11642158031463623, 0.005579999182373285, 0.03347999230027199, 0.0041849990375339985, 0.02231999672949314, 0.8523448705673218, 0.03347999230027199, 0.04603499174118042, 0.005204515531659126, 0.5646899342536926, 0.11449934542179108, 0.005204515531659126, 0.13791966438293457, 0.05204515531659126, 0.07806773483753204, 0.0442383848130703, 0.9487901329994202, 0.0018458951963111758, 0.04614738002419472, 0.7506205439567566, 0.014219132252037525, 0.0007483753724955022, 0.032180141657590866, 0.008980505168437958, 0.19233247637748718, 0.9752950668334961, 0.12809599936008453, 0.0026142040733247995, 0.8653015494346619, 0.1228329986333847, 0.20120155811309814, 0.13506071269512177, 0.12727944552898407, 0.0933753103017807, 0.03946218639612198, 0.003890638006851077, 0.14506521821022034, 0.03946218639612198, 0.09226369857788086, 0.9826878905296326, 0.9322599172592163, 0.062150660902261734, 0.002959555247798562, 0.07200983166694641, 0.135527104139328, 0.13251931965351105, 0.12455754727125168, 0.006369420327246189, 0.0008846416603773832, 0.021231399849057198, 0.0438782274723053, 0.03520873934030533, 0.42781272530555725, 0.9708524942398071, 0.9778069257736206, 0.979847252368927, 0.004335607402026653, 0.01300682220607996, 0.012055247090756893, 0.17600660026073456, 0.1965005248785019, 0.0036165739875286818, 0.29655906558036804, 0.0012055246625095606, 0.24472150206565857, 0.008438672870397568, 0.06148175895214081, 0.019634412601590157, 0.9751758575439453, 0.996514618396759, 0.21431542932987213, 0.12882348895072937, 0.3864704370498657, 0.044502656906843185, 0.07143847644329071, 0.0035133676137775183, 0.030449187383055687, 0.12062562257051468, 0.98990797996521, 0.9912926554679871, 0.008850827813148499, 0.9807520508766174, 0.007452667225152254, 0.20569361746311188, 0.00447160005569458, 0.639438807964325, 0.029810668900609016, 0.08496040850877762, 0.02682960219681263, 0.00998961366713047, 0.11987536400556564, 0.8690963983535767, 0.005593887064605951, 0.04475109651684761, 0.8642555475234985, 0.07272052764892578, 0.00839083082973957, 0.0029418172780424356, 0.16768358647823334, 0.00882545206695795, 0.5913052558898926, 0.22357811033725739, 0.0029418172780424356, 0.005445799790322781, 0.008168699219822884, 0.9829668402671814, 0.008424517698585987, 0.6002469062805176, 0.27590295672416687, 0.06107775494456291, 0.05054710805416107, 0.0021061294246464968, 0.017024487257003784, 0.9703958034515381, 0.9846150875091553, 0.9607712626457214, 0.02853775955736637, 0.009512586519122124, 0.0029911603778600693, 0.19292984902858734, 0.7896663546562195, 0.0029911603778600693, 0.010469061322510242, 0.24605441093444824, 0.09591951221227646, 0.5129609107971191, 0.043094273656606674, 0.07089703530073166, 0.027802757918834686, 0.002780275885015726, 0.46350494027137756, 0.02456739917397499, 0.015559352934360504, 0.02866196632385254, 0.0024567400105297565, 0.004913480021059513, 0.021291745826601982, 0.02620522491633892, 0.4135512113571167, 0.062319736927747726, 0.7214707732200623, 0.0023969130124896765, 0.007190738804638386, 0.040747519582509995, 0.0023969130124896765, 0.06951047480106354, 0.09347960352897644, 0.9826256632804871, 0.9746388792991638, 0.15407316386699677, 0.1536252647638321, 0.12406472116708755, 0.04344504699110985, 0.050163354724645615, 0.025081677362322807, 0.16437456011772156, 0.0707661584019661, 0.017019709572196007, 0.19751819968223572, 0.059643618762493134, 0.13184379041194916, 0.10673068463802338, 0.07533930987119675, 0.006278275512158871, 0.0031391377560794353, 0.6058536171913147, 0.012556551024317741, 0.1517179012298584, 0.838441014289856, 0.912254273891449, 0.021116996183991432, 0.0675743892788887, 0.040006596595048904, 0.08001319319009781, 0.09274256974458694, 0.06546533852815628, 0.1018349751830101, 0.2264009714126587, 0.05455445125699043, 0.33914682269096375, 0.005367681384086609, 0.16371428966522217, 0.008051522076129913, 0.1905526965856552, 0.6307026147842407, 0.0026838406920433044, 0.9915081858634949, 0.09113453328609467, 0.0006463442114181817, 0.22686682641506195, 0.1590006798505783, 0.021975703537464142, 0.08790281414985657, 0.0006463442114181817, 0.21200090646743774, 0.018097639083862305, 0.1816227287054062, 0.9920912981033325, 0.9888413548469543, 0.9959901571273804, 0.003243889193981886, 0.8142161965370178, 0.17841389775276184, 0.9892763495445251, 0.987592339515686, 0.0091236038133502, 0.18855448067188263, 0.11556564271450043, 0.6386522650718689, 0.0030412012711167336, 0.0364944152534008, 0.0030412012711167336, 0.0030412012711167336, 0.0030412012711167336, 0.9217573404312134, 0.07249777019023895, 0.037000447511672974, 0.22756913304328918, 0.11591290682554245, 0.1561877280473709, 0.0419120118021965, 0.036673009395599365, 0.03732788562774658, 0.09724896401166916, 0.04813332483172417, 0.20202898979187012, 0.9875795245170593, 0.9880426526069641, 0.007057447452098131, 0.1414521038532257, 0.11666152626276016, 0.030623650178313255, 0.09478748589754105, 0.033540189266204834, 0.12249460071325302, 0.02916538156569004, 0.42873111367225647, 0.9702166318893433, 0.5856624841690063, 0.026092126965522766, 0.00035259631113149226, 0.062056951224803925, 0.06487772613763809, 0.01198827475309372, 0.018687603995203972, 0.023623952642083168, 0.08532831072807312, 0.12129313498735428, 0.9829869866371155, 0.3716052770614624, 0.0008043404668569565, 0.0022119362838566303, 0.0006032553501427174, 0.11421634256839752, 0.06474940478801727, 0.00040217023342847824, 0.009451000019907951, 0.3776378333568573, 0.05831468105316162, 0.8804001212120056, 0.11269121617078781, 0.9898224472999573, 0.9899583458900452, 0.027404535561800003, 0.041106801480054855, 0.9180518984794617, 0.974738597869873, 0.21270212531089783, 0.057044852524995804, 0.20695342123508453, 0.03891431912779808, 0.11408970504999161, 0.06721564382314682, 0.05527602136135101, 0.03714548423886299, 0.035818859934806824, 0.17555664479732513, 0.988198459148407, 0.9922228455543518, 0.9755079746246338, 0.026324763894081116, 0.016452977433800697, 0.04935893416404724, 0.1266879290342331, 0.4392944872379303, 0.3389313220977783, 0.03210319206118584, 0.014268085360527039, 0.9488276839256287, 0.3478083610534668, 0.1831834316253662, 0.045413773506879807, 0.12641622126102448, 0.19169852137565613, 0.03013029135763645, 0.011571778915822506, 0.0072050695307552814, 0.04694212228059769, 0.009825094603002071, 0.3995696008205414, 0.17394199967384338, 0.001987908501178026, 0.08349215984344482, 0.08846192806959152, 0.000993954250589013, 0.04969771206378937, 0.20177271962165833, 0.10621137171983719, 0.10412880033254623, 0.5810387134552002, 0.035403791815042496, 0.17077122628688812, 0.0020825760439038277, 0.7864170074462891, 0.00761662982404232, 0.07172325998544693, 0.09457315504550934, 0.013963821344077587, 0.025388766080141068, 0.9942616820335388, 0.9889580011367798, 0.9962261319160461, 0.7106607556343079, 0.016310246661305428, 0.0198052991181612, 0.04252314195036888, 0.0046600704081356525, 0.011650175787508488, 0.03728056326508522, 0.15727737545967102, 0.2671155035495758, 0.4811397194862366, 0.07300050556659698, 0.11945537477731705, 0.0016591023886576295, 0.028204740956425667, 0.028204740956425667, 0.0016591023886576295, 0.9950789213180542, 0.9847102165222168, 0.9873255491256714, 0.6989970207214355, 0.03202211484313011, 0.05672489106655121, 0.162855327129364, 0.04117128998041153, 0.007319340482354164, 0.9884721040725708, 0.06422802060842514, 0.21195246279239655, 0.13452202081680298, 0.0392504557967186, 0.03389812260866165, 0.21516387164592743, 0.004638690501451492, 0.08028502762317657, 0.05958933010697365, 0.15628817677497864, 0.9883522391319275, 0.06661675125360489, 0.1288508176803589, 0.04733295366168022, 0.05522177740931511, 0.07625864446163177, 0.46631723642349243, 0.10167819261550903, 0.01840725913643837, 0.03506144508719444, 0.005259216763079166, 0.02062024548649788, 0.6438098549842834, 0.036658212542533875, 0.04696833714842796, 0.002291138283908367, 0.09508223831653595, 0.12028475850820541, 0.03436707332730293, 0.11559871584177017, 0.13735847175121307, 0.06935922801494598, 0.023119742050766945, 0.10471883416175842, 0.006799924187362194, 0.36039599776268005, 0.18359795212745667, 0.20972642302513123, 0.10746312886476517, 0.0017332762945443392, 0.5095832347869873, 0.07279760390520096, 0.025999143719673157, 0.07106432318687439, 0.00272360653616488, 0.8361472487449646, 0.1579691767692566, 0.9963184595108032, 0.0015103035839274526, 0.007551517803221941, 0.9900040030479431, 0.005705634132027626, 0.9927803874015808, 0.991159975528717, 0.9825920462608337, 0.9944148659706116, 0.9851043820381165, 0.9925113916397095, 0.9770563840866089, 0.9896501302719116, 0.0016176666831597686, 0.08047891408205032, 0.002426499966531992, 0.13952374458312988, 0.003639749949797988, 0.7020673155784607, 0.052574168890714645, 0.0133457500487566, 0.004044166766107082, 0.9955328106880188, 0.9931302070617676, 0.1333567202091217, 0.22975605726242065, 0.07520698755979538, 0.021967677399516106, 0.03644049912691116, 0.1581672728061676, 0.062026381492614746, 0.06461081653833389, 0.046261344105005264, 0.17238165438175201, 0.06819899380207062, 0.015344773419201374, 0.0034099495969712734, 0.008524874225258827, 0.2557462155818939, 0.008524874225258827, 0.40748897194862366, 0.008524874225258827, 0.22335170209407806, 0.07551711052656174, 0.0027969300281256437, 0.0027969300281256437, 0.9173930883407593, 0.9919129014015198, 0.9885598421096802, 0.9843389391899109, 0.0068356869742274284, 0.07471118122339249, 0.9214379191398621, 0.9956578016281128, 0.9956450462341309, 0.18071706593036652, 0.2434810847043991, 0.020199911668896675, 0.28784874081611633, 0.13671012222766876, 0.04761407896876335, 0.0018035635584965348, 0.016232071444392204, 0.018035635352134705, 0.04797479137778282, 0.022130869328975677, 0.12336782366037369, 0.22790086269378662, 0.13231433928012848, 0.10312043130397797, 0.09040695428848267, 0.11112521588802338, 0.044732607901096344, 0.09464477747678757, 0.05038304254412651, 0.9758940935134888, 0.9923977255821228, 0.0347319059073925, 0.37091055512428284, 0.30537864565849304, 0.0006553190178237855, 0.015727655962109566, 0.030799992382526398, 0.11861273646354675, 0.12254465371370316, 0.9940056800842285, 0.9792022705078125, 0.019326360896229744, 0.3192889988422394, 0.11538039147853851, 0.03776085376739502, 0.005873910617083311, 0.102373868227005, 0.14139342308044434, 0.04699128493666649, 0.0599978007376194, 0.0658717155456543, 0.10489126294851303, 0.0304255373775959, 0.1696808785200119, 0.13574470579624176, 0.12521278858184814, 0.0035106390714645386, 0.01521276868879795, 0.029255324974656105, 0.2890426218509674, 0.07723405957221985, 0.1240425780415535, 0.994909942150116, 0.9716210961341858, 0.9833059906959534, 0.9784989356994629, 0.0592961385846138, 0.05490383133292198, 0.0999249741435051, 0.7774382829666138, 0.007686536759138107, 0.9830676317214966, 0.0016983967507258058, 0.07982464879751205, 0.9035470485687256, 0.010190380737185478, 0.0016983967507258058, 0.16863501071929932, 0.2439136803150177, 0.09200725704431534, 0.06502565741539001, 0.033727001398801804, 0.21882078051567078, 0.021585281938314438, 0.053963202983140945, 0.04209129884839058, 0.06016897037625313, 0.9854044914245605, 0.9745095372200012, 0.9791399240493774, 0.09374547004699707, 0.11230893433094025, 0.3090816140174866, 0.1763528734445572, 0.013922594487667084, 0.19955718517303467, 0.05012134090065956, 0.0009281729580834508, 0.03434240072965622, 0.010209903120994568, 0.9744962453842163, 0.01989194005727768, 0.11139485985040665, 0.1014488935470581, 0.11139485985040665, 0.6544448137283325, 0.14540335536003113, 0.0029080670792609453, 0.03198873624205589, 0.008724200539290905, 0.008724200539290905, 0.12504687905311584, 0.6775795817375183, 0.1014021784067154, 0.8739901781082153, 0.019314700737595558, 0.0048286751843988895, 0.8360193967819214, 0.012477901764214039, 0.1447436511516571, 0.0024955803528428078, 0.0049911607056856155, 0.9930145144462585, 0.988635241985321, 0.23289132118225098, 0.2175457626581192, 0.1087728813290596, 0.04964737594127655, 0.04377995803952217, 0.034753162413835526, 0.032496463507413864, 0.09794072806835175, 0.14488007128238678, 0.03746119886636734, 0.9904741048812866, 0.9921461343765259, 0.9892069697380066], \"Term\": [\"aa\", \"aa\", \"aa\", \"aa\", \"aa\", \"ab\", \"aber\", \"abuse\", \"account\", \"account\", \"account\", \"account\", \"account\", \"account\", \"account\", \"account\", \"accountability\", \"ad\", \"ad\", \"ad\", \"ad\", \"ad\", \"add_vegan\", \"address\", \"address\", \"address\", \"address\", \"address\", \"address\", \"address\", \"admiral_club\", \"admiral_club\", \"advent_calendar\", \"advent_calendar\", \"advisor\", \"afraid\", \"agent\", \"agent\", \"agent\", \"agent\", \"agent\", \"ai\", \"air\", \"air\", \"air\", \"air\", \"air\", \"air\", \"air\", \"air\", \"air_experience\", \"airbnb\", \"airbnb\", \"airbnb\", \"airbnb\", \"airbnb\", \"airline\", \"airline\", \"airline\", \"airline\", \"airline\", \"airline\", \"airport\", \"airport\", \"airport\", \"airport\", \"airtel\", \"airtel\", \"airtel\", \"amaze_customer\", \"amazon\", \"amazon\", \"amazon\", \"amazon\", \"amazon\", \"amazon\", \"amazon\", \"amazon\", \"amazon\", \"amazon\", \"amazon_exclusive\", \"amazon_order\", \"amazon_sell\", \"amzl\", \"amzl\", \"amzl\", \"android\", \"android\", \"anewview_rybjwize\", \"answer\", \"answer\", \"answer\", \"answer\", \"answer\", \"answer\", \"answer\", \"answer_phone\", \"anytime\", \"anyways\", \"app\", \"app\", \"app\", \"app\", \"app\", \"app\", \"app\", \"app\", \"app\", \"app\", \"apple\", \"apple\", \"apple\", \"apple\", \"apple_io\", \"apple_iphone\", \"applepay\", \"apps\", \"apps\", \"apps\", \"appt\", \"area\", \"area\", \"area\", \"area\", \"area\", \"area\", \"article\", \"ask\", \"ask\", \"ask\", \"ask\", \"ask\", \"ask\", \"ask\", \"ask\", \"ask\", \"ask\", \"assistance\", \"assistance\", \"assistance\", \"assistance\", \"assistance\", \"auch\", \"auf\", \"australia\", \"autocorrecting\", \"avec\", \"avgeek\", \"avgeek\", \"awful_customer\", \"aws\", \"aws\", \"aztechhelp\", \"aztechhelp\", \"azure\", \"azure\", \"azure\", \"bad\", \"bad\", \"bad\", \"bad\", \"bad\", \"bad\", \"bad\", \"bad\", \"bad\", \"bad\", \"bad_customer\", \"bad_customer\", \"bad_customer\", \"bad_customer\", \"bad_service\", \"bad_service\", \"bad_service\", \"bad_service\", \"bad_service\", \"badcustomerservice\", \"badcustomerservice\", \"badcustomerservice\", \"badcustomerservice\", \"badcustomerservice\", \"badcustomerservice\", \"badcustomerservice\", \"bag\", \"bag\", \"bag\", \"bag\", \"bag\", \"bag\", \"bag\", \"bank\", \"bank\", \"bank\", \"bank\", \"bank\", \"bank\", \"bank\", \"bank\", \"battery\", \"battery\", \"battery_drain\", \"battery_life\", \"bean\", \"bean\", \"beautiful\", \"beautiful\", \"beautiful\", \"beautiful\", \"beautiful\", \"beef\", \"bei\", \"best\", \"best\", \"best\", \"best\", \"best\", \"best\", \"best\", \"best\", \"best\", \"big\", \"big\", \"big\", \"big\", \"big\", \"big\", \"big\", \"big\", \"big\", \"big\", \"bigmac_binge\", \"birthday_fun\", \"black_ink\", \"blackfriday\", \"blackfriday\", \"blackfriday\", \"blackfriday\", \"blackfriday\", \"blackfriday\", \"blackfriday\", \"blind\", \"blow\", \"blow\", \"blow\", \"bluetooth\", \"bluetooth\", \"board\", \"board\", \"board\", \"board\", \"board\", \"board\", \"boorito\", \"booster\", \"bowl\", \"bowl\", \"bowl\", \"bowl\", \"box\", \"box\", \"box\", \"box\", \"box\", \"box\", \"box\", \"box\", \"box\", \"box\", \"brightness\", \"bring\", \"bring\", \"bring\", \"bring\", \"bring\", \"bring\", \"bring\", \"bring\", \"bringbackchorizo\", \"britishairways\", \"britishairways\", \"britishairways\", \"buffalo\", \"buffer\", \"buffer\", \"buffering\", \"bug\", \"bug\", \"buggy\", \"bullshit\", \"bullshit\", \"burrito\", \"burrito\", \"burrito\", \"burrito\", \"burrito_bowl\", \"business\", \"business\", \"business\", \"business\", \"business\", \"business\", \"business\", \"business\", \"business\", \"buttermilkcrispytenders\", \"buy\", \"buy\", \"buy\", \"buy\", \"buy\", \"buy\", \"buy\", \"buy\", \"buy\", \"cable\", \"cable\", \"cable\", \"calendar\", \"callofdutywwii\", \"callofdutywwii\", \"cancel\", \"cancel\", \"cancel\", \"cancel\", \"cancel\", \"cancel\", \"cancel\", \"cancel\", \"cancel\", \"cancel\", \"cancel_ride\", \"cancellation\", \"cancellation\", \"cancellation\", \"cancellation\", \"car\", \"car\", \"car\", \"car\", \"car\", \"car\", \"car\", \"car\", \"card\", \"card\", \"card\", \"card\", \"card\", \"card\", \"card\", \"card\", \"card\", \"career\", \"carrier\", \"carrier\", \"carrier\", \"carrier\", \"carrier\", \"carrot\", \"case\", \"case\", \"case\", \"case\", \"case\", \"case\", \"case\", \"ce\", \"chair\", \"change\", \"change\", \"change\", \"change\", \"change\", \"change\", \"change\", \"change\", \"change\", \"change\", \"charge\", \"charge\", \"charge\", \"charge\", \"charge\", \"charge\", \"charge\", \"charge\", \"charge_ride\", \"chat\", \"chat\", \"chat\", \"chat\", \"chat\", \"chat\", \"chat\", \"che\", \"che\", \"check\", \"check\", \"check\", \"check\", \"check\", \"check\", \"check\", \"check\", \"check\", \"check\", \"check_bag\", \"check_bag\", \"cheese\", \"cheese\", \"cheese\", \"chez\", \"chicken\", \"chip\", \"chip\", \"chip\", \"chipotle\", \"chipotle\", \"chipotle\", \"chipotle\", \"chipotle\", \"chipotle\", \"chorizo\", \"christmas\", \"christmas\", \"christmas\", \"christmas\", \"christmas\", \"christmas\", \"christmas\", \"christmas\", \"christmas\", \"christmas_advert\", \"christmas_advert\", \"citi\", \"citi\", \"citi\", \"citibank\", \"citibank\", \"citibank\", \"class\", \"class\", \"class\", \"class\", \"class\", \"class\", \"clt\", \"clt\", \"club_flight\", \"clue\", \"clue\", \"cod\", \"cod\", \"cod\", \"cod\", \"code\", \"code\", \"code\", \"code\", \"code\", \"code\", \"code\", \"code\", \"code\", \"code\", \"codwwii\", \"codwwii\", \"codwwii\", \"cold\", \"cold\", \"cold\", \"cold\", \"cold\", \"cold\", \"cold\", \"cold\", \"colis\", \"comcast\", \"comcast\", \"comcast\", \"comcast\", \"comcast\", \"comcast\", \"comcastcares\", \"comcastoutage\", \"comcastsucks\", \"comcastsucks\", \"comcastsucks\", \"come\", \"come\", \"come\", \"come\", \"come\", \"come\", \"come\", \"come\", \"come\", \"comedy\", \"company\", \"company\", \"company\", \"company\", \"company\", \"company\", \"company\", \"company\", \"company\", \"company\", \"connection\", \"connection\", \"connection\", \"connection\", \"connection\", \"connection\", \"connection\", \"contact\", \"contact\", \"contact\", \"contact\", \"contact\", \"contact\", \"contact\", \"contact\", \"cotton\", \"country\", \"country\", \"country\", \"country\", \"country\", \"coverage\", \"crappy\", \"crash\", \"creamer_admiral\", \"creamer_american\", \"credit_card\", \"credit_card\", \"credit_card\", \"credit_card\", \"credit_card\", \"credit_card\", \"credit_card\", \"credit_card\", \"credit_card\", \"crew\", \"crew\", \"crew\", \"crisp\", \"crisp\", \"critical\", \"cuando\", \"curry\", \"customer\", \"customer\", \"customer\", \"customer\", \"customer\", \"customer\", \"customer\", \"customer\", \"customer\", \"customer\", \"customer_care\", \"customer_care\", \"customer_care\", \"customer_care\", \"customer_service\", \"customer_service\", \"customer_service\", \"customer_service\", \"customer_service\", \"customer_service\", \"customer_service\", \"customer_service\", \"customerservice\", \"customerservice\", \"customerservice\", \"customerservice\", \"customerservice\", \"customerservice\", \"customerservice\", \"custserv\", \"da\", \"da\", \"da\", \"da\", \"dallas\", \"dallas\", \"dallas\", \"dallas\", \"das\", \"data\", \"data\", \"data\", \"data\", \"data\", \"data\", \"data\", \"data\", \"data\", \"database\", \"dc\", \"dc\", \"dc\", \"dca\", \"deal\", \"deal\", \"deal\", \"deal\", \"deal\", \"deal\", \"deal\", \"deal\", \"dear\", \"dear\", \"dear\", \"dear\", \"dear\", \"dear\", \"dear\", \"dear\", \"dear\", \"dear_amazon\", \"debate\", \"debit_card\", \"debit_card\", \"debit_card\", \"delay\", \"delay\", \"delay\", \"delay\", \"delay\", \"delay\", \"delay\", \"delay\", \"delay\", \"delay\", \"deliver\", \"deliver\", \"deliver\", \"deliver\", \"deliver\", \"deliver\", \"deliver\", \"deliver\", \"deliver\", \"deliver_pm\", \"delivery\", \"delivery\", \"delivery\", \"delivery\", \"delivery\", \"delivery\", \"delivery\", \"delivery\", \"delivery\", \"delivery\", \"delivery_late\", \"delivery_service\", \"delivery_service\", \"dell\", \"dell\", \"dell\", \"dell\", \"dell\", \"demand\", \"demand\", \"demand\", \"demand\", \"demand\", \"demand\", \"demand\", \"deny\", \"deny\", \"deny\", \"deny\", \"department\", \"department\", \"department\", \"department\", \"deposit\", \"deposit\", \"deposit\", \"dept\", \"dept\", \"depuis\", \"der\", \"destination\", \"destination\", \"destination\", \"di\", \"di\", \"didn\", \"didn\", \"didn\", \"didn\", \"didn\", \"didn\", \"didn\", \"didn\", \"didn\", \"didn\", \"didn_want\", \"die\", \"die\", \"die\", \"die\", \"dis\", \"dis\", \"dis\", \"disappoint\", \"disappoint\", \"disappoint\", \"disappoint\", \"disappoint\", \"disappoint\", \"disappoint\", \"disappoint\", \"disappoint\", \"disappointed\", \"disappointed\", \"disappointed\", \"disappointed\", \"disappointed\", \"disappointed\", \"disappointed\", \"disappointed\", \"doesn_make\", \"don\", \"don\", \"don\", \"don\", \"don\", \"don\", \"don\", \"don\", \"don\", \"don\", \"driver\", \"driver\", \"driver\", \"driver\", \"driver\", \"driver\", \"driver\", \"driver\", \"driver_cancel\", \"dropbox\", \"dropbox\", \"du\", \"early_flight\", \"eat\", \"eat\", \"eat\", \"eat\", \"eat\", \"eat\", \"eat\", \"eat\", \"ebay\", \"ebay\", \"edition\", \"edition\", \"effect\", \"effect\", \"effect\", \"ein\", \"el\", \"el\", \"el\", \"emergency\", \"en\", \"en\", \"en\", \"en\", \"en\", \"entrega\", \"ep\", \"episode\", \"episode\", \"episode\", \"error\", \"error\", \"error\", \"error\", \"error\", \"error\", \"error\", \"error\", \"est\", \"est\", \"et\", \"everybody\", \"everybody\", \"faceid\", \"fail\", \"fail\", \"fail\", \"fail\", \"fail\", \"fail\", \"fail\", \"fail\", \"fail\", \"fail\", \"faire\", \"fait\", \"fake_bose\", \"fake_product\", \"fakenews\", \"falseadvertising\", \"fargo_bank\", \"fax\", \"fedex\", \"fedex\", \"field\", \"fight\", \"fight\", \"fight\", \"fight\", \"fight\", \"fight\", \"fix\", \"fix\", \"fix\", \"fix\", \"fix\", \"fix\", \"fix\", \"fix\", \"fix_apple\", \"flier\", \"flight\", \"flight\", \"flight\", \"flight\", \"flight\", \"flight\", \"flight\", \"flight\", \"flight\", \"flight_crew\", \"flight_crew\", \"flight_crew\", \"flight_delay\", \"flight_delay\", \"flight_delay\", \"flight_delay\", \"flight_delay\", \"fll\", \"flt\", \"flt\", \"fly\", \"fly\", \"fly\", \"fly\", \"fly\", \"fly\", \"fly\", \"fois\", \"food\", \"food\", \"food\", \"food\", \"food\", \"food\", \"food\", \"food\", \"food\", \"forget\", \"forget\", \"forget\", \"forget\", \"forget\", \"forget\", \"fork\", \"forth\", \"fraud\", \"fraud\", \"fraud\", \"fraud\", \"fraud\", \"fraud\", \"fraud\", \"fraud\", \"fraudulent\", \"freeze\", \"freeze\", \"freeze\", \"fruit\", \"fruit\", \"fruit\", \"fuming\", \"game\", \"game\", \"game\", \"game\", \"game\", \"game\", \"game\", \"game\", \"gate\", \"gate\", \"gate\", \"gate\", \"gate\", \"gate\", \"gate\", \"gb\", \"gb\", \"gb\", \"gb\", \"gb\", \"gin\", \"girl\", \"girl\", \"girl\", \"girl\", \"girl\", \"girl\", \"girl\", \"girlfriend\", \"glitch\", \"glitch\", \"glitch\", \"glitch\", \"glitch\", \"glutenfree\", \"glutenfree\", \"glutenfree\", \"glutenfree\", \"gold_member\", \"good\", \"good\", \"good\", \"good\", \"good\", \"good\", \"good\", \"good\", \"good\", \"good\", \"great\", \"great\", \"great\", \"great\", \"great\", \"great\", \"great\", \"great\", \"great\", \"great\", \"great_customer\", \"guac\", \"guac\", \"guide\", \"guy\", \"guy\", \"guy\", \"guy\", \"guy\", \"guy\", \"guy\", \"guy\", \"guy\", \"guy\", \"happen\", \"happen\", \"happen\", \"happen\", \"happen\", \"happen\", \"happen\", \"happen\", \"happen\", \"happyhalloween\", \"happyhalloween\", \"happyhalloween\", \"hate\", \"hate\", \"hate\", \"hate\", \"hate\", \"haven\", \"haven\", \"haven\", \"haven\", \"haven\", \"haven\", \"haven\", \"haven\", \"haven\", \"head\", \"head\", \"head\", \"head\", \"head\", \"head\", \"head\", \"head\", \"hear\", \"hear\", \"hear\", \"hear\", \"hear\", \"hear\", \"hear\", \"hear\", \"hear\", \"help\", \"help\", \"help\", \"help\", \"help\", \"help\", \"help\", \"help\", \"help\", \"help\", \"high_sierra\", \"hmm\", \"ho\", \"ho\", \"home\", \"home\", \"home\", \"home\", \"home\", \"home\", \"home\", \"home\", \"host\", \"host\", \"hour\", \"hour\", \"hour\", \"hour\", \"hour\", \"hour\", \"hour\", \"hour\", \"hour\", \"hour\", \"hour_half\", \"hour_wait\", \"hpaioi\", \"hpcswus_hpprnt\", \"hpcswus_hpprnt\", \"hpcswus_hpprnt\", \"hpcswus_hpprnt\", \"hppsdr_ijchelp\", \"hppsdr_ijkhelp\", \"hppsdr_ijkhelp\", \"hppsdr_ljhelp\", \"hpsa_hpprnt\", \"hug\", \"hulu\", \"hulu\", \"hulu\", \"hulu\", \"hulu\", \"ich\", \"idea\", \"idea\", \"idea\", \"idea\", \"idea\", \"idea\", \"idea\", \"ideacellular\", \"iflyalaska\", \"iflyalaska\", \"iflyalaska\", \"iflyalaska\", \"ihr\", \"ijkhelp\", \"ijkhelp\", \"ijkhelp\", \"il\", \"il\", \"incident\", \"incident\", \"increase\", \"increase\", \"increase\", \"india\", \"india\", \"india\", \"india\", \"indian\", \"indian\", \"indicate\", \"inflight\", \"ingredient\", \"ingredient\", \"ink\", \"ink\", \"ink\", \"international_flight\", \"internet\", \"internet\", \"internet\", \"internet\", \"internet\", \"internet\", \"internet\", \"internet\", \"internet_connection\", \"internet_service\", \"internet_service\", \"internet_service\", \"internet_speed\", \"internet_speed\", \"internet_speed\", \"internet_work\", \"introduce\", \"introduce\", \"io\", \"io\", \"io_update\", \"ios\", \"ios_update\", \"iosupdate\", \"iphone\", \"iphone\", \"iphone\", \"iphone\", \"iphone_plus\", \"iphone_update\", \"iphoneplus\", \"iphoneplus\", \"iphoneplus\", \"iphones\", \"iphones\", \"iphonex\", \"iphonex\", \"iphonex\", \"iphonex\", \"iphonex\", \"iphonex\", \"iphonex\", \"irma\", \"issue\", \"issue\", \"issue\", \"issue\", \"issue\", \"issue\", \"issue\", \"issue\", \"issue\", \"ist\", \"je\", \"jetblue\", \"jetblue\", \"jfk\", \"jour\", \"just\", \"just\", \"just\", \"just\", \"just\", \"just\", \"just\", \"just\", \"just\", \"just\", \"just_ask\", \"just_don\", \"just_like\", \"just_like\", \"justify\", \"kann\", \"kevin_katie\", \"kevinandkatie\", \"kevinandkatie\", \"keyboard\", \"kinda\", \"kinda\", \"kinda\", \"kinda\", \"km\", \"know\", \"know\", \"know\", \"know\", \"know\", \"know\", \"know\", \"know\", \"know\", \"know\", \"known_issue\", \"la\", \"la\", \"la\", \"la\", \"lag\", \"lag\", \"lag\", \"land\", \"land\", \"land\", \"land\", \"language\", \"laptop\", \"laptop\", \"laptop\", \"laptop\", \"laptop\", \"laptop\", \"laptop\", \"late\", \"late\", \"late\", \"late\", \"late\", \"late\", \"late\", \"late\", \"late\", \"late\", \"late_update\", \"law\", \"law\", \"law\", \"le\", \"leaderboards\", \"leave\", \"leave\", \"leave\", \"leave\", \"leave\", \"leave\", \"leave\", \"leave\", \"leave\", \"leave\", \"les\", \"lgqappquiz\", \"lhr\", \"lhr\", \"lhr\", \"lie\", \"lie\", \"lie\", \"lie\", \"lie\", \"lie\", \"lie\", \"like\", \"like\", \"like\", \"like\", \"like\", \"like\", \"like\", \"like\", \"like\", \"like\", \"link\", \"link\", \"link\", \"link\", \"link\", \"link\", \"little\", \"little\", \"little\", \"little\", \"little\", \"little\", \"little\", \"little\", \"little\", \"livr\", \"livraison\", \"local_store\", \"local_store\", \"lol\", \"lol\", \"lol\", \"lol\", \"lol\", \"lol\", \"lol\", \"lol\", \"lol\", \"london\", \"london\", \"london\", \"london\", \"london\", \"look\", \"look\", \"look\", \"look\", \"look\", \"look\", \"look\", \"look\", \"look\", \"look\", \"look_like\", \"look_like\", \"look_like\", \"look_like\", \"look_like\", \"look_like\", \"look_like\", \"los\", \"los\", \"loss\", \"loss\", \"loss\", \"lot\", \"lot\", \"lot\", \"lot\", \"lot\", \"lot\", \"lot\", \"lot\", \"love\", \"love\", \"love\", \"love\", \"love\", \"love\", \"love\", \"love\", \"love\", \"love\", \"love_soy\", \"luv\", \"luv\", \"luv\", \"lyft\", \"lyft\", \"lyft\", \"lyft\", \"lyft\", \"lyft\", \"lyft\", \"ma\", \"ma\", \"ma\", \"ma\", \"ma\", \"mac\", \"mac\", \"mac\", \"macos\", \"macos\", \"macos_high\", \"mail\", \"mail\", \"mail\", \"mail\", \"mail\", \"mail\", \"mail\", \"make\", \"make\", \"make\", \"make\", \"make\", \"make\", \"make\", \"make\", \"make\", \"make\", \"make_bignightin\", \"make_pay\", \"marvelsrunaways\", \"mb\", \"mb\", \"mb\", \"mbps\", \"mbps\", \"mbps\", \"mbps\", \"mbps\", \"mcrib\", \"mcrib\", \"meat\", \"meat\", \"meat\", \"merci\", \"message_send\", \"mia\", \"mia\", \"miami\", \"miami\", \"milk\", \"mince_pie\", \"mince_pie\", \"mir\", \"mistake\", \"mistake\", \"mistake\", \"mistake\", \"mistake\", \"mistake\", \"mit\", \"mobile\", \"mobile\", \"mobile\", \"mobile\", \"mobile\", \"mobile\", \"mobile\", \"mobile\", \"mobile\", \"mobile_care\", \"mobile_care\", \"mobile_care\", \"mobile_care\", \"mobile_care\", \"mobile_care\", \"mobile_carexi\", \"mobile_carexv\", \"modem\", \"modem\", \"modem\", \"modem\", \"money\", \"money\", \"money\", \"money\", \"money\", \"money\", \"money\", \"money\", \"monster\", \"morning\", \"morning\", \"morning\", \"morning\", \"morning\", \"morning\", \"morning\", \"morning\", \"morning\", \"morning\", \"movie\", \"movie\", \"movie\", \"movie\", \"movie\", \"movie\", \"mum\", \"music\", \"music\", \"music\", \"music\", \"navigate\", \"ne\", \"ne\", \"ne\", \"need\", \"need\", \"need\", \"need\", \"need\", \"need\", \"need\", \"need\", \"need\", \"need\", \"neighbor\", \"neighbor\", \"new\", \"new\", \"new\", \"new\", \"new\", \"new\", \"new\", \"new\", \"new\", \"new\", \"new_iphone\", \"new_oneplus\", \"new_update\", \"nicht\", \"niet\", \"non\", \"non\", \"non\", \"non\", \"non\", \"non\", \"norton\", \"number\", \"number\", \"number\", \"number\", \"number\", \"number\", \"number\", \"number\", \"nur\", \"occur\", \"occur\", \"oder\", \"oder\", \"offer\", \"offer\", \"offer\", \"offer\", \"offer\", \"offer\", \"offer\", \"omaha\", \"onboard\", \"oneplustappquiz\", \"option\", \"option\", \"option\", \"option\", \"option\", \"option\", \"option\", \"order\", \"order\", \"order\", \"order\", \"order\", \"order\", \"order\", \"order\", \"order\", \"order\", \"ordered\", \"orlando\", \"orlando\", \"orlando\", \"outage\", \"outage\", \"outage\", \"outage\", \"outage\", \"pa\", \"pack\", \"pack\", \"pack\", \"pack\", \"pack\", \"pack\", \"pack\", \"package\", \"package\", \"package\", \"package\", \"package\", \"package\", \"package\", \"package\", \"package\", \"package\", \"packaging\", \"packaging\", \"packaging\", \"packaging\", \"packaging\", \"packaging\", \"pant\", \"par\", \"par\", \"para\", \"para\", \"para\", \"party_experience\", \"passenger\", \"passenger\", \"passenger\", \"passenger\", \"passenger\", \"passenger\", \"passenger\", \"password\", \"password\", \"password\", \"pause\", \"pay\", \"pay\", \"pay\", \"pay\", \"pay\", \"pay\", \"pay\", \"pay\", \"pay\", \"pay\", \"pay_extra\", \"pay_extra\", \"pay_extra\", \"pay_extra\", \"pay_extra\", \"payment\", \"payment\", \"payment\", \"payment\", \"payment\", \"payment\", \"payment\", \"payment\", \"paypal\", \"paypal\", \"peak\", \"people\", \"people\", \"people\", \"people\", \"people\", \"people\", \"people\", \"people\", \"people\", \"people\", \"pero\", \"person\", \"person\", \"person\", \"person\", \"person\", \"person\", \"person\", \"person\", \"person\", \"pet\", \"petrol\", \"phone\", \"phone\", \"phone\", \"phone\", \"phone\", \"phone\", \"phone\", \"phone\", \"phone\", \"phone_number\", \"phone_support\", \"physical\", \"pick\", \"pick\", \"pick\", \"pick\", \"pick\", \"pick\", \"pick\", \"pick\", \"pilot\", \"pilot\", \"pilot\", \"pilot\", \"pizza\", \"pizza\", \"pizza\", \"pizza\", \"pizza\", \"pizza\", \"plane\", \"plane\", \"plane\", \"plane\", \"play\", \"play\", \"play\", \"play\", \"play\", \"play\", \"play\", \"play\", \"play\", \"playlist\", \"playlist\", \"playlist\", \"plus\", \"plus\", \"plus\", \"plus\", \"plus\", \"plus\", \"plus\", \"plus\", \"plus\", \"point\", \"point\", \"point\", \"point\", \"point\", \"point\", \"point\", \"point\", \"point\", \"point\", \"poorcustomerservice\", \"poorcustomerservice\", \"poorcustomerservice\", \"poorcustomerservice\", \"poorcustomerservice\", \"poorcustomerservice\", \"poorcustomerservice\", \"poorservice\", \"poorservice\", \"poorservice\", \"poorservice\", \"poorservice\", \"por\", \"por\", \"postmates\", \"pour\", \"pra\", \"pre_order\", \"pre_order\", \"pre_order\", \"pretty_good\", \"print\", \"print\", \"print\", \"print\", \"print_black\", \"print_job\", \"printer\", \"printer\", \"printer\", \"printing\", \"problem\", \"problem\", \"problem\", \"problem\", \"problem\", \"problem\", \"problem\", \"problem\", \"problem\", \"problem\", \"product_deliver\", \"promise\", \"promise\", \"promise\", \"promise\", \"promise\", \"promise\", \"promise\", \"promo\", \"promo\", \"promo\", \"promo\", \"promo\", \"promotion\", \"promotion\", \"provide\", \"provide\", \"provide\", \"provide\", \"provide\", \"provide\", \"provide\", \"provide\", \"purchase\", \"purchase\", \"purchase\", \"purchase\", \"purchase\", \"purchase\", \"purchase\", \"purchase\", \"purchase\", \"purchase\", \"que\", \"que\", \"que\", \"que\", \"queso\", \"queso\", \"question_mark\", \"qui\", \"railway\", \"randomly\", \"randomly\", \"randomly\", \"randomly\", \"rapidrewards_celebrate\", \"raw\", \"raw\", \"rd_party\", \"real\", \"real\", \"real\", \"real\", \"real\", \"real\", \"real\", \"really\", \"really\", \"really\", \"really\", \"really\", \"really\", \"really\", \"really\", \"really\", \"really\", \"receive\", \"receive\", \"receive\", \"receive\", \"receive\", \"receive\", \"receive\", \"receive\", \"recycle\", \"recycle\", \"ref\", \"refund\", \"refund\", \"refund\", \"refund\", \"refund\", \"refund\", \"refund\", \"refund\", \"refund\", \"refund_money\", \"region\", \"region\", \"relate\", \"relate\", \"reorder\", \"reply\", \"reply\", \"reply\", \"reply\", \"reply\", \"reply\", \"reply\", \"reply\", \"resist\", \"resolution\", \"resolution\", \"resolution\", \"resolution\", \"resolution\", \"resolution\", \"respond\", \"respond\", \"respond\", \"respond\", \"respond\", \"respond\", \"respond\", \"response\", \"response\", \"response\", \"response\", \"response\", \"response\", \"response\", \"response\", \"response\", \"response\", \"ride\", \"ride\", \"ride\", \"ride\", \"ride\", \"right\", \"right\", \"right\", \"right\", \"right\", \"right\", \"right\", \"right\", \"right\", \"right\", \"roast\", \"root\", \"root\", \"rude\", \"rude\", \"rude\", \"rude\", \"salad\", \"salad\", \"sandwich\", \"sandwich\", \"sandwich\", \"sandwich\", \"sandwich\", \"sandwich\", \"sandwich\", \"sc\", \"scan\", \"scan\", \"scan\", \"scan\", \"screen\", \"screen\", \"screen\", \"screen\", \"screen\", \"screen\", \"screen\", \"screw\", \"screw\", \"screw\", \"screw\", \"screw\", \"screw\", \"screw\", \"screw\", \"season\", \"season\", \"season\", \"seat\", \"seat\", \"seat\", \"seat\", \"seat\", \"seat\", \"selfie\", \"seller\", \"seller\", \"seller\", \"send\", \"send\", \"send\", \"send\", \"send\", \"send\", \"send\", \"send\", \"send\", \"send\", \"send_message\", \"server\", \"server\", \"server\", \"service\", \"service\", \"service\", \"service\", \"service\", \"service\", \"service\", \"service\", \"service\", \"service\", \"service_horrible\", \"servizio\", \"sfo\", \"sfo\", \"sfo\", \"ship\", \"ship\", \"ship\", \"ship\", \"ship\", \"ship\", \"ship\", \"ship\", \"ship\", \"shirt\", \"shirt\", \"sierra\", \"sign\", \"sign\", \"sign\", \"sign\", \"sign\", \"sign\", \"sign\", \"sign\", \"silver\", \"skyclub\", \"skyclub\", \"slice\", \"slow\", \"slow\", \"slow\", \"slow\", \"slow\", \"slow\", \"slow\", \"sm\", \"sm\", \"sm\", \"software\", \"software\", \"software\", \"software\", \"software\", \"song\", \"song\", \"song\", \"song\", \"song\", \"song\", \"southwest\", \"southwest\", \"southwest\", \"speed\", \"speed\", \"speed\", \"speed\", \"speed\", \"speed\", \"speed_test\", \"speed_test\", \"spicy\", \"sport\", \"sport\", \"sport\", \"spotify\", \"spotify\", \"spotify\", \"spotify\", \"spotify\", \"sprint\", \"sprint\", \"sprint\", \"sprint\", \"sprint\", \"sprint\", \"sprint\", \"staff\", \"staff\", \"staff\", \"staff\", \"staff\", \"staff\", \"staff\", \"staff\", \"staff\", \"state\", \"state\", \"state\", \"state\", \"state\", \"state\", \"state\", \"state\", \"stephanie\", \"stop_play\", \"store\", \"store\", \"store\", \"store\", \"store\", \"store\", \"store\", \"store\", \"store\", \"store\", \"story\", \"story\", \"story\", \"story\", \"story\", \"story\", \"story\", \"story\", \"strike\", \"strike\", \"subscription\", \"subscription\", \"subscription\", \"suck\", \"suck\", \"suck\", \"suck\", \"suck\", \"suck\", \"suck\", \"suck\", \"sunday\", \"sunday\", \"sunday\", \"sunday\", \"sunday\", \"sunday\", \"sunset\", \"support\", \"support\", \"support\", \"support\", \"support\", \"support\", \"support\", \"support\", \"support\", \"support\", \"sur\", \"surge\", \"sync\", \"taco\", \"taco\", \"taco\", \"tarmac\", \"taylorswiftnow\", \"tech\", \"tech\", \"tech\", \"tech\", \"tech\", \"tech\", \"tech\", \"tech\", \"tech\", \"tech_support\", \"tech_support\", \"tell\", \"tell\", \"tell\", \"tell\", \"tell\", \"tell\", \"tell\", \"tell\", \"tell\", \"tell\", \"tell_customer\", \"terminal\", \"terminal\", \"terrible\", \"terrible\", \"terrible\", \"terrible\", \"terrible\", \"terrible\", \"terrible\", \"terrible\", \"th_nov\", \"thank\", \"thank\", \"thank\", \"thank\", \"thank\", \"thank\", \"thank\", \"thank\", \"thank\", \"thank\", \"thank_help\", \"thanks\", \"thanks\", \"thanks\", \"thanks\", \"thanks\", \"thanks\", \"thanks\", \"thanks\", \"thanks\", \"thanks\", \"thanks_help\", \"thanks_help\", \"thanks_lot\", \"thanks_upgrade\", \"theft\", \"theft\", \"theft\", \"thing_happen\", \"think\", \"think\", \"think\", \"think\", \"think\", \"think\", \"think\", \"think\", \"think\", \"think\", \"throttle\", \"tiempo\", \"timewarner\", \"tmobile\", \"tmobile\", \"tmobile\", \"tmobile\", \"tmobile\", \"tmobile\", \"tmobiletuesdays\", \"tmobiletuesdays\", \"tmobiletuesdays\", \"today\", \"today\", \"today\", \"today\", \"today\", \"today\", \"today\", \"today\", \"today\", \"today\", \"tonight\", \"tonight\", \"tonight\", \"tonight\", \"tonight\", \"tonight\", \"tonight\", \"tonight\", \"track\", \"track\", \"track\", \"track\", \"track\", \"track\", \"train\", \"train\", \"train\", \"train\", \"train\", \"train\", \"train_delay\", \"train_late\", \"transaction\", \"travel\", \"travel\", \"travel\", \"travel\", \"travel\", \"travel\", \"travel\", \"travel\", \"treat\", \"treat\", \"treat\", \"treat\", \"treat\", \"treat\", \"treat\", \"treat\", \"trick\", \"trickortreat\", \"trickortweet\", \"trip\", \"trip\", \"trip\", \"trip\", \"trip\", \"trip\", \"trolley\", \"try\", \"try\", \"try\", \"try\", \"try\", \"try\", \"try\", \"try\", \"try\", \"try\", \"tugo\", \"turn\", \"turn\", \"turn\", \"turn\", \"turn\", \"turn\", \"turn\", \"turn\", \"turn\", \"turn\", \"tv\", \"tv\", \"tv\", \"tv\", \"tv\", \"tv\", \"tv\", \"tv\", \"tweet\", \"tweet\", \"tweet\", \"tweet\", \"tweet\", \"tweet\", \"tweet\", \"tweet\", \"twice\", \"twice\", \"twice\", \"twice\", \"twice\", \"twice\", \"twice\", \"type\", \"type\", \"type\", \"type_question\", \"uber\", \"uber\", \"uber\", \"uber_driver\", \"uber_driver\", \"uberpool\", \"ubersucks\", \"und\", \"understanding\", \"une\", \"unlimited_data\", \"unreliable\", \"update\", \"update\", \"update\", \"update\", \"update\", \"update\", \"update\", \"update\", \"update\", \"update_io\", \"update_ios\", \"use\", \"use\", \"use\", \"use\", \"use\", \"use\", \"use\", \"use\", \"use\", \"use\", \"useless\", \"useless\", \"useless\", \"useless\", \"useless\", \"useless\", \"useless\", \"useless\", \"useless\", \"vegan\", \"vegan\", \"vegan\", \"vegan\", \"verizonfios\", \"veteran\", \"vm\", \"vm\", \"voicemail\", \"voicemail\", \"von\", \"vous\", \"wait\", \"wait\", \"wait\", \"wait\", \"wait\", \"wait\", \"wait\", \"wait\", \"wait\", \"wait\", \"want\", \"want\", \"want\", \"want\", \"want\", \"want\", \"want\", \"want\", \"want\", \"want\", \"want_watch\", \"wash\", \"watch\", \"watch\", \"watch\", \"watch\", \"watch\", \"watch\", \"watch\", \"watch\", \"watch_mcdelivery\", \"waterloo\", \"waterloo\", \"way\", \"way\", \"way\", \"way\", \"way\", \"way\", \"way\", \"way\", \"way\", \"way\", \"website\", \"website\", \"website\", \"website\", \"website\", \"website\", \"website\", \"website\", \"website\", \"website\", \"welcome\", \"welldone\", \"whatajoke\", \"wieder\", \"wifi\", \"wifi\", \"wifi\", \"wifi\", \"wifi\", \"win_help\", \"window\", \"window\", \"window\", \"window\", \"window\", \"work\", \"work\", \"work\", \"work\", \"work\", \"work\", \"work\", \"work\", \"work\", \"work\", \"work_help\", \"world_series\", \"worstservice\", \"wrong\", \"wrong\", \"wrong\", \"wrong\", \"wrong\", \"wrong\", \"wrong\", \"wrong\", \"wrong\", \"wrong\", \"wwii\", \"xbox\", \"xbox\", \"xbox\", \"xbox\", \"xbox\", \"xboxhelp\", \"xboxhelp\", \"xboxhelp\", \"xboxhelp\", \"xboxhelp\", \"xboxhelp\", \"xboxhelp\", \"xboxonex\", \"xboxonex\", \"xboxonex\", \"xboxonex\", \"xfinity\", \"xfinity\", \"xfinity\", \"xfinity\", \"xfinity\", \"yahoomail\", \"yall\", \"year\", \"year\", \"year\", \"year\", \"year\", \"year\", \"year\", \"year\", \"year\", \"year\", \"yep\", \"zip\", \"zu\"]}, \"R\": 30, \"lambda.step\": 0.01, \"plot.opts\": {\"xlab\": \"PC1\", \"ylab\": \"PC2\"}, \"topic.order\": [1, 2, 3, 4, 5, 6, 7, 8, 9, 10]};\n",
       "\n",
       "function LDAvis_load_lib(url, callback){\n",
       "  var s = document.createElement('script');\n",
       "  s.src = url;\n",
       "  s.async = true;\n",
       "  s.onreadystatechange = s.onload = callback;\n",
       "  s.onerror = function(){console.warn(\"failed to load library \" + url);};\n",
       "  document.getElementsByTagName(\"head\")[0].appendChild(s);\n",
       "}\n",
       "\n",
       "if(typeof(LDAvis) !== \"undefined\"){\n",
       "   // already loaded: just create the visualization\n",
       "   !function(LDAvis){\n",
       "       new LDAvis(\"#\" + \"ldavis_el14552825013614688729573755296\", ldavis_el14552825013614688729573755296_data);\n",
       "   }(LDAvis);\n",
       "}else if(typeof define === \"function\" && define.amd){\n",
       "   // require.js is available: use it to load d3/LDAvis\n",
       "   require.config({paths: {d3: \"https://cdnjs.cloudflare.com/ajax/libs/d3/3.5.5/d3.min\"}});\n",
       "   require([\"d3\"], function(d3){\n",
       "      window.d3 = d3;\n",
       "      LDAvis_load_lib(\"https://cdn.rawgit.com/bmabey/pyLDAvis/files/ldavis.v1.0.0.js\", function(){\n",
       "        new LDAvis(\"#\" + \"ldavis_el14552825013614688729573755296\", ldavis_el14552825013614688729573755296_data);\n",
       "      });\n",
       "    });\n",
       "}else{\n",
       "    // require.js not available: dynamically load d3 & LDAvis\n",
       "    LDAvis_load_lib(\"https://cdnjs.cloudflare.com/ajax/libs/d3/3.5.5/d3.min.js\", function(){\n",
       "         LDAvis_load_lib(\"https://cdn.rawgit.com/bmabey/pyLDAvis/files/ldavis.v1.0.0.js\", function(){\n",
       "                 new LDAvis(\"#\" + \"ldavis_el14552825013614688729573755296\", ldavis_el14552825013614688729573755296_data);\n",
       "            })\n",
       "         });\n",
       "}\n",
       "</script>"
      ],
      "text/plain": [
       "<IPython.core.display.HTML object>"
      ]
     },
     "execution_count": 247,
     "metadata": {},
     "output_type": "execute_result"
    }
   ],
   "source": [
    "pyLDAvis.display(preparedData)"
   ]
  },
  {
   "cell_type": "code",
   "execution_count": 248,
   "metadata": {},
   "outputs": [],
   "source": [
    "pyLDAvis.save_json(preparedData, 'lda_model'+'.json')\n",
    "pyLDAvis.save_html(preparedData, 'lda_model'+'.html')"
   ]
  },
  {
   "cell_type": "code",
   "execution_count": 249,
   "metadata": {},
   "outputs": [
    {
     "data": {
      "text/plain": [
       "10"
      ]
     },
     "execution_count": 249,
     "metadata": {},
     "output_type": "execute_result"
    }
   ],
   "source": [
    "#Need to manually input\n",
    "topic_ids = np.arange(10)\n",
    "\n",
    "topic_names=['Flight','Mobile','misc','Cus_service/Negative','Uber/Foods','Iphone','Music/Spotify/Amazon','ecommerce/payment','thanks/Love','customer_service']\n",
    "            \n",
    "\n",
    "len(topic_names)"
   ]
  },
  {
   "cell_type": "code",
   "execution_count": 250,
   "metadata": {},
   "outputs": [],
   "source": [
    "def gettopntopics(row,n=1):\n",
    "    tops = sorted(row, key=lambda y:y[1], reverse = True)\n",
    "    return tops[:n]"
   ]
  },
  {
   "cell_type": "code",
   "execution_count": 253,
   "metadata": {},
   "outputs": [
    {
     "data": {
      "text/plain": [
       "143599"
      ]
     },
     "execution_count": 253,
     "metadata": {},
     "output_type": "execute_result"
    }
   ],
   "source": [
    "full_corpus = [mybigramdictionary.doc2bow(doc) for doc in train_ds_grp_clean.lemmatized]\n",
    "full_corpus_fitted = [gettopntopics(prob,3) for prob in ldamodel_ssym_alpha_multi_10_online[full_corpus]]\n",
    "\n",
    "\n",
    "\n",
    "len(full_corpus_fitted)"
   ]
  },
  {
   "cell_type": "code",
   "execution_count": 254,
   "metadata": {},
   "outputs": [
    {
     "name": "stderr",
     "output_type": "stream",
     "text": [
      "C:\\Users\\300067285\\Anaconda3\\lib\\site-packages\\ipykernel_launcher.py:1: SettingWithCopyWarning: \n",
      "A value is trying to be set on a copy of a slice from a DataFrame.\n",
      "Try using .loc[row_indexer,col_indexer] = value instead\n",
      "\n",
      "See the caveats in the documentation: https://pandas.pydata.org/pandas-docs/stable/user_guide/indexing.html#returning-a-view-versus-a-copy\n",
      "  \"\"\"Entry point for launching an IPython kernel.\n"
     ]
    },
    {
     "data": {
      "text/html": [
       "<div>\n",
       "<style scoped>\n",
       "    .dataframe tbody tr th:only-of-type {\n",
       "        vertical-align: middle;\n",
       "    }\n",
       "\n",
       "    .dataframe tbody tr th {\n",
       "        vertical-align: top;\n",
       "    }\n",
       "\n",
       "    .dataframe thead th {\n",
       "        text-align: right;\n",
       "    }\n",
       "</style>\n",
       "<table border=\"1\" class=\"dataframe\">\n",
       "  <thead>\n",
       "    <tr style=\"text-align: right;\">\n",
       "      <th></th>\n",
       "      <th>tweet_id</th>\n",
       "      <th>author_id</th>\n",
       "      <th>inbound</th>\n",
       "      <th>created_at</th>\n",
       "      <th>text</th>\n",
       "      <th>response_tweet_id</th>\n",
       "      <th>in_response_to_tweet_id</th>\n",
       "      <th>NOTE_TXT</th>\n",
       "      <th>Campaign_tags</th>\n",
       "      <th>lemmatized</th>\n",
       "      <th>fitted</th>\n",
       "    </tr>\n",
       "  </thead>\n",
       "  <tbody>\n",
       "    <tr>\n",
       "      <th>77</th>\n",
       "      <td>155</td>\n",
       "      <td>115735</td>\n",
       "      <td>True</td>\n",
       "      <td>Tue Oct 31 22:00:46 +0000 2017</td>\n",
       "      <td>@ChipotleTweets Thank you @ChipotleTweets for ...</td>\n",
       "      <td>154</td>\n",
       "      <td>156.0</td>\n",
       "      <td>Thank you  for resolving my issue so quickly!...</td>\n",
       "      <td>[#fanforlife]</td>\n",
       "      <td>[thank, resolve, issue, quickly, best, fanforl...</td>\n",
       "      <td>[(9, 0.84115344), (0, 0.034746982), (1, 0.0258...</td>\n",
       "    </tr>\n",
       "  </tbody>\n",
       "</table>\n",
       "</div>"
      ],
      "text/plain": [
       "    tweet_id author_id  inbound                      created_at  \\\n",
       "77       155    115735     True  Tue Oct 31 22:00:46 +0000 2017   \n",
       "\n",
       "                                                 text response_tweet_id  \\\n",
       "77  @ChipotleTweets Thank you @ChipotleTweets for ...               154   \n",
       "\n",
       "    in_response_to_tweet_id  \\\n",
       "77                    156.0   \n",
       "\n",
       "                                             NOTE_TXT  Campaign_tags  \\\n",
       "77   Thank you  for resolving my issue so quickly!...  [#fanforlife]   \n",
       "\n",
       "                                           lemmatized  \\\n",
       "77  [thank, resolve, issue, quickly, best, fanforl...   \n",
       "\n",
       "                                               fitted  \n",
       "77  [(9, 0.84115344), (0, 0.034746982), (1, 0.0258...  "
      ]
     },
     "execution_count": 254,
     "metadata": {},
     "output_type": "execute_result"
    },
    {
     "data": {
      "text/html": [
       "<div>\n",
       "<style scoped>\n",
       "    .dataframe tbody tr th:only-of-type {\n",
       "        vertical-align: middle;\n",
       "    }\n",
       "\n",
       "    .dataframe tbody tr th {\n",
       "        vertical-align: top;\n",
       "    }\n",
       "\n",
       "    .dataframe thead th {\n",
       "        text-align: right;\n",
       "    }\n",
       "</style>\n",
       "<table border=\"1\" class=\"dataframe\">\n",
       "  <thead>\n",
       "    <tr style=\"text-align: right;\">\n",
       "      <th></th>\n",
       "      <th>tweet_id</th>\n",
       "      <th>author_id</th>\n",
       "      <th>inbound</th>\n",
       "      <th>created_at</th>\n",
       "      <th>text</th>\n",
       "      <th>response_tweet_id</th>\n",
       "      <th>in_response_to_tweet_id</th>\n",
       "      <th>NOTE_TXT</th>\n",
       "      <th>Campaign_tags</th>\n",
       "      <th>lemmatized</th>\n",
       "      <th>fitted</th>\n",
       "    </tr>\n",
       "  </thead>\n",
       "  <tbody>\n",
       "    <tr>\n",
       "      <th>77</th>\n",
       "      <td>155</td>\n",
       "      <td>115735</td>\n",
       "      <td>True</td>\n",
       "      <td>Tue Oct 31 22:00:46 +0000 2017</td>\n",
       "      <td>@ChipotleTweets Thank you @ChipotleTweets for ...</td>\n",
       "      <td>154</td>\n",
       "      <td>156.0</td>\n",
       "      <td>Thank you  for resolving my issue so quickly!...</td>\n",
       "      <td>[#fanforlife]</td>\n",
       "      <td>[thank, resolve, issue, quickly, best, fanforl...</td>\n",
       "      <td>[(9, 0.84115344), (0, 0.034746982), (1, 0.0258...</td>\n",
       "    </tr>\n",
       "  </tbody>\n",
       "</table>\n",
       "</div>"
      ],
      "text/plain": [
       "    tweet_id author_id  inbound                      created_at  \\\n",
       "77       155    115735     True  Tue Oct 31 22:00:46 +0000 2017   \n",
       "\n",
       "                                                 text response_tweet_id  \\\n",
       "77  @ChipotleTweets Thank you @ChipotleTweets for ...               154   \n",
       "\n",
       "    in_response_to_tweet_id  \\\n",
       "77                    156.0   \n",
       "\n",
       "                                             NOTE_TXT  Campaign_tags  \\\n",
       "77   Thank you  for resolving my issue so quickly!...  [#fanforlife]   \n",
       "\n",
       "                                           lemmatized  \\\n",
       "77  [thank, resolve, issue, quickly, best, fanforl...   \n",
       "\n",
       "                                               fitted  \n",
       "77  [(9, 0.84115344), (0, 0.034746982), (1, 0.0258...  "
      ]
     },
     "execution_count": 254,
     "metadata": {},
     "output_type": "execute_result"
    }
   ],
   "source": [
    "train_ds_grp_clean['fitted'] = full_corpus_fitted\n",
    "Final_df_fullcorpus = train_ds_grp_clean.copy()\n",
    "\n",
    "train_ds_grp_clean[1:2]\n",
    "Final_df_fullcorpus[1:2]"
   ]
  },
  {
   "cell_type": "code",
   "execution_count": 255,
   "metadata": {},
   "outputs": [],
   "source": [
    "Final_df_fullcorpus[['RC_1', 'RC_2','RC_3']] = pd.DataFrame(Final_df_fullcorpus['fitted'].values.tolist(), \n",
    "                                             index= Final_df_fullcorpus.index, columns=['RC_1', 'RC_2','RC_3'])\n",
    "\n",
    "\n",
    "\n",
    "Final_df_fullcorpus[['RC1', 'RC1_prob']] = pd.DataFrame(Final_df_fullcorpus['RC_1'].values.tolist(), \n",
    "                                             index= Final_df_fullcorpus.index, columns=['RC1', 'RC1_prob'])"
   ]
  },
  {
   "cell_type": "code",
   "execution_count": 256,
   "metadata": {},
   "outputs": [],
   "source": [
    "Final_df_fullcorpus['RC_2'].fillna('na',inplace=True)\n",
    "Final_df_fullcorpus['RC_3'].fillna('na',inplace=True)"
   ]
  },
  {
   "cell_type": "code",
   "execution_count": 257,
   "metadata": {},
   "outputs": [],
   "source": [
    "Final_df_fullcorpus[['RC2', 'RC2_prob']] = pd.DataFrame(Final_df_fullcorpus['RC_2'].values.tolist(), \n",
    "                                             index= Final_df_fullcorpus.index, columns=['RC2', 'RC_prob'])\n",
    "\n",
    "\n",
    "\n",
    "Final_df_fullcorpus[['RC3', 'RC3_prob']] = pd.DataFrame(Final_df_fullcorpus['RC_3'].values.tolist(), \n",
    "                                             index= Final_df_fullcorpus.index, columns=['RC_3', 'RC3_prob'])"
   ]
  },
  {
   "cell_type": "code",
   "execution_count": 258,
   "metadata": {},
   "outputs": [],
   "source": [
    "Final_df_fullcorpus.drop(columns = ['fitted','RC_1','RC_2','RC_3'],inplace = True)\n",
    "\n",
    "topic_df_dict =  dict(zip(topic_ids, topic_names))\n",
    "\n",
    "Final_df_fullcorpus['RC1'] = Final_df_fullcorpus.RC1.map(topic_df_dict)\n",
    "Final_df_fullcorpus['RC2'] = Final_df_fullcorpus.RC2.map(topic_df_dict)\n",
    "Final_df_fullcorpus['RC3'] = Final_df_fullcorpus.RC3.map(topic_df_dict)\n"
   ]
  },
  {
   "cell_type": "code",
   "execution_count": 259,
   "metadata": {},
   "outputs": [],
   "source": [
    "Final_df_fullcorpus.to_csv(\"Final_df_fullcorpus.csv\",index=False)"
   ]
  },
  {
   "cell_type": "code",
   "execution_count": null,
   "metadata": {},
   "outputs": [],
   "source": []
  }
 ],
 "metadata": {
  "kernelspec": {
   "display_name": "Python 3",
   "language": "python",
   "name": "python3"
  },
  "language_info": {
   "codemirror_mode": {
    "name": "ipython",
    "version": 3
   },
   "file_extension": ".py",
   "mimetype": "text/x-python",
   "name": "python",
   "nbconvert_exporter": "python",
   "pygments_lexer": "ipython3",
   "version": "3.7.6"
  }
 },
 "nbformat": 4,
 "nbformat_minor": 4
}
